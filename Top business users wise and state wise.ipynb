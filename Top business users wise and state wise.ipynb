{
 "cells": [
  {
   "cell_type": "code",
   "execution_count": 2,
   "metadata": {},
   "outputs": [],
   "source": [
    "import pandas as pd\n",
    "import numpy as np\n",
    "\n",
    "states = [\"AL\", \"AK\", \"AZ\", \"AR\", \"CA\", \"CO\", \"CT\", \"DC\", \"DE\", \"FL\", \"GA\", \n",
    "          \"HI\", \"ID\", \"IL\", \"IN\", \"IA\", \"KS\", \"KY\", \"LA\", \"ME\", \"MD\", \n",
    "          \"MA\", \"MI\", \"MN\", \"MS\", \"MO\", \"MT\", \"NE\", \"NV\", \"NH\", \"NJ\", \n",
    "          \"NM\", \"NY\", \"NC\", \"ND\", \"OH\", \"OK\", \"OR\", \"PA\", \"RI\", \"SC\", \n",
    "          \"SD\", \"TN\", \"TX\", \"UT\", \"VT\", \"VA\", \"WA\", \"WV\", \"WI\", \"WY\"]"
   ]
  },
  {
   "cell_type": "code",
   "execution_count": 3,
   "metadata": {},
   "outputs": [],
   "source": [
    "review_score_data = pd.read_csv('./dataset_csv/review_with_score.csv')\n",
    "user_rank_data = pd.read_csv('./dataset_csv/user_ranking_new.csv')"
   ]
  },
  {
   "cell_type": "code",
   "execution_count": 4,
   "metadata": {},
   "outputs": [],
   "source": [
    "review_score_data = review_score_data[['text', 'useful', 'business_id', 'cool', 'review_id', 'date', 'stars', \n",
    "                                          'funny', 'user_id', 'sentiment_score']]"
   ]
  },
  {
   "cell_type": "code",
   "execution_count": 5,
   "metadata": {},
   "outputs": [],
   "source": [
    "users = []\n",
    "for user in review_score_data['user_id']:\n",
    "    user = user.split(\"'\")[1]\n",
    "    users.append(user)\n",
    "    \n",
    "review_score_data['user_id'] = users"
   ]
  },
  {
   "cell_type": "code",
   "execution_count": 6,
   "metadata": {},
   "outputs": [],
   "source": [
    "merged_data = pd.merge(user_rank_data,review_score_data,on='user_id')"
   ]
  },
  {
   "cell_type": "code",
   "execution_count": 7,
   "metadata": {},
   "outputs": [],
   "source": [
    "users = []\n",
    "for user in merged_data['business_id']:\n",
    "    user = user.split(\"'\")[1]\n",
    "    users.append(user)\n",
    "    \n",
    "merged_data['business_id'] = users"
   ]
  },
  {
   "cell_type": "code",
   "execution_count": 8,
   "metadata": {},
   "outputs": [],
   "source": [
    "restaurant_data = pd.read_csv('./filtered_categories_csv/restaurants_food.csv', encoding = \"ISO-8859-1\")\n",
    "shopping_data = pd.read_csv('./filtered_categories_csv/shopping.csv', encoding = \"ISO-8859-1\")\n",
    "health_data = pd.read_csv('./filtered_categories_csv/healthnmedical.csv', encoding = \"ISO-8859-1\")\n",
    "home_data = pd.read_csv('./filtered_categories_csv/homeservice.csv', encoding = \"ISO-8859-1\")\n",
    "beauty_data = pd.read_csv('./filtered_categories_csv/beautynspa.csv', encoding = \"ISO-8859-1\")"
   ]
  },
  {
   "cell_type": "code",
   "execution_count": 9,
   "metadata": {},
   "outputs": [
    {
     "name": "stdout",
     "output_type": "stream",
     "text": [
      "['Unnamed: 0', 'user_id', 'review_count', 'yelping_since', 'useful_x', 'fans', 'elite_count', 'compliment_count', 'months_since', 'final_score', 'text', 'useful_y', 'business_id', 'cool', 'review_id', 'date', 'stars', 'funny', 'sentiment_score']\n",
      "['user_id', 'review_count', 'yelping_since', 'useful_x', 'fans', 'elite_count', 'compliment_count', 'months_since', 'final_score', 'text', 'useful_y', 'business_id', 'cool', 'review_id', 'date', 'stars', 'funny', 'sentiment_score']\n"
     ]
    }
   ],
   "source": [
    "print(merged_data.columns.values.tolist())\n",
    "merged_cols = merged_data.columns.values.tolist()[1:]\n",
    "print(merged_cols)"
   ]
  },
  {
   "cell_type": "code",
   "execution_count": 10,
   "metadata": {},
   "outputs": [],
   "source": [
    "merged_data = merged_data[merged_cols]"
   ]
  },
  {
   "cell_type": "code",
   "execution_count": 11,
   "metadata": {},
   "outputs": [
    {
     "name": "stdout",
     "output_type": "stream",
     "text": [
      "(79395, 16) (27971, 16) (14230, 16) (16205, 16) (17014, 16)\n"
     ]
    }
   ],
   "source": [
    "print(restaurant_data.shape, shopping_data.shape, health_data.shape, home_data.shape, beauty_data.shape)"
   ]
  },
  {
   "cell_type": "code",
   "execution_count": null,
   "metadata": {},
   "outputs": [],
   "source": []
  },
  {
   "cell_type": "code",
   "execution_count": 12,
   "metadata": {},
   "outputs": [],
   "source": [
    "def topUsersCategories(merged_data, category_data, business_category):\n",
    "    final_merged = pd.merge(category_data, merged_data, on='business_id')\n",
    "    final_merged.sort_values(['final_score', 'sentiment_score'], ascending=False, inplace=True)\n",
    "    top_users = final_merged['user_id'].unique().tolist()[:10]\n",
    "    business_type = [business_category] * 10\n",
    "    top_user_data = pd.DataFrame({'user_id': top_users,\n",
    "                                 'business_category': business_type})\n",
    "    top_user_data.to_csv('./filtered_categories_csv/US_top_users.csv', mode='a', header=None)"
   ]
  },
  {
   "cell_type": "code",
   "execution_count": 22,
   "metadata": {},
   "outputs": [],
   "source": [
    "topUsersCategories(merged_data, restaurant_data, \"Restaurant\")\n",
    "topUsersCategories(merged_data, shopping_data, \"Shopping\")\n",
    "topUsersCategories(merged_data, home_data, \"Home & Service\")\n",
    "topUsersCategories(merged_data, health_data, \"Health & Medical\")\n",
    "topUsersCategories(merged_data, beauty_data, \"Beauty & Spa\")"
   ]
  },
  {
   "cell_type": "code",
   "execution_count": 12,
   "metadata": {},
   "outputs": [],
   "source": [
    "state_map = {'Alabama': 'AL',\n",
    "    'Alaska': 'AK',\n",
    "    'Arizona': 'AZ',\n",
    "    'Arkansas': 'AR',\n",
    "    'California': 'CA',\n",
    "    'Colorado': 'CO',\n",
    "    'Connecticut': 'CT',\n",
    "    'Washington District of Columbia': 'DC',\n",
    "    'Delaware': 'DE',\n",
    "    'Florida': 'FL',\n",
    "    'Georgia': 'GA',\n",
    "    'Hawaii': 'HI',\n",
    "    'Idaho': 'ID',\n",
    "    'Illinois': 'IL',\n",
    "    'Indiana': 'IN',\n",
    "    'Iowa': 'IA',\n",
    "    'Kansas': 'KS',\n",
    "    'Kentucky': 'KY',\n",
    "    'Louisiana': 'LA',\n",
    "    'Maine': 'ME',\n",
    "    'Maryland': 'MD',\n",
    "    'Massachusetts': 'MA',\n",
    "    'Michigan': 'MI',\n",
    "    'Minnesota': 'MN',\n",
    "    'Mississippi': 'MS',\n",
    "    'Missouri': 'MO',\n",
    "    'Montana': 'MT',\n",
    "    'Nebraska': 'NE',\n",
    "    'Nevada': 'NV',\n",
    "    'New Hampshire': 'NH',\n",
    "    'New Jersey': 'NJ',\n",
    "    'New Mexico': 'NM',\n",
    "    'New York': 'NY',\n",
    "    'North Carolina': 'NC',\n",
    "    'North Dakota': 'ND',\n",
    "    'Ohio': 'OH',\n",
    "    'Oklahoma': 'OK',\n",
    "    'Oregon': 'OR',\n",
    "    'Pennsylvania': 'PA',\n",
    "    'Rhode Island': 'RI',\n",
    "    'South Carolina': 'SC',\n",
    "    'South Dakota': 'SD',\n",
    "    'Tennessee': 'TN',\n",
    "    'Texas': 'TX',\n",
    "    'Utah': 'UT',\n",
    "    'Vermont': 'VT',\n",
    "    'Virginia': 'VA',\n",
    "    'Washington': 'WA',\n",
    "    'West Virginia': 'WV',\n",
    "    'Wisconsin': 'WI',\n",
    "    'Wyoming': 'WY'}"
   ]
  },
  {
   "cell_type": "code",
   "execution_count": 79,
   "metadata": {},
   "outputs": [],
   "source": [
    "import itertools\n",
    "def topUsersCategories(merged_data, category_data, business_category):\n",
    "    final_merged = pd.merge(category_data, merged_data, on='business_id')\n",
    "    final_merged.sort_values(['final_score'], ascending=False, inplace=True)\n",
    "    for state in states:\n",
    "        state_top_users = final_merged[final_merged['state'] == state]['user_id'].unique().tolist()[:10] \n",
    "        business_id = []\n",
    "        for user in state_top_users:\n",
    "            bid = final_merged[final_merged['user_id'] == user].sort_values(['sentiment_score'], \n",
    "                                                                                     ascending=False)['business_id'].tolist()[0]\n",
    "            business_id.append(bid)\n",
    "        \"\"\"if len(business_id) < 10:\n",
    "            business_id += [''] * (10 - len(business_id))\"\"\"\n",
    "        business_type = [business_category] * 10\n",
    "        state_name = list(state_map.keys())[list(state_map.values()).index(state)]\n",
    "        state_list = [state_name] * 10\n",
    "        state_abr = [state] * 10\n",
    "        #print(len(business_id), len(business_type), len(state_list), len(state_top_users))\n",
    "        final_list = [state_top_users, business_id, business_type, state_list, state_abr]\n",
    "        state_data = pd.DataFrame((x for x in itertools.zip_longest(*final_list)), columns=['state_top_users', 'business_id', \n",
    "                                                                                            'business_type', 'state', 'state_abr'])\n",
    "        state_data.to_csv('./filtered_categories_csv/US_top_statewise_users_new.csv', mode='a', header=None)"
   ]
  },
  {
   "cell_type": "code",
   "execution_count": null,
   "metadata": {},
   "outputs": [],
   "source": []
  },
  {
   "cell_type": "code",
   "execution_count": 80,
   "metadata": {},
   "outputs": [],
   "source": [
    "topUsersCategories(merged_data, restaurant_data, \"Restaurant\")\n",
    "topUsersCategories(merged_data, shopping_data, \"Shopping\")\n",
    "topUsersCategories(merged_data, home_data, \"Home & Service\")\n",
    "topUsersCategories(merged_data, health_data, \"Health & Medical\")\n",
    "topUsersCategories(merged_data, beauty_data, \"Beauty & Spa\")"
   ]
  },
  {
   "cell_type": "code",
   "execution_count": 11,
   "metadata": {},
   "outputs": [],
   "source": [
    "us_state_data = pd.read_csv('./filtered_categories_csv/US_top_statewise_users.csv')\n",
    "us_top_data = pd.read_csv('./filtered_categories_csv/US_top_users.csv')"
   ]
  },
  {
   "cell_type": "code",
   "execution_count": 24,
   "metadata": {},
   "outputs": [],
   "source": [
    "user_main_data = pd.read_csv('./dataset_csv/user.csv')"
   ]
  },
  {
   "cell_type": "code",
   "execution_count": 13,
   "metadata": {},
   "outputs": [
    {
     "name": "stdout",
     "output_type": "stream",
     "text": [
      "339 26 365\n"
     ]
    }
   ],
   "source": [
    "list1 = us_state_data['user_id'].unique().tolist()\n",
    "list2 = us_top_data['user_id'].unique().tolist()\n",
    "total_users = list1 + list2\n",
    "print(len(list1), len(list2), len(total_users))"
   ]
  },
  {
   "cell_type": "code",
   "execution_count": 25,
   "metadata": {},
   "outputs": [],
   "source": [
    "user_ids = []\n",
    "for user in user_main_data['user_id']:\n",
    "    user = user.split(\"'\")[1]\n",
    "    user_ids.append(user)\n",
    "\n",
    "user_main_data['user_id'] = user_ids\n",
    "\n",
    "names = []\n",
    "for name in user_main_data['name']:\n",
    "    name = name.split(\"'\")[1]\n",
    "    names.append(name)\n",
    "    \n",
    "user_main_data['name'] = names"
   ]
  },
  {
   "cell_type": "code",
   "execution_count": 68,
   "metadata": {},
   "outputs": [],
   "source": [
    "user_rank_data.sort_values(['final_score'], ascending=False, inplace=True)"
   ]
  },
  {
   "cell_type": "code",
   "execution_count": 69,
   "metadata": {},
   "outputs": [],
   "source": [
    "all_users = user_rank_data[user_rank_data['user_id'].isin(total_users)]"
   ]
  },
  {
   "cell_type": "code",
   "execution_count": 70,
   "metadata": {},
   "outputs": [
    {
     "data": {
      "text/plain": [
       "(338, 10)"
      ]
     },
     "execution_count": 70,
     "metadata": {},
     "output_type": "execute_result"
    }
   ],
   "source": [
    "all_users.shape"
   ]
  },
  {
   "cell_type": "code",
   "execution_count": 71,
   "metadata": {},
   "outputs": [
    {
     "name": "stdout",
     "output_type": "stream",
     "text": [
      "['Unnamed: 0', 'user_id', 'review_count', 'yelping_since', 'useful', 'fans', 'elite_count', 'compliment_count', 'months_since', 'final_score']\n"
     ]
    }
   ],
   "source": [
    "col_list = all_users.columns.values.tolist()\n",
    "print(all_users.columns.values.tolist())"
   ]
  },
  {
   "cell_type": "code",
   "execution_count": 72,
   "metadata": {},
   "outputs": [],
   "source": [
    "col_list = col_list[1:]"
   ]
  },
  {
   "cell_type": "code",
   "execution_count": 73,
   "metadata": {},
   "outputs": [],
   "source": [
    "all_users = all_users[col_list]"
   ]
  },
  {
   "cell_type": "code",
   "execution_count": 74,
   "metadata": {},
   "outputs": [
    {
     "name": "stdout",
     "output_type": "stream",
     "text": [
      "338\n"
     ]
    }
   ],
   "source": [
    "user_names = []\n",
    "for user in all_users['user_id']:\n",
    "    username = user_main_data[user_main_data['user_id'] == user]['name'].tolist()[0]\n",
    "    user_names.append(username)\n",
    "print(len(user_names))"
   ]
  },
  {
   "cell_type": "code",
   "execution_count": 75,
   "metadata": {},
   "outputs": [],
   "source": [
    "all_users['name'] = user_names"
   ]
  },
  {
   "cell_type": "code",
   "execution_count": 79,
   "metadata": {},
   "outputs": [],
   "source": [
    "all_users = all_users[['user_id', 'name', 'review_count', 'yelping_since', 'useful', 'fans', 'elite_count', \n",
    "                       'compliment_count', 'months_since', 'final_score']]"
   ]
  },
  {
   "cell_type": "code",
   "execution_count": 80,
   "metadata": {},
   "outputs": [],
   "source": [
    "all_users.to_csv('./filtered_categories_csv/US_all_users.csv')"
   ]
  },
  {
   "cell_type": "code",
   "execution_count": 26,
   "metadata": {},
   "outputs": [
    {
     "name": "stdout",
     "output_type": "stream",
     "text": [
      "(174567, 15)\n"
     ]
    }
   ],
   "source": [
    "business_json_data = None\n",
    "with open('./dataset/business.json', encoding='utf-8') as data:\n",
    "    business_json_data = data.readlines()\n",
    "    \n",
    "business_json_data = map(lambda x: x.rstrip(), business_json_data)\n",
    "\n",
    "data_str = \"[\" + \",\".join(business_json_data) + \"]\"\n",
    "\n",
    "business_data = pd.read_json(data_str)\n",
    "\n",
    "print(business_data.shape)"
   ]
  },
  {
   "cell_type": "code",
   "execution_count": 83,
   "metadata": {},
   "outputs": [],
   "source": [
    "b_ids = us_state_data['business_id'].unique().tolist()"
   ]
  },
  {
   "cell_type": "code",
   "execution_count": 85,
   "metadata": {},
   "outputs": [],
   "source": [
    "all_business = business_data[business_data['business_id'].isin(b_ids)]"
   ]
  },
  {
   "cell_type": "code",
   "execution_count": 88,
   "metadata": {},
   "outputs": [
    {
     "data": {
      "text/plain": [
       "(360, 15)"
      ]
     },
     "execution_count": 88,
     "metadata": {},
     "output_type": "execute_result"
    }
   ],
   "source": [
    "all_business.shape"
   ]
  },
  {
   "cell_type": "code",
   "execution_count": 89,
   "metadata": {},
   "outputs": [],
   "source": [
    "all_business.to_csv('./filtered_categories_csv/US_all_business.csv')"
   ]
  },
  {
   "cell_type": "code",
   "execution_count": 12,
   "metadata": {},
   "outputs": [],
   "source": [
    "from ast import literal_eval\n",
    "cat_list_rest = []\n",
    "for item in restaurant_data['categories']:\n",
    "    item = literal_eval(item)\n",
    "    cat_list_rest.append(item)\n",
    "restaurant_data['categories'] = cat_list_rest\n",
    "\n",
    "cat_list_shop = []\n",
    "for item in shopping_data['categories']:\n",
    "    item = literal_eval(item)\n",
    "    cat_list_shop.append(item)\n",
    "shopping_data['categories'] = cat_list_shop\n",
    "\n",
    "cat_list_beauty = []\n",
    "for item in beauty_data['categories']:\n",
    "    item = literal_eval(item)\n",
    "    cat_list_beauty.append(item)\n",
    "beauty_data['categories'] = cat_list_beauty\n",
    "    \n",
    "cat_list_home = []\n",
    "for item in home_data['categories']:\n",
    "    item = literal_eval(item)\n",
    "    cat_list_home.append(item)\n",
    "home_data['categories'] = cat_list_home    \n",
    "\n",
    "cat_list_health = []\n",
    "for item in health_data['categories']:\n",
    "    item = literal_eval(item)\n",
    "    cat_list_health.append(item)\n",
    "health_data['categories'] = cat_list_health"
   ]
  },
  {
   "cell_type": "code",
   "execution_count": 13,
   "metadata": {},
   "outputs": [],
   "source": [
    "from collections import Counter"
   ]
  },
  {
   "cell_type": "code",
   "execution_count": 14,
   "metadata": {},
   "outputs": [],
   "source": [
    "all_users = pd.read_csv('./filtered_categories_csv/US_all_users.csv')"
   ]
  },
  {
   "cell_type": "code",
   "execution_count": 15,
   "metadata": {},
   "outputs": [],
   "source": [
    "users_list = all_users['user_id'].unique().tolist()"
   ]
  },
  {
   "cell_type": "code",
   "execution_count": null,
   "metadata": {},
   "outputs": [],
   "source": []
  },
  {
   "cell_type": "code",
   "execution_count": null,
   "metadata": {},
   "outputs": [],
   "source": [
    "temp = sum(restaurant_data.categories, [])\n",
    "cate_count = Counter(temp)\n",
    "most_common = cate_count.most_common(4)"
   ]
  },
  {
   "cell_type": "code",
   "execution_count": 18,
   "metadata": {},
   "outputs": [
    {
     "name": "stdout",
     "output_type": "stream",
     "text": [
      "[('Restaurants', 64966), ('Food', 35125), ('Nightlife', 9068)]\n"
     ]
    }
   ],
   "source": [
    "print(most_common)"
   ]
  },
  {
   "cell_type": "code",
   "execution_count": 16,
   "metadata": {},
   "outputs": [],
   "source": [
    "def user_category_count(merged_data, category_data, category):\n",
    "    final_merged = pd.merge(category_data, merged_data, on='business_id')\n",
    "    index = 1\n",
    "    sub_cat_food = \"Food\"\n",
    "    for user in users_list:\n",
    "        user_data = final_merged[final_merged['user_id'] == user]\n",
    "        temp = sum(user_data.categories, [])\n",
    "        cate_count = Counter(temp)\n",
    "        main_common = cate_count.most_common(20)\n",
    "        sub_cat1 = []\n",
    "        sub_cat1_type = []\n",
    "        if len(main_common) > 3:\n",
    "            for x in main_common:\n",
    "                if category == \"Restaurants\":\n",
    "                    if (x[0] != \"Food\" and x[0] != \"Restaurants\") and (len(sub_cat1) != 3 and len(sub_cat1_type) != 3):\n",
    "                        sub_cat1.append(x[0])\n",
    "                        sub_cat1_type.append(x[1])\n",
    "                else:\n",
    "                    if x[0] != category and (len(sub_cat1) != 3 and len(sub_cat1_type) != 3):\n",
    "                        sub_cat1.append(x[0])\n",
    "                        sub_cat1_type.append(x[1])\n",
    "            #print(user, sub_cat1, sub_cat1_type, len(main_common))\n",
    "            #print(len(sub_cat1), len(sub_cat1_type))\n",
    "            if len(sub_cat1) != 3 and len(sub_cat1_type) != 3 :\n",
    "                sub_cat1 = sub_cat1 + [None]*(3-len(sub_cat1))\n",
    "                sub_cat1_type = sub_cat1_type + [0]*(3-len(sub_cat1_type))\n",
    "            cat_count_data = pd.DataFrame({'user_id': user, 'business_main_category': category,\n",
    "                                          'sub_category1': sub_cat1[0], \n",
    "                                            'sub_category1_count': sub_cat1_type[0], \n",
    "                                          'sub_category2': sub_cat1[1], \n",
    "                                            'sub_category2_count': sub_cat1_type[1], \n",
    "                                          'sub_category3': sub_cat1[2], \n",
    "                                            'sub_category3_count': sub_cat1_type[2] }\n",
    "                                                            , index=[index])\n",
    "            cat_count_data.to_csv('./filtered_categories_csv/US_user_cat_count.csv', mode='a', header=None)\n",
    "        index = index + 1"
   ]
  },
  {
   "cell_type": "code",
   "execution_count": 17,
   "metadata": {
    "scrolled": true
   },
   "outputs": [],
   "source": [
    "user_category_count(merged_data, restaurant_data, \"Restaurants\")\n",
    "user_category_count(merged_data, shopping_data, \"Shopping\")\n",
    "user_category_count(merged_data, home_data, \"Home Services\")\n",
    "user_category_count(merged_data, health_data, \"Health & Medical\")\n",
    "user_category_count(merged_data, beauty_data, \"Beauty & Spas\")"
   ]
  },
  {
   "cell_type": "code",
   "execution_count": 13,
   "metadata": {},
   "outputs": [],
   "source": [
    "all_businesses = pd.read_csv('./filtered_categories_csv/US_all_business.csv')\n",
    "map_data = pd.read_csv('./filtered_categories_csv/US_top_statewise_users_new.csv')"
   ]
  },
  {
   "cell_type": "code",
   "execution_count": 14,
   "metadata": {},
   "outputs": [
    {
     "name": "stdout",
     "output_type": "stream",
     "text": [
      "(360, 16) (4881, 33)\n"
     ]
    }
   ],
   "source": [
    "print(all_businesses.shape, map_data.shape)"
   ]
  },
  {
   "cell_type": "code",
   "execution_count": 20,
   "metadata": {},
   "outputs": [],
   "source": [
    "map_data = map_data[['user_id', 'business_id', 'full_state', 'state']]"
   ]
  },
  {
   "cell_type": "code",
   "execution_count": 25,
   "metadata": {},
   "outputs": [
    {
     "data": {
      "text/plain": [
       "(4881, 4)"
      ]
     },
     "execution_count": 25,
     "metadata": {},
     "output_type": "execute_result"
    }
   ],
   "source": [
    "map_data.shape"
   ]
  },
  {
   "cell_type": "code",
   "execution_count": 30,
   "metadata": {},
   "outputs": [
    {
     "name": "stdout",
     "output_type": "stream",
     "text": [
      "(4881, 13)\n"
     ]
    }
   ],
   "source": [
    "joined_data = pd.merge(map_data, user_rank_data, how='left', on='user_id')\n",
    "print(joined_data.shape)"
   ]
  },
  {
   "cell_type": "code",
   "execution_count": 31,
   "metadata": {},
   "outputs": [
    {
     "data": {
      "text/plain": [
       "user_id             2022\n",
       "business_id         2054\n",
       "full_state             0\n",
       "state                  0\n",
       "Unnamed: 0          4356\n",
       "review_count        4356\n",
       "yelping_since       4356\n",
       "useful              4356\n",
       "fans                4356\n",
       "elite_count         4356\n",
       "compliment_count    4356\n",
       "months_since        4356\n",
       "final_score         4356\n",
       "dtype: int64"
      ]
     },
     "execution_count": 31,
     "metadata": {},
     "output_type": "execute_result"
    }
   ],
   "source": [
    "joined_data.isnull().sum()"
   ]
  },
  {
   "cell_type": "code",
   "execution_count": 27,
   "metadata": {},
   "outputs": [
    {
     "name": "stdout",
     "output_type": "stream",
     "text": [
      "362\n"
     ]
    }
   ],
   "source": [
    "print(len(map_data['business_id'].unique().tolist()))"
   ]
  },
  {
   "cell_type": "code",
   "execution_count": 28,
   "metadata": {},
   "outputs": [],
   "source": [
    "merge_temp = pd.merge(map_data, all_businesses, on='business_id')"
   ]
  },
  {
   "cell_type": "code",
   "execution_count": 33,
   "metadata": {},
   "outputs": [],
   "source": [
    "merge_final = pd.merge(merge_temp, all_users, on='user_id')"
   ]
  },
  {
   "cell_type": "code",
   "execution_count": 35,
   "metadata": {},
   "outputs": [
    {
     "name": "stdout",
     "output_type": "stream",
     "text": [
      "['Unnamed: 0_x', 'user_id', 'business_id', 'business_category', 'state_x', 'Unnamed: 0_y', 'address', 'attributes', 'categories', 'city', 'hours', 'is_open', 'latitude', 'longitude', 'name_x', 'neighborhood', 'postal_code', 'review_count_x', 'stars', 'state_y', 'Unnamed: 0', 'name_y', 'review_count_y', 'yelping_since', 'useful', 'fans', 'elite_count', 'compliment_count', 'months_since', 'final_score']\n"
     ]
    }
   ],
   "source": [
    "print(merge_final.columns.values.tolist())\n",
    "final_merge_cols = merge_final.columns.values.tolist()"
   ]
  },
  {
   "cell_type": "code",
   "execution_count": 36,
   "metadata": {},
   "outputs": [],
   "source": [
    "final_merge_cols.remove('Unnamed: 0_x')\n",
    "final_merge_cols.remove('Unnamed: 0_y')\n",
    "final_merge_cols.remove('Unnamed: 0')"
   ]
  },
  {
   "cell_type": "code",
   "execution_count": 37,
   "metadata": {},
   "outputs": [
    {
     "name": "stdout",
     "output_type": "stream",
     "text": [
      "['user_id', 'business_id', 'business_category', 'state_x', 'address', 'attributes', 'categories', 'city', 'hours', 'is_open', 'latitude', 'longitude', 'name_x', 'neighborhood', 'postal_code', 'review_count_x', 'stars', 'state_y', 'name_y', 'review_count_y', 'yelping_since', 'useful', 'fans', 'elite_count', 'compliment_count', 'months_since', 'final_score']\n"
     ]
    }
   ],
   "source": [
    "print(final_merge_cols)"
   ]
  },
  {
   "cell_type": "code",
   "execution_count": 38,
   "metadata": {},
   "outputs": [],
   "source": [
    "merge_final = merge_final[final_merge_cols]"
   ]
  },
  {
   "cell_type": "code",
   "execution_count": 39,
   "metadata": {},
   "outputs": [],
   "source": [
    "merge_final = merge_final.rename(columns={'state_x': 'full_state', 'name_x':'business_name',\n",
    "                                         'review_count_x': 'business_review_count', 'state_y': 'state_small',\n",
    "                                         'name_y': 'username', 'review_count_y': 'user_reviews_count'})"
   ]
  },
  {
   "cell_type": "code",
   "execution_count": 40,
   "metadata": {},
   "outputs": [
    {
     "name": "stdout",
     "output_type": "stream",
     "text": [
      "['user_id', 'business_id', 'business_category', 'full_state', 'address', 'attributes', 'categories', 'city', 'hours', 'is_open', 'latitude', 'longitude', 'business_name', 'neighborhood', 'postal_code', 'business_review_count', 'stars', 'state_small', 'username', 'user_reviews_count', 'yelping_since', 'useful', 'fans', 'elite_count', 'compliment_count', 'months_since', 'final_score']\n"
     ]
    }
   ],
   "source": [
    "print(merge_final.columns.values.tolist())\n"
   ]
  },
  {
   "cell_type": "code",
   "execution_count": 41,
   "metadata": {},
   "outputs": [],
   "source": [
    "merge_final.to_csv('./filtered_categories_csv/US_combined_data.csv')"
   ]
  },
  {
   "cell_type": "code",
   "execution_count": 15,
   "metadata": {},
   "outputs": [],
   "source": [
    "all_businesses = pd.read_csv('./filtered_categories_csv/US_all_business.csv')\n",
    "map_data = pd.read_csv('./filtered_categories_csv/US_top_statewise_users_new.csv')"
   ]
  },
  {
   "cell_type": "code",
   "execution_count": 46,
   "metadata": {},
   "outputs": [
    {
     "name": "stdout",
     "output_type": "stream",
     "text": [
      "1\n"
     ]
    }
   ],
   "source": [
    "print(len(all_businesses[all_businesses['state'] == 'AL']))"
   ]
  },
  {
   "cell_type": "code",
   "execution_count": 50,
   "metadata": {},
   "outputs": [
    {
     "data": {
      "text/html": [
       "<div>\n",
       "<style scoped>\n",
       "    .dataframe tbody tr th:only-of-type {\n",
       "        vertical-align: middle;\n",
       "    }\n",
       "\n",
       "    .dataframe tbody tr th {\n",
       "        vertical-align: top;\n",
       "    }\n",
       "\n",
       "    .dataframe thead th {\n",
       "        text-align: right;\n",
       "    }\n",
       "</style>\n",
       "<table border=\"1\" class=\"dataframe\">\n",
       "  <thead>\n",
       "    <tr style=\"text-align: right;\">\n",
       "      <th></th>\n",
       "      <th>user_id</th>\n",
       "      <th>business_id</th>\n",
       "      <th>business_category</th>\n",
       "      <th>full_state</th>\n",
       "    </tr>\n",
       "  </thead>\n",
       "  <tbody>\n",
       "    <tr>\n",
       "      <th>0</th>\n",
       "      <td>NaN</td>\n",
       "      <td>NaN</td>\n",
       "      <td>Restaurant</td>\n",
       "      <td>Alabama</td>\n",
       "    </tr>\n",
       "    <tr>\n",
       "      <th>1</th>\n",
       "      <td>NaN</td>\n",
       "      <td>NaN</td>\n",
       "      <td>Restaurant</td>\n",
       "      <td>Alabama</td>\n",
       "    </tr>\n",
       "    <tr>\n",
       "      <th>2</th>\n",
       "      <td>NaN</td>\n",
       "      <td>NaN</td>\n",
       "      <td>Restaurant</td>\n",
       "      <td>Alabama</td>\n",
       "    </tr>\n",
       "    <tr>\n",
       "      <th>3</th>\n",
       "      <td>NaN</td>\n",
       "      <td>NaN</td>\n",
       "      <td>Restaurant</td>\n",
       "      <td>Alabama</td>\n",
       "    </tr>\n",
       "    <tr>\n",
       "      <th>4</th>\n",
       "      <td>NaN</td>\n",
       "      <td>NaN</td>\n",
       "      <td>Restaurant</td>\n",
       "      <td>Alabama</td>\n",
       "    </tr>\n",
       "  </tbody>\n",
       "</table>\n",
       "</div>"
      ],
      "text/plain": [
       "  user_id business_id business_category full_state\n",
       "0     NaN         NaN        Restaurant    Alabama\n",
       "1     NaN         NaN        Restaurant    Alabama\n",
       "2     NaN         NaN        Restaurant    Alabama\n",
       "3     NaN         NaN        Restaurant    Alabama\n",
       "4     NaN         NaN        Restaurant    Alabama"
      ]
     },
     "execution_count": 50,
     "metadata": {},
     "output_type": "execute_result"
    }
   ],
   "source": [
    "map_data = map_data[['user_id', 'business_id', 'business_category', 'full_state']]\n",
    "map_data.head()"
   ]
  },
  {
   "cell_type": "code",
   "execution_count": 20,
   "metadata": {},
   "outputs": [],
   "source": [
    "user_score_data = pd.read_csv('./dataset_csv/user_ranking_new.csv')"
   ]
  },
  {
   "cell_type": "code",
   "execution_count": 23,
   "metadata": {},
   "outputs": [
    {
     "name": "stdout",
     "output_type": "stream",
     "text": [
      "(1326100, 10) (1326101, 22)\n"
     ]
    }
   ],
   "source": [
    "print(user_score_data.shape, user_main_data.shape)"
   ]
  },
  {
   "cell_type": "code",
   "execution_count": 34,
   "metadata": {},
   "outputs": [
    {
     "name": "stdout",
     "output_type": "stream",
     "text": [
      "['user_id', 'review_count', 'yelping_since', 'useful', 'fans', 'elite_count', 'compliment_count', 'months_since', 'final_score']\n"
     ]
    }
   ],
   "source": [
    "user_cols = user_score_data.columns.values.tolist()\n",
    "user_cols = user_cols[1:]\n",
    "print(user_cols)\n",
    "user_cols.append('name')"
   ]
  },
  {
   "cell_type": "code",
   "execution_count": 26,
   "metadata": {},
   "outputs": [],
   "source": [
    "user_merged = pd.merge(user_main_data, user_score_data, on=\"user_id\")"
   ]
  },
  {
   "cell_type": "code",
   "execution_count": 36,
   "metadata": {},
   "outputs": [
    {
     "name": "stdout",
     "output_type": "stream",
     "text": [
      "['compliment_hot', 'elite', 'useful_x', 'user_id', 'compliment_more', 'fans_x', 'compliment_note', 'compliment_profile', 'compliment_cool', 'average_stars', 'compliment_cute', 'compliment_funny', 'compliment_photos', 'compliment_list', 'review_count_x', 'compliment_writer', 'cool', 'friends', 'name', 'yelping_since_x', 'funny', 'compliment_plain', 'Unnamed: 0', 'review_count_y', 'yelping_since_y', 'useful_y', 'fans_y', 'elite_count', 'compliment_count', 'months_since', 'final_score']\n"
     ]
    }
   ],
   "source": [
    "print(user_merged.columns.values.tolist())"
   ]
  },
  {
   "cell_type": "code",
   "execution_count": 37,
   "metadata": {},
   "outputs": [],
   "source": [
    "user_merged = user_merged.rename(columns={'fans_y': 'fans', 'useful_y':'useful',\n",
    "                                         'yelping_since_y': 'yelping_since', 'review_count_y': 'review_count'})"
   ]
  },
  {
   "cell_type": "code",
   "execution_count": 38,
   "metadata": {},
   "outputs": [],
   "source": [
    "user_merged = user_merged[user_cols]"
   ]
  },
  {
   "cell_type": "code",
   "execution_count": 39,
   "metadata": {},
   "outputs": [
    {
     "name": "stdout",
     "output_type": "stream",
     "text": [
      "['user_id', 'review_count', 'yelping_since', 'useful', 'fans', 'elite_count', 'compliment_count', 'months_since', 'final_score', 'name']\n"
     ]
    }
   ],
   "source": [
    "print(user_merged.columns.values.tolist())"
   ]
  },
  {
   "cell_type": "code",
   "execution_count": 40,
   "metadata": {},
   "outputs": [],
   "source": [
    "user_merged = user_merged.sort_values(['final_score'], ascending=False)"
   ]
  },
  {
   "cell_type": "code",
   "execution_count": 51,
   "metadata": {},
   "outputs": [
    {
     "name": "stdout",
     "output_type": "stream",
     "text": [
      "(525, 13)\n"
     ]
    }
   ],
   "source": [
    "map_merge = pd.merge(map_data, user_merged, on='user_id')\n",
    "print(map_merge.shape)"
   ]
  },
  {
   "cell_type": "code",
   "execution_count": 54,
   "metadata": {},
   "outputs": [
    {
     "name": "stdout",
     "output_type": "stream",
     "text": [
      "339\n"
     ]
    }
   ],
   "source": [
    "print(len(map_data['user_id'].unique().tolist()))"
   ]
  },
  {
   "cell_type": "code",
   "execution_count": 73,
   "metadata": {},
   "outputs": [
    {
     "data": {
      "text/html": [
       "<div>\n",
       "<style scoped>\n",
       "    .dataframe tbody tr th:only-of-type {\n",
       "        vertical-align: middle;\n",
       "    }\n",
       "\n",
       "    .dataframe tbody tr th {\n",
       "        vertical-align: top;\n",
       "    }\n",
       "\n",
       "    .dataframe thead th {\n",
       "        text-align: right;\n",
       "    }\n",
       "</style>\n",
       "<table border=\"1\" class=\"dataframe\">\n",
       "  <thead>\n",
       "    <tr style=\"text-align: right;\">\n",
       "      <th></th>\n",
       "      <th>user_id</th>\n",
       "      <th>business_id</th>\n",
       "      <th>business_category</th>\n",
       "      <th>full_state</th>\n",
       "      <th>review_count</th>\n",
       "      <th>yelping_since</th>\n",
       "      <th>useful</th>\n",
       "      <th>fans</th>\n",
       "      <th>elite_count</th>\n",
       "      <th>compliment_count</th>\n",
       "      <th>months_since</th>\n",
       "      <th>final_score</th>\n",
       "      <th>name</th>\n",
       "    </tr>\n",
       "  </thead>\n",
       "  <tbody>\n",
       "    <tr>\n",
       "      <th>0</th>\n",
       "      <td>PcvbBOCOcs6_suRDH7TSTg</td>\n",
       "      <td>KCVnCb6TvTzoDp4t-Qf4wQ</td>\n",
       "      <td>Restaurant</td>\n",
       "      <td>Alaska</td>\n",
       "      <td>1071</td>\n",
       "      <td>2012-08-16</td>\n",
       "      <td>20586</td>\n",
       "      <td>159</td>\n",
       "      <td>2</td>\n",
       "      <td>5294</td>\n",
       "      <td>68</td>\n",
       "      <td>2.062390</td>\n",
       "      <td>Juan</td>\n",
       "    </tr>\n",
       "    <tr>\n",
       "      <th>1</th>\n",
       "      <td>H3KluKXf1mp3etCToCJhqg</td>\n",
       "      <td>j3csEfGzkwnXATdRoZDT-A</td>\n",
       "      <td>Restaurant</td>\n",
       "      <td>Alaska</td>\n",
       "      <td>399</td>\n",
       "      <td>2012-06-17</td>\n",
       "      <td>36</td>\n",
       "      <td>10</td>\n",
       "      <td>3</td>\n",
       "      <td>25</td>\n",
       "      <td>70</td>\n",
       "      <td>2.023055</td>\n",
       "      <td>Mike</td>\n",
       "    </tr>\n",
       "    <tr>\n",
       "      <th>2</th>\n",
       "      <td>Cr88dTMP_sfPX0KTIkoO9g</td>\n",
       "      <td>nYxa4JoHZ96kptIZhFlz9w</td>\n",
       "      <td>Restaurant</td>\n",
       "      <td>Alaska</td>\n",
       "      <td>2</td>\n",
       "      <td>2010-11-17</td>\n",
       "      <td>0</td>\n",
       "      <td>0</td>\n",
       "      <td>0</td>\n",
       "      <td>0</td>\n",
       "      <td>89</td>\n",
       "      <td>1.098765</td>\n",
       "      <td>Anthony</td>\n",
       "    </tr>\n",
       "    <tr>\n",
       "      <th>3</th>\n",
       "      <td>UA_PSxcBCxWIycTPcOxzTA</td>\n",
       "      <td>mD7zqv7Y3kvsa_p_MtTayg</td>\n",
       "      <td>Restaurant</td>\n",
       "      <td>Alaska</td>\n",
       "      <td>55</td>\n",
       "      <td>2011-05-13</td>\n",
       "      <td>0</td>\n",
       "      <td>1</td>\n",
       "      <td>0</td>\n",
       "      <td>0</td>\n",
       "      <td>83</td>\n",
       "      <td>1.025119</td>\n",
       "      <td>Trevor</td>\n",
       "    </tr>\n",
       "    <tr>\n",
       "      <th>4</th>\n",
       "      <td>o7g9FHCJ7Rfdwf3UdlB1Dg</td>\n",
       "      <td>0TgBr7wAMQOij6_JP9q3ag</td>\n",
       "      <td>Restaurant</td>\n",
       "      <td>Alaska</td>\n",
       "      <td>13</td>\n",
       "      <td>2012-04-09</td>\n",
       "      <td>1</td>\n",
       "      <td>0</td>\n",
       "      <td>0</td>\n",
       "      <td>0</td>\n",
       "      <td>72</td>\n",
       "      <td>0.888907</td>\n",
       "      <td>Whitney</td>\n",
       "    </tr>\n",
       "  </tbody>\n",
       "</table>\n",
       "</div>"
      ],
      "text/plain": [
       "                  user_id             business_id business_category  \\\n",
       "0  PcvbBOCOcs6_suRDH7TSTg  KCVnCb6TvTzoDp4t-Qf4wQ        Restaurant   \n",
       "1  H3KluKXf1mp3etCToCJhqg  j3csEfGzkwnXATdRoZDT-A        Restaurant   \n",
       "2  Cr88dTMP_sfPX0KTIkoO9g  nYxa4JoHZ96kptIZhFlz9w        Restaurant   \n",
       "3  UA_PSxcBCxWIycTPcOxzTA  mD7zqv7Y3kvsa_p_MtTayg        Restaurant   \n",
       "4  o7g9FHCJ7Rfdwf3UdlB1Dg  0TgBr7wAMQOij6_JP9q3ag        Restaurant   \n",
       "\n",
       "  full_state  review_count yelping_since  useful  fans  elite_count  \\\n",
       "0     Alaska          1071    2012-08-16   20586   159            2   \n",
       "1     Alaska           399    2012-06-17      36    10            3   \n",
       "2     Alaska             2    2010-11-17       0     0            0   \n",
       "3     Alaska            55    2011-05-13       0     1            0   \n",
       "4     Alaska            13    2012-04-09       1     0            0   \n",
       "\n",
       "   compliment_count  months_since  final_score     name  \n",
       "0              5294            68     2.062390     Juan  \n",
       "1                25            70     2.023055     Mike  \n",
       "2                 0            89     1.098765  Anthony  \n",
       "3                 0            83     1.025119   Trevor  \n",
       "4                 0            72     0.888907  Whitney  "
      ]
     },
     "execution_count": 73,
     "metadata": {},
     "output_type": "execute_result"
    }
   ],
   "source": [
    "map_merge.head()"
   ]
  },
  {
   "cell_type": "code",
   "execution_count": 74,
   "metadata": {},
   "outputs": [],
   "source": [
    "final_map_merge = pd.merge(map_merge, business_data, on='business_id')"
   ]
  },
  {
   "cell_type": "code",
   "execution_count": 75,
   "metadata": {},
   "outputs": [
    {
     "data": {
      "text/plain": [
       "(524, 27)"
      ]
     },
     "execution_count": 75,
     "metadata": {},
     "output_type": "execute_result"
    }
   ],
   "source": [
    "final_map_merge.shape"
   ]
  },
  {
   "cell_type": "code",
   "execution_count": 76,
   "metadata": {},
   "outputs": [],
   "source": [
    "final_map_merge = final_map_merge.rename(columns={'name_x':'user_name',\n",
    "                                         'review_count_x': 'user_reviews_count',\n",
    "                                         'name_y': 'business_name', 'review_count_y': 'business_review_count'})"
   ]
  },
  {
   "cell_type": "code",
   "execution_count": 77,
   "metadata": {},
   "outputs": [
    {
     "data": {
      "text/plain": [
       "(524, 27)"
      ]
     },
     "execution_count": 77,
     "metadata": {},
     "output_type": "execute_result"
    }
   ],
   "source": [
    "final_map_merge.shape"
   ]
  },
  {
   "cell_type": "code",
   "execution_count": 78,
   "metadata": {},
   "outputs": [],
   "source": [
    "final_map_merge.to_csv('./filtered_categories_csv/US_combined_new.csv')"
   ]
  },
  {
   "cell_type": "code",
   "execution_count": 14,
   "metadata": {},
   "outputs": [],
   "source": [
    "combined_data = pd.read_csv('./filtered_categories_csv/US_combined_new.csv')"
   ]
  },
  {
   "cell_type": "code",
   "execution_count": 15,
   "metadata": {},
   "outputs": [],
   "source": [
    "combined_data.drop(labels=['full_state'], axis=1, inplace=True)"
   ]
  },
  {
   "cell_type": "code",
   "execution_count": 16,
   "metadata": {},
   "outputs": [
    {
     "data": {
      "text/plain": [
       "(524, 27)"
      ]
     },
     "execution_count": 16,
     "metadata": {},
     "output_type": "execute_result"
    }
   ],
   "source": [
    "combined_data.shape"
   ]
  },
  {
   "cell_type": "code",
   "execution_count": 17,
   "metadata": {},
   "outputs": [],
   "source": [
    "combined_data = combined_data.drop_duplicates(keep=False)"
   ]
  },
  {
   "cell_type": "code",
   "execution_count": 18,
   "metadata": {},
   "outputs": [
    {
     "data": {
      "text/plain": [
       "(524, 27)"
      ]
     },
     "execution_count": 18,
     "metadata": {},
     "output_type": "execute_result"
    }
   ],
   "source": [
    "combined_data.shape"
   ]
  },
  {
   "cell_type": "code",
   "execution_count": 22,
   "metadata": {},
   "outputs": [
    {
     "name": "stdout",
     "output_type": "stream",
     "text": [
      "['Unnamed: 0', 'user_id', 'business_id', 'business_category', 'user_reviews_count', 'yelping_since', 'useful', 'fans', 'elite_count', 'compliment_count', 'months_since', 'final_score', 'user_name', 'address', 'attributes', 'categories', 'city', 'hours', 'is_open', 'latitude', 'longitude', 'business_name', 'neighborhood', 'postal_code', 'business_review_count', 'stars', 'business_state']\n"
     ]
    }
   ],
   "source": [
    "comb_cols = combined_data.columns.values.tolist()\n",
    "print(comb_cols)\n",
    "comb_cols = comb_cols[1:]"
   ]
  },
  {
   "cell_type": "code",
   "execution_count": 23,
   "metadata": {},
   "outputs": [],
   "source": [
    "combined_data = combined_data[comb_cols]"
   ]
  },
  {
   "cell_type": "code",
   "execution_count": 24,
   "metadata": {},
   "outputs": [],
   "source": [
    "combined_data = combined_data.drop_duplicates(keep=False)"
   ]
  },
  {
   "cell_type": "code",
   "execution_count": 25,
   "metadata": {},
   "outputs": [
    {
     "data": {
      "text/plain": [
       "(436, 26)"
      ]
     },
     "execution_count": 25,
     "metadata": {},
     "output_type": "execute_result"
    }
   ],
   "source": [
    "combined_data.shape"
   ]
  },
  {
   "cell_type": "code",
   "execution_count": 26,
   "metadata": {},
   "outputs": [
    {
     "name": "stdout",
     "output_type": "stream",
     "text": [
      "['user_id', 'business_id', 'business_category', 'user_reviews_count', 'yelping_since', 'useful', 'fans', 'elite_count', 'compliment_count', 'months_since', 'final_score', 'user_name', 'address', 'attributes', 'categories', 'city', 'hours', 'is_open', 'latitude', 'longitude', 'business_name', 'neighborhood', 'postal_code', 'business_review_count', 'stars', 'business_state']\n"
     ]
    }
   ],
   "source": [
    "print(combined_data.columns.values.tolist())"
   ]
  },
  {
   "cell_type": "code",
   "execution_count": 28,
   "metadata": {},
   "outputs": [],
   "source": [
    "abr_states = combined_data['business_state'].tolist()"
   ]
  },
  {
   "cell_type": "code",
   "execution_count": 33,
   "metadata": {},
   "outputs": [],
   "source": [
    "combined_data = combined_data[combined_data.business_state.isin(states)]"
   ]
  },
  {
   "cell_type": "code",
   "execution_count": 36,
   "metadata": {},
   "outputs": [
    {
     "name": "stdout",
     "output_type": "stream",
     "text": [
      "424\n"
     ]
    }
   ],
   "source": [
    "final_states = []\n",
    "for s in combined_data['business_state']:\n",
    "    state_name = list(state_map.keys())[list(state_map.values()).index(s)]\n",
    "    final_states.append(state_name)\n",
    "print(len(final_states))"
   ]
  },
  {
   "cell_type": "code",
   "execution_count": 37,
   "metadata": {},
   "outputs": [],
   "source": [
    "combined_data['business_state'] = final_states"
   ]
  },
  {
   "cell_type": "code",
   "execution_count": 30,
   "metadata": {},
   "outputs": [
    {
     "name": "stdout",
     "output_type": "stream",
     "text": [
      "424 436\n"
     ]
    }
   ],
   "source": [
    "print(len(final_states), len(abr_states))"
   ]
  },
  {
   "cell_type": "code",
   "execution_count": null,
   "metadata": {},
   "outputs": [],
   "source": []
  },
  {
   "cell_type": "code",
   "execution_count": 40,
   "metadata": {},
   "outputs": [],
   "source": [
    "combined_data.to_csv('./filtered_categories_csv/final_csv/US_combined.csv')"
   ]
  },
  {
   "cell_type": "code",
   "execution_count": 62,
   "metadata": {},
   "outputs": [],
   "source": [
    "import itertools\n",
    "def topUsersCategoriesNew(merged_data, category_data, business_category):\n",
    "    final_merged = pd.merge(category_data, merged_data, on='business_id')\n",
    "    final_merged.sort_values(['final_score'], ascending=False, inplace=True)\n",
    "    for state in states:\n",
    "        state_top_users = final_merged[final_merged['state'] == state]['user_id'].unique().tolist()[:10] \n",
    "        business_id = []\n",
    "        for user in state_top_users:\n",
    "            business_data = final_merged[final_merged['user_id'] == user].sort_values(['sentiment_score'], \n",
    "                                                                                     ascending=False).iloc[:10, :]\n",
    "            length = business_data.shape[0]\n",
    "            business_data['business_category'] = [business_category] * length\n",
    "            state_name = list(state_map.keys())[list(state_map.values()).index(state)]\n",
    "            business_data['full_state'] = [state_name] * length\n",
    "            business_data.to_csv('./filtered_categories_csv/final_csv/US_top_statewise_data.csv', mode='a', header=None)"
   ]
  },
  {
   "cell_type": "code",
   "execution_count": 63,
   "metadata": {},
   "outputs": [],
   "source": [
    "topUsersCategoriesNew(merged_data, restaurant_data, \"Restaurants\")\n",
    "topUsersCategoriesNew(merged_data, shopping_data, \"Shopping\")\n",
    "topUsersCategoriesNew(merged_data, home_data, \"Home Services\")\n",
    "topUsersCategoriesNew(merged_data, health_data, \"Health & Medical\")\n",
    "topUsersCategoriesNew(merged_data, beauty_data, \"Beauty & Spas\")"
   ]
  },
  {
   "cell_type": "code",
   "execution_count": 61,
   "metadata": {},
   "outputs": [],
   "source": [
    "cols = ['address', 'attributes', 'business_id', 'categories', 'city', 'hours', 'is_open', 'latitude', 'longitude',\n",
    "           'name', 'neighborhood', 'postal_code', 'business_review_counts', 'business_stars', 'state', 'user_id', \n",
    "        'user_review_count', 'yelping_since', 'user_useful_count', 'fans', 'elite_count', 'compliment_count',\n",
    "       'months_since', 'final_score', 'text', 'buisness_review_useful_count', 'cool', 'review_id', 'review_date',\n",
    "       'review_stars', 'funny', 'sentiment_score', 'business_category', 'full_state']"
   ]
  },
  {
   "cell_type": "code",
   "execution_count": 66,
   "metadata": {},
   "outputs": [],
   "source": [
    "US_merge_data = pd.read_csv('./filtered_categories_csv/final_csv/US_top_statewise_data.csv', names=cols)"
   ]
  },
  {
   "cell_type": "code",
   "execution_count": 68,
   "metadata": {},
   "outputs": [],
   "source": [
    "US_merge_data.to_csv('./filtered_categories_csv/final_csv/US_top_statewise_data.csv')"
   ]
  },
  {
   "cell_type": "code",
   "execution_count": 69,
   "metadata": {},
   "outputs": [],
   "source": [
    "US_merge_data = pd.read_csv('./filtered_categories_csv/final_csv/US_top_statewise_data.csv')"
   ]
  },
  {
   "cell_type": "code",
   "execution_count": 72,
   "metadata": {},
   "outputs": [],
   "source": [
    "names = []\n",
    "for name in US_merge_data['review_date']:\n",
    "    name = name.split(\"'\")[1]\n",
    "    names.append(name)\n",
    "    \n",
    "US_merge_data['review_date'] = names"
   ]
  },
  {
   "cell_type": "code",
   "execution_count": 74,
   "metadata": {},
   "outputs": [],
   "source": [
    "new_text = []\n",
    "for text in US_merge_data['text']:\n",
    "    text = text.rstrip()\n",
    "    text = text.replace(\"\\\\n\", \"\")\n",
    "    text = text.replace(\"\\\\\", \"\")\n",
    "    text = text[2:-1]\n",
    "    new_text.append(text)"
   ]
  },
  {
   "cell_type": "code",
   "execution_count": 75,
   "metadata": {},
   "outputs": [],
   "source": [
    "US_merge_data['text'] = new_text"
   ]
  },
  {
   "cell_type": "code",
   "execution_count": 76,
   "metadata": {},
   "outputs": [],
   "source": [
    "US_merge_data.to_csv('./filtered_categories_csv/final_csv/US_top_statewise_data.csv')"
   ]
  },
  {
   "cell_type": "code",
   "execution_count": 87,
   "metadata": {},
   "outputs": [],
   "source": [
    "import itertools\n",
    "def topUsersCategoriesNew2(merged_data, category_data, business_category):\n",
    "    final_merged = pd.merge(category_data, merged_data, on='business_id')\n",
    "    final_merged.sort_values(['final_score'], ascending=False, inplace=True)\n",
    "    final_users = final_merged['user_id'].unique().tolist()[:10]\n",
    "    for user in final_users:\n",
    "        business_data = final_merged[(final_merged['user_id'] == user) & (final_merged['state'].isin(states))]\\\n",
    "        .sort_values(['sentiment_score'], \n",
    "                                        ascending=False).iloc[:10, :]\n",
    "        length = business_data.shape[0]\n",
    "        business_data['business_category'] = [business_category] * length\n",
    "        business_data.to_csv('./filtered_categories_csv/final_csv/US_top_data.csv', mode='a', header=None)"
   ]
  },
  {
   "cell_type": "code",
   "execution_count": 88,
   "metadata": {},
   "outputs": [],
   "source": [
    "topUsersCategoriesNew2(merged_data, restaurant_data, \"Restaurants\")\n",
    "topUsersCategoriesNew2(merged_data, shopping_data, \"Shopping\")\n",
    "topUsersCategoriesNew2(merged_data, home_data, \"Home Services\")\n",
    "topUsersCategoriesNew2(merged_data, health_data, \"Health & Medical\")\n",
    "topUsersCategoriesNew2(merged_data, beauty_data, \"Beauty & Spas\")"
   ]
  },
  {
   "cell_type": "code",
   "execution_count": 89,
   "metadata": {},
   "outputs": [],
   "source": [
    "top_user_data = pd.read_csv('./filtered_categories_csv/US_top_users.csv')\n",
    "all_top_data = pd.read_csv('./filtered_categories_csv/final_csv/US_top_data.csv', names=cols)"
   ]
  },
  {
   "cell_type": "code",
   "execution_count": 90,
   "metadata": {},
   "outputs": [
    {
     "name": "stdout",
     "output_type": "stream",
     "text": [
      "26\n",
      "25\n"
     ]
    }
   ],
   "source": [
    "print(len(top_user_data['user_id'].unique().tolist()))\n",
    "print(len(all_top_data['user_id'].unique().tolist()))"
   ]
  },
  {
   "cell_type": "code",
   "execution_count": 91,
   "metadata": {},
   "outputs": [],
   "source": [
    "names = []\n",
    "for name in all_top_data['review_date']:\n",
    "    name = name.split(\"'\")[1]\n",
    "    names.append(name)\n",
    "    \n",
    "all_top_data['review_date'] = names\n",
    "\n",
    "names = []\n",
    "for name in all_top_data['review_id']:\n",
    "    name = name.split(\"'\")[1]\n",
    "    names.append(name)\n",
    "    \n",
    "all_top_data['review_date'] = names"
   ]
  },
  {
   "cell_type": "code",
   "execution_count": 92,
   "metadata": {},
   "outputs": [],
   "source": [
    "new_text = []\n",
    "for text in all_top_data['text']:\n",
    "    text = text.rstrip()\n",
    "    text = text.replace(\"\\\\n\", \"\")\n",
    "    text = text.replace(\"\\\\\", \"\")\n",
    "    text = text[2:-1]\n",
    "    new_text.append(text)\n",
    "    \n",
    "all_top_data['text'] = new_text"
   ]
  },
  {
   "cell_type": "code",
   "execution_count": 93,
   "metadata": {},
   "outputs": [],
   "source": [
    "all_top_data.to_csv('./filtered_categories_csv/final_csv/US_top_users_data.csv')"
   ]
  },
  {
   "cell_type": "code",
   "execution_count": 125,
   "metadata": {},
   "outputs": [],
   "source": [
    "list1 = top_user_data['user_id'].unique().tolist()\n",
    "list2 = all_top_data['user_id'].unique().tolist()\n",
    "import itertools\n",
    "def topUsersCategoriesNew2(merged_data, category_data, business_category):\n",
    "    final_merged = pd.merge(category_data, merged_data, on='business_id')\n",
    "    final_merged.sort_values(['final_score'], ascending=False, inplace=True)\n",
    "    for user in list1:\n",
    "        business_data = final_merged[(final_merged['user_id'] == user) & (final_merged['state'].isin(states))]\\\n",
    "                                        .sort_values(['sentiment_score'], \n",
    "                                        ascending=False).iloc[:10, :]\n",
    "        length = business_data.shape[0]\n",
    "        business_data['business_category'] = [business_category] * length\n",
    "        business_data.to_csv('./filtered_categories_csv/final_csv/US_top_data_new.csv', mode='a', header=None)"
   ]
  },
  {
   "cell_type": "code",
   "execution_count": 126,
   "metadata": {},
   "outputs": [],
   "source": [
    "topUsersCategoriesNew2(merged_data, restaurant_data, \"Restaurants\")\n",
    "topUsersCategoriesNew2(merged_data, shopping_data, \"Shopping\")\n",
    "topUsersCategoriesNew2(merged_data, home_data, \"Home Services\")\n",
    "topUsersCategoriesNew2(merged_data, health_data, \"Health & Medical\")\n",
    "topUsersCategoriesNew2(merged_data, beauty_data, \"Beauty & Spas\")"
   ]
  },
  {
   "cell_type": "code",
   "execution_count": 99,
   "metadata": {},
   "outputs": [],
   "source": [
    "US_combined = pd.read_csv('./filtered_categories_csv/final_csv/US_combined.csv')"
   ]
  },
  {
   "cell_type": "code",
   "execution_count": 101,
   "metadata": {},
   "outputs": [],
   "source": [
    "US_combined_cols = US_combined.columns.values.tolist()[1:]\n",
    "US_combined = US_combined[US_combined_cols]"
   ]
  },
  {
   "cell_type": "code",
   "execution_count": 103,
   "metadata": {},
   "outputs": [],
   "source": [
    "US_combined.drop(labels=['is_open', 'neighborhood', 'hours', 'city'], axis=1, inplace=True)"
   ]
  },
  {
   "cell_type": "code",
   "execution_count": 104,
   "metadata": {},
   "outputs": [],
   "source": [
    "US_combined.drop_duplicates(inplace=True, keep=False)"
   ]
  },
  {
   "cell_type": "code",
   "execution_count": 105,
   "metadata": {},
   "outputs": [],
   "source": [
    "US_combined.to_csv('./filtered_categories_csv/final_csv/US_combined_new.csv')"
   ]
  },
  {
   "cell_type": "code",
   "execution_count": 146,
   "metadata": {},
   "outputs": [],
   "source": [
    "US_statewise = pd.read_csv('./filtered_categories_csv/final_csv/US_top_statewise_data.csv')"
   ]
  },
  {
   "cell_type": "code",
   "execution_count": 108,
   "metadata": {},
   "outputs": [],
   "source": [
    "US_statewise_cols = US_statewise.columns.values.tolist()[2:]\n",
    "US_statewise = US_statewise[US_statewise_cols]"
   ]
  },
  {
   "cell_type": "code",
   "execution_count": 110,
   "metadata": {},
   "outputs": [],
   "source": [
    "US_statewise.drop(labels=['is_open', 'neighborhood', 'hours', 'city'], axis=1, inplace=True)"
   ]
  },
  {
   "cell_type": "code",
   "execution_count": 111,
   "metadata": {},
   "outputs": [],
   "source": [
    "US_statewise.drop_duplicates(inplace=True, keep=False)"
   ]
  },
  {
   "cell_type": "code",
   "execution_count": 112,
   "metadata": {},
   "outputs": [],
   "source": [
    "US_statewise.to_csv('./filtered_categories_csv/final_csv/US_top_statewise_data_new.csv')"
   ]
  },
  {
   "cell_type": "code",
   "execution_count": 113,
   "metadata": {},
   "outputs": [
    {
     "name": "stdout",
     "output_type": "stream",
     "text": [
      "(2129, 30)\n",
      "(1967, 30)\n"
     ]
    }
   ],
   "source": [
    "print(US_statewise.shape)\n",
    "US_statewise = US_statewise[US_statewise['state'].isin(states)]\n",
    "print(US_statewise.shape)"
   ]
  },
  {
   "cell_type": "code",
   "execution_count": 114,
   "metadata": {},
   "outputs": [],
   "source": [
    "US_statewise.to_csv('./filtered_categories_csv/final_csv/US_top_statewise_data_new.csv')"
   ]
  },
  {
   "cell_type": "code",
   "execution_count": 127,
   "metadata": {},
   "outputs": [],
   "source": [
    "US_top_user = pd.read_csv('./filtered_categories_csv/final_csv/US_top_data_new.csv', names=cols)"
   ]
  },
  {
   "cell_type": "code",
   "execution_count": 129,
   "metadata": {},
   "outputs": [],
   "source": [
    "US_top_user.drop(labels=['full_state'], axis=1, inplace=True)"
   ]
  },
  {
   "cell_type": "code",
   "execution_count": 130,
   "metadata": {},
   "outputs": [],
   "source": [
    "US_top_user.drop_duplicates(inplace=True, keep=False)"
   ]
  },
  {
   "cell_type": "code",
   "execution_count": 131,
   "metadata": {},
   "outputs": [],
   "source": [
    "names = []\n",
    "for name in US_top_user['review_date']:\n",
    "    name = name.split(\"'\")[1]\n",
    "    names.append(name)\n",
    "    \n",
    "US_top_user['review_date'] = names\n",
    "\n",
    "names = []\n",
    "for name in US_top_user['review_id']:\n",
    "    name = name.split(\"'\")[1]\n",
    "    names.append(name)\n",
    "    \n",
    "US_top_user['review_id'] = names\n",
    "\n",
    "new_text = []\n",
    "for text in US_top_user['text']:\n",
    "    text = text.rstrip()\n",
    "    text = text.replace(\"\\\\n\", \"\")\n",
    "    text = text.replace(\"\\\\\", \"\")\n",
    "    text = text[2:-1]\n",
    "    new_text.append(text)\n",
    "    \n",
    "US_top_user['text'] = new_text"
   ]
  },
  {
   "cell_type": "code",
   "execution_count": 132,
   "metadata": {},
   "outputs": [
    {
     "name": "stdout",
     "output_type": "stream",
     "text": [
      "428\n",
      "428\n"
     ]
    }
   ],
   "source": [
    "print(len(US_top_user['state'].tolist()))\n",
    "past = US_top_user['state'].tolist()\n",
    "new_state = []\n",
    "for s in US_top_user['state']:\n",
    "    state_name = list(state_map.keys())[list(state_map.values()).index(s)]\n",
    "    new_state.append(state_name)\n",
    "print(len(new_state))"
   ]
  },
  {
   "cell_type": "code",
   "execution_count": 134,
   "metadata": {},
   "outputs": [],
   "source": [
    "US_top_user['state'] = new_state"
   ]
  },
  {
   "cell_type": "code",
   "execution_count": 135,
   "metadata": {},
   "outputs": [],
   "source": [
    "US_top_user.to_csv('./filtered_categories_csv/final_csv/US_top_data_new.csv')"
   ]
  },
  {
   "cell_type": "code",
   "execution_count": 121,
   "metadata": {},
   "outputs": [],
   "source": [
    "US_top_user = US_top_user[US_top_user['state'].isin(states)]"
   ]
  },
  {
   "cell_type": "code",
   "execution_count": 122,
   "metadata": {},
   "outputs": [],
   "source": [
    "US_top_user.to_csv('./filtered_categories_csv/final_csv/US_top_data_new.csv')"
   ]
  },
  {
   "cell_type": "code",
   "execution_count": 147,
   "metadata": {},
   "outputs": [],
   "source": [
    "US_statewise = pd.read_csv('./filtered_categories_csv/final_csv/US_top_statewise_data.csv')"
   ]
  },
  {
   "cell_type": "code",
   "execution_count": 148,
   "metadata": {},
   "outputs": [],
   "source": [
    "US_statewise_cols = US_statewise.columns.values.tolist()[2:]\n",
    "US_statewise = US_statewise[US_statewise_cols]"
   ]
  },
  {
   "cell_type": "code",
   "execution_count": 149,
   "metadata": {},
   "outputs": [],
   "source": [
    "US_statewise.drop(labels=['full_state'], axis=1, inplace=True)"
   ]
  },
  {
   "cell_type": "code",
   "execution_count": 150,
   "metadata": {},
   "outputs": [],
   "source": [
    "US_statewise = US_statewise[US_statewise['state'].isin(states)]"
   ]
  },
  {
   "cell_type": "code",
   "execution_count": 151,
   "metadata": {},
   "outputs": [
    {
     "name": "stdout",
     "output_type": "stream",
     "text": [
      "2109\n",
      "2109\n"
     ]
    }
   ],
   "source": [
    "print(len(US_statewise['state'].tolist()))\n",
    "past = US_statewise['state'].tolist()\n",
    "new_state = []\n",
    "for s in US_statewise['state']:\n",
    "    state_name = list(state_map.keys())[list(state_map.values()).index(s)]\n",
    "    new_state.append(state_name)\n",
    "print(len(new_state))"
   ]
  },
  {
   "cell_type": "code",
   "execution_count": 152,
   "metadata": {},
   "outputs": [
    {
     "name": "stdout",
     "output_type": "stream",
     "text": [
      "AZ\n",
      "Arizona\n"
     ]
    }
   ],
   "source": [
    "print(past[0])\n",
    "print(new_state[0])"
   ]
  },
  {
   "cell_type": "code",
   "execution_count": 153,
   "metadata": {},
   "outputs": [],
   "source": [
    "US_statewise['state'] = new_state"
   ]
  },
  {
   "cell_type": "code",
   "execution_count": 154,
   "metadata": {},
   "outputs": [
    {
     "name": "stdout",
     "output_type": "stream",
     "text": [
      "(2109, 33)\n",
      "(1462, 33)\n"
     ]
    }
   ],
   "source": [
    "print(US_statewise.shape)\n",
    "US_statewise.drop_duplicates(inplace=True, keep=False)\n",
    "print(US_statewise.shape)"
   ]
  },
  {
   "cell_type": "code",
   "execution_count": 156,
   "metadata": {},
   "outputs": [],
   "source": [
    "US_statewise.to_csv('./filtered_categories_csv/final_csv/US_top_statewise_data_new.csv')"
   ]
  },
  {
   "cell_type": "code",
   "execution_count": 157,
   "metadata": {},
   "outputs": [],
   "source": [
    "US_statewise = pd.read_csv('./filtered_categories_csv/final_csv/US_top_statewise_data_new.csv')"
   ]
  },
  {
   "cell_type": "code",
   "execution_count": 159,
   "metadata": {},
   "outputs": [],
   "source": [
    "US_statewise_cols = US_statewise.columns.values.tolist()[2:]\n",
    "US_statewise = US_statewise[US_statewise_cols]"
   ]
  },
  {
   "cell_type": "code",
   "execution_count": 160,
   "metadata": {},
   "outputs": [
    {
     "data": {
      "text/plain": [
       "(1462, 32)"
      ]
     },
     "execution_count": 160,
     "metadata": {},
     "output_type": "execute_result"
    }
   ],
   "source": [
    "US_statewise.shape"
   ]
  },
  {
   "cell_type": "code",
   "execution_count": 161,
   "metadata": {},
   "outputs": [],
   "source": [
    "US_statewise.drop(labels=['is_open', 'neighborhood', 'hours', 'city'], axis=1, inplace=True)"
   ]
  },
  {
   "cell_type": "code",
   "execution_count": 162,
   "metadata": {},
   "outputs": [
    {
     "name": "stdout",
     "output_type": "stream",
     "text": [
      "(1462, 28)\n",
      "(1462, 28)\n"
     ]
    }
   ],
   "source": [
    "print(US_statewise.shape)\n",
    "US_statewise.drop_duplicates(inplace=True, keep=False)\n",
    "print(US_statewise.shape)"
   ]
  },
  {
   "cell_type": "code",
   "execution_count": 163,
   "metadata": {},
   "outputs": [],
   "source": [
    "US_statewise.to_csv('./filtered_categories_csv/final_csv/US_top_statewise_data_new.csv')"
   ]
  },
  {
   "cell_type": "code",
   "execution_count": 164,
   "metadata": {},
   "outputs": [
    {
     "data": {
      "text/html": [
       "<div>\n",
       "<style scoped>\n",
       "    .dataframe tbody tr th:only-of-type {\n",
       "        vertical-align: middle;\n",
       "    }\n",
       "\n",
       "    .dataframe tbody tr th {\n",
       "        vertical-align: top;\n",
       "    }\n",
       "\n",
       "    .dataframe thead th {\n",
       "        text-align: right;\n",
       "    }\n",
       "</style>\n",
       "<table border=\"1\" class=\"dataframe\">\n",
       "  <thead>\n",
       "    <tr style=\"text-align: right;\">\n",
       "      <th></th>\n",
       "      <th>Unnamed: 0</th>\n",
       "      <th>business_category</th>\n",
       "      <th>user_id</th>\n",
       "    </tr>\n",
       "  </thead>\n",
       "  <tbody>\n",
       "    <tr>\n",
       "      <th>0</th>\n",
       "      <td>0</td>\n",
       "      <td>Restaurant</td>\n",
       "      <td>6s-g2vFu12OemhiK3FJuOQ</td>\n",
       "    </tr>\n",
       "    <tr>\n",
       "      <th>1</th>\n",
       "      <td>1</td>\n",
       "      <td>Restaurant</td>\n",
       "      <td>JjXuiru1_ONzDkYVrHN0aw</td>\n",
       "    </tr>\n",
       "    <tr>\n",
       "      <th>2</th>\n",
       "      <td>2</td>\n",
       "      <td>Restaurant</td>\n",
       "      <td>VHdY6oG2JPVNjihWhOooAQ</td>\n",
       "    </tr>\n",
       "    <tr>\n",
       "      <th>3</th>\n",
       "      <td>3</td>\n",
       "      <td>Restaurant</td>\n",
       "      <td>nkN_do3fJ9xekchVC-v68A</td>\n",
       "    </tr>\n",
       "    <tr>\n",
       "      <th>4</th>\n",
       "      <td>4</td>\n",
       "      <td>Restaurant</td>\n",
       "      <td>om5ZiponkpRqUNa3pVPiRg</td>\n",
       "    </tr>\n",
       "  </tbody>\n",
       "</table>\n",
       "</div>"
      ],
      "text/plain": [
       "   Unnamed: 0 business_category                 user_id\n",
       "0           0        Restaurant  6s-g2vFu12OemhiK3FJuOQ\n",
       "1           1        Restaurant  JjXuiru1_ONzDkYVrHN0aw\n",
       "2           2        Restaurant  VHdY6oG2JPVNjihWhOooAQ\n",
       "3           3        Restaurant  nkN_do3fJ9xekchVC-v68A\n",
       "4           4        Restaurant  om5ZiponkpRqUNa3pVPiRg"
      ]
     },
     "execution_count": 164,
     "metadata": {},
     "output_type": "execute_result"
    }
   ],
   "source": [
    "top_users = pd.read_csv('./filtered_categories_csv/US_top_users.csv')\n",
    "top_users.head()"
   ]
  },
  {
   "cell_type": "code",
   "execution_count": 165,
   "metadata": {},
   "outputs": [
    {
     "data": {
      "text/plain": [
       "(1326100, 10)"
      ]
     },
     "execution_count": 165,
     "metadata": {},
     "output_type": "execute_result"
    }
   ],
   "source": [
    "user_rank_data.shape"
   ]
  },
  {
   "cell_type": "code",
   "execution_count": 166,
   "metadata": {},
   "outputs": [
    {
     "data": {
      "text/plain": [
       "(50, 3)"
      ]
     },
     "execution_count": 166,
     "metadata": {},
     "output_type": "execute_result"
    }
   ],
   "source": [
    "top_users.shape"
   ]
  },
  {
   "cell_type": "code",
   "execution_count": 167,
   "metadata": {},
   "outputs": [],
   "source": [
    "merge_top = pd.merge(top_users, user_rank_data, on='user_id') "
   ]
  },
  {
   "cell_type": "code",
   "execution_count": 168,
   "metadata": {},
   "outputs": [
    {
     "data": {
      "text/plain": [
       "(50, 12)"
      ]
     },
     "execution_count": 168,
     "metadata": {},
     "output_type": "execute_result"
    }
   ],
   "source": [
    "merge_top.shape"
   ]
  },
  {
   "cell_type": "code",
   "execution_count": 172,
   "metadata": {},
   "outputs": [
    {
     "name": "stdout",
     "output_type": "stream",
     "text": [
      "50\n"
     ]
    }
   ],
   "source": [
    "names = []\n",
    "for usr in merge_top['user_id']:\n",
    "    usr = user_main_data[user_main_data['user_id'] == usr]['name'].tolist()[0]\n",
    "    names.append(usr)\n",
    "    \n",
    "print(len(names))"
   ]
  },
  {
   "cell_type": "code",
   "execution_count": 173,
   "metadata": {},
   "outputs": [],
   "source": [
    "merge_top['username'] = names"
   ]
  },
  {
   "cell_type": "code",
   "execution_count": 174,
   "metadata": {},
   "outputs": [],
   "source": [
    "merge_cols = merge_top.columns.values.tolist()"
   ]
  },
  {
   "cell_type": "code",
   "execution_count": 175,
   "metadata": {},
   "outputs": [
    {
     "name": "stdout",
     "output_type": "stream",
     "text": [
      "['Unnamed: 0_x', 'business_category', 'user_id', 'Unnamed: 0_y', 'review_count', 'yelping_since', 'useful', 'fans', 'elite_count', 'compliment_count', 'months_since', 'final_score', 'username']\n"
     ]
    }
   ],
   "source": [
    "print(merge_cols)"
   ]
  },
  {
   "cell_type": "code",
   "execution_count": 176,
   "metadata": {},
   "outputs": [],
   "source": [
    "merge_cols.remove('Unnamed: 0_x')\n",
    "merge_cols.remove('Unnamed: 0_y')"
   ]
  },
  {
   "cell_type": "code",
   "execution_count": 177,
   "metadata": {},
   "outputs": [],
   "source": [
    "merge_top = merge_top[merge_cols]"
   ]
  },
  {
   "cell_type": "code",
   "execution_count": 179,
   "metadata": {},
   "outputs": [],
   "source": [
    "merge_top.to_csv('./filtered_categories_csv/final_csv/US_top_full_user_data.csv')"
   ]
  },
  {
   "cell_type": "code",
   "execution_count": 180,
   "metadata": {},
   "outputs": [],
   "source": [
    "US_state = pd.read_csv('./filtered_categories_csv/final_csv/US_top_statewise_data_new.csv')"
   ]
  },
  {
   "cell_type": "code",
   "execution_count": 181,
   "metadata": {},
   "outputs": [
    {
     "data": {
      "text/plain": [
       "(1462, 29)"
      ]
     },
     "execution_count": 181,
     "metadata": {},
     "output_type": "execute_result"
    }
   ],
   "source": [
    "US_state.shape"
   ]
  },
  {
   "cell_type": "code",
   "execution_count": 12,
   "metadata": {},
   "outputs": [],
   "source": [
    "new_map_data = pd.read_csv('./filtered_categories_csv/US_top_statewise_mapping.csv')"
   ]
  },
  {
   "cell_type": "code",
   "execution_count": 13,
   "metadata": {},
   "outputs": [
    {
     "data": {
      "text/plain": [
       "(4881, 19)"
      ]
     },
     "execution_count": 13,
     "metadata": {},
     "output_type": "execute_result"
    }
   ],
   "source": [
    "new_map_data.shape"
   ]
  },
  {
   "cell_type": "code",
   "execution_count": 14,
   "metadata": {},
   "outputs": [],
   "source": [
    "new_map_data.dropna(inplace=True, axis=0)"
   ]
  },
  {
   "cell_type": "code",
   "execution_count": 15,
   "metadata": {},
   "outputs": [
    {
     "data": {
      "text/plain": [
       "(0, 19)"
      ]
     },
     "execution_count": 15,
     "metadata": {},
     "output_type": "execute_result"
    }
   ],
   "source": [
    "new_map_data.shape"
   ]
  },
  {
   "cell_type": "code",
   "execution_count": 13,
   "metadata": {},
   "outputs": [],
   "source": [
    "import itertools\n",
    "def topUsersCategories(merged_data, category_data, business_category):\n",
    "    \n",
    "    final_merged = pd.merge(merged_data, category_data, on='business_id')\n",
    "    final_merged.sort_values(['final_score'], ascending=False, inplace=True)\n",
    "    \n",
    "    for state in states:\n",
    "        #print(\"For the state: \",state)\n",
    "        #print(\"Values for this state\",len(final_merged[final_merged['state'] == state]))\n",
    "        state_top_users = final_merged[final_merged['state'] == state]['user_id'].unique().tolist()[:10] \n",
    "        #print(\"length of 10 users of state: \",len(state_top_users),\"the users are: \",state_top_users)\n",
    "        \n",
    "        for user in state_top_users:\n",
    "            \n",
    "            #print(\"Inside the second loop: \")\n",
    "            \n",
    "            state_data = final_merged[(final_merged['user_id'] == user) & ((final_merged['state'] == state)) ].sort_values(['sentiment_score'], \n",
    "                                                                                     ascending=False).head(10)\n",
    "            \n",
    "            #print(\"Data for each user= \",user,\" length: \",len(state_data))\n",
    "            length = state_data.shape[0]\n",
    "            business_type = [business_category] * length\n",
    "            state_name = list(state_map.keys())[list(state_map.values()).index(state)]\n",
    "            #print(\"State for this user: \",state_name)\n",
    "            #print(state_data['state'].head(1))\n",
    "            state_list = [state_name] * length\n",
    "            state_data['business_category'] = business_type\n",
    "            state_data['full_state'] = state_list\n",
    "            state_data.to_csv('./filtered_categories_csv/final_csv/state_data.csv', mode='a', header=None)\n",
    "       \n",
    "        \n",
    "       "
   ]
  },
  {
   "cell_type": "code",
   "execution_count": 14,
   "metadata": {},
   "outputs": [],
   "source": [
    "topUsersCategories(merged_data, restaurant_data, \"Restaurant\")\n",
    "topUsersCategories(merged_data, shopping_data, \"Shopping\")\n",
    "topUsersCategories(merged_data, home_data, \"Home & Service\")\n",
    "topUsersCategories(merged_data, health_data, \"Health & Medical\")\n",
    "topUsersCategories(merged_data, beauty_data, \"Beauty & Spa\")"
   ]
  },
  {
   "cell_type": "code",
   "execution_count": 44,
   "metadata": {},
   "outputs": [
    {
     "name": "stdout",
     "output_type": "stream",
     "text": [
      "['user_id', 'review_count_x', 'yelping_since', 'useful_x', 'fans', 'elite_count', 'compliment_count', 'months_since', 'final_score', 'text', 'useful_y', 'business_id', 'cool', 'review_id', 'date', 'stars_x', 'funny', 'sentiment_score', 'Unnamed: 0', 'address', 'attributes', 'categories', 'city', 'hours', 'is_open', 'latitude', 'longitude', 'name', 'neighborhood', 'postal_code', 'review_count_y', 'stars_y', 'state', 'business_category', 'full_state']\n"
     ]
    }
   ],
   "source": [
    "print(['user_id', 'review_count_x', 'yelping_since', 'useful_x', 'fans', 'elite_count', 'compliment_count', 'months_since', 'final_score', 'text', 'useful_y', 'business_id', 'cool', 'review_id', 'date', 'stars_x', 'funny', 'sentiment_score', 'Unnamed: 0', 'address', 'attributes', 'categories', 'city', 'hours', 'is_open', 'latitude', 'longitude', 'name', 'neighborhood', 'postal_code', 'review_count_y', 'stars_y', 'state', 'business_category', 'full_state'])"
   ]
  },
  {
   "cell_type": "code",
   "execution_count": 15,
   "metadata": {},
   "outputs": [],
   "source": [
    "cols_new = ['user_id', 'review_count_x', 'yelping_since', 'useful_x', 'fans', 'elite_count', 'compliment_count', \n",
    "            'months_since', 'final_score', 'text', 'useful_y', 'business_id', 'cool', 'review_id', 'date', \n",
    "            'stars_x', 'funny', 'sentiment_score', 'Unnamed: 0', 'address', 'attributes', 'categories', \n",
    "            'city', 'hours', 'is_open', 'latitude', 'longitude', 'name', 'neighborhood', 'postal_code', \n",
    "            'review_count_y', 'stars_y', 'state', 'business_category', 'full_state']"
   ]
  },
  {
   "cell_type": "code",
   "execution_count": 20,
   "metadata": {},
   "outputs": [],
   "source": [
    "combined_new = combined_new.rename(columns={'useful_x':'user_useful_review_count', 'useful_y':'business_useful_review_count',\n",
    "                                         'review_count_x': 'user_reviews_count', 'stars_x': 'business_stars',\n",
    "                                         'stars_y': 'business_review_stars', 'review_count_y': 'business_review_count'})"
   ]
  },
  {
   "cell_type": "code",
   "execution_count": 16,
   "metadata": {},
   "outputs": [],
   "source": [
    "combined_new = pd.read_csv('./filtered_categories_csv/final_csv/state_data.csv', names=cols_new)"
   ]
  },
  {
   "cell_type": "code",
   "execution_count": 17,
   "metadata": {},
   "outputs": [],
   "source": [
    "cols_new.remove('Unnamed: 0')\n",
    "combined_new = combined_new[cols_new]"
   ]
  },
  {
   "cell_type": "code",
   "execution_count": 21,
   "metadata": {},
   "outputs": [],
   "source": [
    "names = []\n",
    "for name in combined_new['date']:\n",
    "    name = name.split(\"'\")[1]\n",
    "    names.append(name)\n",
    "    \n",
    "combined_new['date'] = names\n",
    "\n",
    "names = []\n",
    "for name in combined_new['review_id']:\n",
    "    name = name.split(\"'\")[1]\n",
    "    names.append(name)\n",
    "    \n",
    "combined_new['review_id'] = names\n",
    "\n",
    "new_text = []\n",
    "for text in combined_new['text']:\n",
    "    text = text.rstrip()\n",
    "    text = text.replace(\"\\\\n\", \"\")\n",
    "    text = text.replace(\"\\\\\", \"\")\n",
    "    text = text[2:-1]\n",
    "    new_text.append(text)\n",
    "    \n",
    "combined_new['text'] = new_text"
   ]
  },
  {
   "cell_type": "code",
   "execution_count": 22,
   "metadata": {},
   "outputs": [
    {
     "name": "stdout",
     "output_type": "stream",
     "text": [
      "1310\n"
     ]
    }
   ],
   "source": [
    "print(len(combined_new['user_id'].tolist()))"
   ]
  },
  {
   "cell_type": "code",
   "execution_count": 72,
   "metadata": {},
   "outputs": [
    {
     "data": {
      "text/plain": [
       "0    Johnny\n",
       "1     Chris\n",
       "2     Tiffy\n",
       "3      Mark\n",
       "4    Evelyn\n",
       "Name: name, dtype: object"
      ]
     },
     "execution_count": 72,
     "metadata": {},
     "output_type": "execute_result"
    }
   ],
   "source": []
  },
  {
   "cell_type": "code",
   "execution_count": 26,
   "metadata": {
    "scrolled": true
   },
   "outputs": [
    {
     "name": "stdout",
     "output_type": "stream",
     "text": [
      "Juan\n",
      "Mike\n",
      "Anthony\n",
      "Trevor\n",
      "Whitney\n",
      "Benjamin\n",
      "Richard\n",
      "Linda\n",
      "Matt\n",
      "S\n",
      "Jeremy\n",
      "Jeremy\n",
      "Jeremy\n",
      "Jeremy\n",
      "Jeremy\n",
      "Jeremy\n",
      "Jeremy\n",
      "Jeremy\n",
      "Andrea\n",
      "Andrea\n",
      "Andrea\n",
      "Andrea\n",
      "Andrea\n",
      "Andrea\n",
      "Andrea\n",
      "Andrea\n",
      "Andrea\n",
      "Andrea\n",
      "Miriam\n",
      "Ruggy\n",
      "Ruggy\n",
      "Nish\n",
      "Nish\n",
      "Nish\n",
      "Nish\n",
      "Nish\n",
      "Nish\n",
      "Jando\n",
      "Jando\n",
      "Jando\n",
      "Jando\n",
      "Jando\n",
      "Jando\n",
      "Jando\n",
      "Jando\n",
      "Colleen\n",
      "Colleen\n",
      "Colleen\n",
      "Colleen\n",
      "Colleen\n",
      "Colleen\n",
      "Colleen\n",
      "Ed\n",
      "Ed\n",
      "Ed\n",
      "Ed\n",
      "Ed\n",
      "Ed\n",
      "Ed\n",
      "Ed\n",
      "Ed\n",
      "Ed\n",
      "Peter\n",
      "Peter\n",
      "Peter\n",
      "Peter\n",
      "Peter\n",
      "Peter\n",
      "Peter\n",
      "Peter\n",
      "Peter\n",
      "Geoff\n",
      "Mariaroberta\n",
      "Claudio\n",
      "Maria\n",
      "Giuseppe\n",
      "Rebecca\n",
      "Megan\n",
      "Carrie\n",
      "Ger\n",
      "Anne\n",
      "Sarah\n",
      "Jeremy\n",
      "Jeremy\n",
      "Jeremy\n",
      "Jeremy\n",
      "Jeremy\n",
      "Ellen\n",
      "Ellen\n",
      "Ellen\n",
      "Ellen\n",
      "Ellen\n",
      "Ellen\n",
      "Ellen\n",
      "Ellen\n",
      "Ellen\n",
      "Ellen\n",
      "Jacob\n",
      "Kyle\n",
      "Shannon\n",
      "Shannon\n",
      "Neal\n",
      "Neal\n",
      "Neal\n",
      "Mike\n",
      "Mike\n",
      "Melanie\n",
      "Melanie\n",
      "Nancy\n",
      "Stephen\n",
      "Joel\n",
      "Melissa\n",
      "Constancia\n",
      "Brian\n",
      "Brian\n",
      "Leslie\n",
      "Matt\n",
      "John\n",
      "Jeff\n",
      "Jenn\n",
      "Rob\n",
      "Rob\n",
      "Dave\n",
      "Dave\n",
      "Dave\n",
      "Dave\n",
      "Dave\n",
      "Dave\n",
      "Dave\n",
      "Dave\n",
      "Dave\n",
      "Dave\n",
      "Jessica\n",
      "Jessica\n",
      "Jessica\n",
      "Jeremy\n",
      "Jeremy\n",
      "Jeremy\n",
      "Jeremy\n",
      "Jeremy\n",
      "Andrea\n",
      "Andrea\n",
      "Miriam\n",
      "Miriam\n",
      "Miriam\n",
      "Miriam\n",
      "Miriam\n",
      "Miriam\n",
      "Miriam\n",
      "Miriam\n",
      "Miriam\n",
      "Miriam\n",
      "Ruggy\n",
      "Nish\n",
      "Nish\n",
      "Nish\n",
      "Nish\n",
      "Nish\n",
      "Nish\n",
      "Jando\n",
      "Jando\n",
      "Jando\n",
      "Jando\n",
      "Jando\n",
      "Jando\n",
      "Jando\n",
      "Jando\n",
      "Jando\n",
      "Jando\n",
      "Anita\n",
      "Anita\n",
      "Anita\n",
      "Anita\n",
      "Anita\n",
      "Anita\n",
      "Anita\n",
      "Anita\n",
      "Anita\n",
      "Anita\n",
      "Ed\n",
      "Ed\n",
      "Ed\n",
      "Ed\n",
      "Ed\n",
      "Ed\n",
      "Ed\n",
      "Ed\n",
      "Ed\n",
      "Ed\n",
      "Tina\n",
      "Christopher\n",
      "Christopher\n",
      "Sarah\n",
      "Sarah\n",
      "Sarah\n",
      "Sarah\n",
      "Sarah\n",
      "Edward\n",
      "Nicole\n",
      "Angela\n",
      "Charles\n",
      "Chris\n",
      "Chris\n",
      "Jan\n",
      "Leean\n",
      "Leean\n",
      "Dave\n",
      "Peter\n",
      "Peter\n",
      "Peter\n",
      "Jordan\n",
      "Don\n",
      "Gabi\n",
      "Gabi\n",
      "Gabi\n",
      "Gabi\n",
      "David\n",
      "David\n",
      "David\n",
      "David\n",
      "David\n",
      "David\n",
      "David\n",
      "David\n",
      "David\n",
      "David\n",
      "Heather\n",
      "Heather\n",
      "Karen\n",
      "Shanna\n",
      "Shanna\n",
      "Shanna\n",
      "Shanna\n",
      "Shanna\n",
      "Shanna\n",
      "Shanna\n",
      "Shanna\n",
      "Shanna\n",
      "Shanna\n",
      "Amy\n",
      "Amy\n",
      "Amy\n",
      "Amy\n",
      "Amy\n",
      "Amy\n",
      "Amy\n",
      "Amy\n",
      "Andrea\n",
      "Andrea\n",
      "Andrea\n",
      "Andrea\n",
      "Nish\n",
      "Jando\n",
      "Jando\n",
      "Colleen\n",
      "Colleen\n",
      "Colleen\n",
      "Colleen\n",
      "Stephanie\n",
      "Stephanie\n",
      "Jacob\n",
      "Cynthia\n",
      "Gabi\n",
      "Gabi\n",
      "Gabi\n",
      "Gabi\n",
      "Sherri\n",
      "Jack\n",
      "Jack\n",
      "Jack\n",
      "Jack\n",
      "Jack\n",
      "Jack\n",
      "Dave\n",
      "Dave\n",
      "Richard\n",
      "Richard\n",
      "Jessica\n",
      "Jessica\n",
      "Jessica\n",
      "Jessica\n",
      "Jessica\n",
      "Jessica\n",
      "Jessica\n",
      "Jessica\n",
      "Jessica\n",
      "Jessica\n",
      "Miriam\n",
      "Miriam\n",
      "Miriam\n",
      "Anita\n",
      "Anita\n",
      "Colleen\n",
      "Colleen\n",
      "Colleen\n",
      "Colleen\n",
      "Colleen\n",
      "Peter\n",
      "Peter\n",
      "Peter\n",
      "Peter\n",
      "Peter\n",
      "Peter\n",
      "Peter\n",
      "Peter\n",
      "Peter\n",
      "Peter\n",
      "Stephanie\n",
      "Kim\n",
      "Cassie\n",
      "Cassie\n",
      "Cassie\n",
      "Cassie\n",
      "David\n",
      "David\n",
      "Jason\n",
      "Jason\n",
      "Jason\n",
      "Chad\n",
      "Chad\n",
      "Chad\n",
      "Chad\n",
      "Michelle\n",
      "Jocy\n",
      "Jocy\n",
      "Bruce\n",
      "Bruce\n",
      "Bruce\n",
      "Bruce\n",
      "Bruce\n",
      "Bruce\n",
      "Bruce\n",
      "Bruce\n",
      "Bruce\n",
      "Bruce\n",
      "Janene\n",
      "Faith\n",
      "Faith\n",
      "Lisa\n",
      "Rob\n",
      "Rob\n",
      "Laura\n",
      "Mike\n",
      "Arun\n",
      "Ellen\n",
      "Ellen\n",
      "Ellen\n",
      "Ellen\n",
      "Cassidy\n",
      "Cassidy\n",
      "Cassidy\n",
      "Cassidy\n",
      "Cassidy\n",
      "Cassidy\n",
      "Kyle\n",
      "Kyle\n",
      "Kyle\n",
      "Kyle\n",
      "Kyle\n",
      "Kyle\n",
      "Kyle\n",
      "Kyle\n",
      "Kyle\n",
      "Kyle\n",
      "Stephanie\n",
      "Leang\n",
      "Leang\n",
      "Leang\n",
      "Rachel\n",
      "Rachel\n",
      "Rachel\n",
      "Rachel\n",
      "Rachel\n",
      "Rachel\n",
      "Rachel\n",
      "Rachel\n",
      "Rachel\n",
      "Candice\n",
      "Candice\n",
      "Candice\n",
      "Candice\n",
      "Candice\n",
      "Anthony\n",
      "Anthony\n",
      "Anthony\n",
      "Tiffany\n",
      "Tiffany\n",
      "Tiffany\n",
      "Tiffany\n",
      "Tiffany\n",
      "Tiffany\n",
      "Tiffany\n",
      "Tiffany\n",
      "Tiffany\n",
      "Tiffany\n",
      "Carol\n",
      "Carol\n",
      "Carol\n",
      "Carol\n",
      "Carol\n",
      "Carol\n",
      "Carol\n",
      "Carol\n",
      "Carol\n",
      "Carol\n",
      "Joan\n",
      "Joan\n",
      "Jeremy\n",
      "Jando\n",
      "Ed\n",
      "Ed\n",
      "Andrew\n",
      "Andrew\n",
      "Andrew\n",
      "Andrew\n",
      "Matt\n",
      "Matt\n",
      "Don\n",
      "Cynthia\n",
      "Gabi\n",
      "Gabi\n",
      "Gabi\n",
      "Gabi\n",
      "Gabi\n",
      "Gabi\n",
      "Gabi\n",
      "Gabi\n",
      "Gabi\n",
      "Gabi\n",
      "Ivy\n",
      "Ivy\n",
      "Ivy\n",
      "Ivy\n",
      "Ivy\n",
      "Ivy\n",
      "mobilfunksz\n",
      "kanu-a\n",
      "Handy4u-Criv\n",
      "Vielleicht_d\n",
      "crus\n",
      "Ellen\n",
      "Ellen\n",
      "Ellen\n",
      "Ellen\n",
      "Ellen\n",
      "Ellen\n",
      "Ellen\n",
      "Ellen\n",
      "Ellen\n",
      "Ellen\n",
      "Neal\n",
      "Neal\n",
      "Andrew\n",
      "Andrew\n",
      "Andrew\n",
      "Stacey\n",
      "Kali\n",
      "Kali\n",
      "Kali\n",
      "Kali\n",
      "Kali\n",
      "Kali\n",
      "Kali\n",
      "Kali\n",
      "Kali\n",
      "Kali\n",
      "Kathleen\n",
      "Kathleen\n",
      "Kathleen\n",
      "Charles\n",
      "Jeffrey\n",
      "Meredith\n",
      "Kait\n",
      "Victor\n",
      "Tony\n",
      "Gregg\n",
      "Laura\n",
      "Dave\n",
      "Cheech\n",
      "James\n",
      "Ananda\n",
      "Marwileo\n",
      "Mary\n",
      "Dave\n",
      "Dave\n",
      "Dave\n",
      "Dave\n",
      "Joan\n",
      "Jessica\n",
      "Jeremy\n",
      "Miriam\n",
      "Miriam\n",
      "Miriam\n",
      "Miriam\n",
      "Miriam\n",
      "Jando\n",
      "Jando\n",
      "Jando\n",
      "Jando\n",
      "Anita\n",
      "Anita\n",
      "Anita\n",
      "Anita\n",
      "Anita\n",
      "Anita\n",
      "Anita\n",
      "Anita\n",
      "Anita\n",
      "Anita\n",
      "Ed\n",
      "Ed\n",
      "Ed\n",
      "Peter\n",
      "Wilhelm\n",
      "Emily\n",
      "Mariko\n",
      "bree\n",
      "Solomohn\n",
      "Laura\n",
      "Jorgen\n",
      "Diana\n",
      "Olivia\n",
      "Rod\n",
      "Dan\n",
      "Gabi\n",
      "Gabi\n",
      "Gabi\n",
      "Gabi\n",
      "David\n",
      "Shanna\n",
      "Shanna\n",
      "Shanna\n",
      "Shanna\n",
      "Shanna\n",
      "Shanna\n",
      "Shanna\n",
      "Shanna\n",
      "Shanna\n",
      "Shanna\n",
      "Amy\n",
      "Amy\n",
      "Amy\n",
      "Amy\n",
      "Amy\n",
      "Amy\n",
      "Amy\n",
      "Neal\n",
      "Adrienne\n",
      "Adrienne\n",
      "Jennifer\n",
      "Jennifer\n",
      "Aileen\n",
      "Aileen\n",
      "Liezl\n",
      "Tinna\n",
      "Andrea\n",
      "Gabi\n",
      "Anthony\n",
      "Anthony\n",
      "Anthony\n",
      "Anthony\n",
      "Anthony\n",
      "Anthony\n",
      "Neal\n",
      "Neal\n",
      "Neal\n",
      "Neal\n",
      "Neal\n",
      "Neal\n",
      "Neal\n",
      "Neal\n",
      "Neal\n",
      "Neal\n",
      "Maria\n",
      "Maria\n",
      "Jim\n",
      "Jim\n",
      "Jim\n",
      "Alicia\n",
      "Alicia\n",
      "Damian\n",
      "Damian\n",
      "Ferdinand\n",
      "Ferdinand\n",
      "Ferdinand\n",
      "Ferdinand\n",
      "Ferdinand\n",
      "Ferdinand\n",
      "Ferdinand\n",
      "Ferdinand\n",
      "Jen\n",
      "Jessica\n",
      "Jessica\n",
      "Colleen\n",
      "Peter\n",
      "Cynthia\n",
      "Cassie\n",
      "Heather\n",
      "Candice\n",
      "Candice\n",
      "Candice\n",
      "Anthony\n",
      "Jean\n",
      "Jean\n",
      "Jean\n",
      "Rebecca\n",
      "Rebecca\n",
      "Rebecca\n",
      "Rebecca\n",
      "Rebecca\n",
      "Rebecca\n",
      "Rebecca\n",
      "Rebecca\n",
      "Rebecca\n",
      "Bong\n",
      "Bruce\n",
      "Bruce\n",
      "Bruce\n",
      "Bruce\n",
      "Bruce\n",
      "Bruce\n",
      "Bruce\n",
      "Bruce\n",
      "Bruce\n",
      "Bruce\n",
      "Shawn\n",
      "Shawn\n",
      "Shawn\n",
      "Shawn\n",
      "Shawn\n",
      "Melissa\n",
      "John\n",
      "John\n",
      "Jeff\n",
      "Jeff\n",
      "Jeff\n",
      "Jeff\n",
      "Julia\n",
      "Julia\n",
      "Julia\n",
      "Julia\n",
      "Jonathan\n",
      "Brian\n",
      "Brian\n",
      "Brian\n",
      "Brian\n",
      "Brian\n",
      "Brian\n",
      "Brian\n",
      "Travis\n",
      "Wilhelm\n",
      "Kyle\n",
      "Kyle\n",
      "Kyle\n",
      "Stephanie\n",
      "Rachel\n",
      "Rachel\n",
      "Rachel\n",
      "Rachel\n",
      "Tiffany\n",
      "Danielle\n",
      "Danielle\n",
      "Danielle\n",
      "Aaron\n",
      "Bob\n",
      "Bob\n",
      "Bob\n",
      "Tiffany\n",
      "Tiffany\n",
      "Tiffany\n",
      "Ericka\n",
      "Ericka\n",
      "Mike\n",
      "Gabi\n",
      "Gabi\n",
      "Gabi\n",
      "Gabi\n",
      "Gabi\n",
      "Gabi\n",
      "Gabi\n",
      "Gabi\n",
      "Gabi\n",
      "Gabi\n",
      "Emi\n",
      "Jim\n",
      "Jim\n",
      "Jim\n",
      "Jim\n",
      "Jim\n",
      "Brett\n",
      "Susan\n",
      "Susan\n",
      "Susan\n",
      "Susan\n",
      "Marie\n",
      "Aileen\n",
      "Aileen\n",
      "Aileen\n",
      "Aileen\n",
      "Aileen\n",
      "Albie\n",
      "Albie\n",
      "Rachel\n",
      "Rachel\n",
      "Rachel\n",
      "Jenna\n",
      "Dolly\n",
      "PRABHA\n",
      "Dina\n",
      "Colleen\n",
      "Jena\n",
      "Thomas\n",
      "Sara\n",
      "Raquel\n",
      "Cynthia\n",
      "Kristy\n",
      "Ellen\n",
      "Ellen\n",
      "Ellen\n",
      "Melanie\n",
      "Ashley\n",
      "Ashley\n",
      "Ashley\n",
      "Nelson\n",
      "Nelson\n",
      "Nelson\n",
      "Lauren\n",
      "Lisa\n",
      "Teej\n",
      "Teej\n",
      "Teej\n",
      "Matthew\n",
      "Matthew\n",
      "Matthew\n",
      "Jess\n",
      "Heather\n",
      "Alex\n",
      "Tom\n",
      "Conley\n",
      "Philip\n",
      "Philip\n",
      "Philip\n",
      "Philip\n",
      "Philip\n",
      "Teri\n",
      "Teri\n",
      "Cynthia\n",
      "Sarah\n",
      "Cassie\n",
      "Lisa\n",
      "Sherri\n",
      "Leang\n",
      "Anthony\n",
      "Joseph\n",
      "Michelle\n",
      "Michael\n",
      "Porsche\n",
      "Nance\n",
      "Megan\n",
      "Kindrea\n",
      "Norama\n",
      "Marlyn\n",
      "Eva\n",
      "Jason\n",
      "Jason\n",
      "Jason\n",
      "Jason\n",
      "Chad\n",
      "Chad\n",
      "Chad\n",
      "Chad\n",
      "Chad\n",
      "Chad\n",
      "Chad\n",
      "Chad\n",
      "Chad\n",
      "Chad\n",
      "Michael\n",
      "Michael\n",
      "Michael\n",
      "Michael\n",
      "Michael\n",
      "Michael\n",
      "Michael\n",
      "Michael\n",
      "Michael\n",
      "Michael\n",
      "Bruce\n",
      "Bruce\n",
      "Bruce\n",
      "Bruce\n",
      "Bruce\n",
      "Bruce\n",
      "Bruce\n",
      "Bruce\n",
      "Bruce\n",
      "Bruce\n",
      "Mike\n",
      "Brandy\n",
      "Faith\n",
      "Faith\n",
      "Faith\n",
      "Faith\n",
      "Faith\n",
      "Faith\n",
      "Faith\n",
      "Faith\n",
      "Faith\n",
      "Faith\n",
      "Jen\n",
      "Eric\n",
      "Nicole\n",
      "Nicole\n",
      "Nicole\n",
      "Nicole\n",
      "Nicole\n",
      "Nicole\n",
      "Nicole\n",
      "Nicole\n",
      "Nicole\n",
      "Nicole\n",
      "Ferdinand\n",
      "Ferdinand\n",
      "Danielle\n",
      "Laurice\n",
      "Nancy\n",
      "Nancy\n",
      "Nancy\n",
      "Jessie\n",
      "Christina\n",
      "Andreas\n",
      "Kevin\n",
      "Kevin\n",
      "Amy\n",
      "Amy\n",
      "Amy\n",
      "Amy\n",
      "Amy\n",
      "Amy\n",
      "Amy\n",
      "Kristin\n",
      "Neal\n",
      "Brian\n",
      "Brian\n",
      "Alexander\n",
      "Louis\n",
      "Alice\n",
      "Hilary\n",
      "Maria\n",
      "Kristin\n",
      "Kristin\n",
      "Kristin\n",
      "Kristin\n",
      "Karen\n",
      "Vin\n",
      "Faith\n",
      "Brian\n",
      "Brian\n",
      "Brian\n",
      "Brian\n",
      "Lucinda\n",
      "Lucinda\n",
      "Eve\n",
      "Mitch\n",
      "Mitch\n",
      "Mitch\n",
      "Megan\n",
      "Anthony\n",
      "Anthony\n",
      "David\n",
      "Michelle\n",
      "Marcie\n",
      "Michael\n",
      "Alexxa\n",
      "Eric\n",
      "Kyle\n",
      "Martha\n",
      "Marissa\n",
      "Marissa\n",
      "Marissa\n",
      "Marissa\n",
      "Marissa\n",
      "Liz\n",
      "Liz\n",
      "Melanie\n",
      "Ellen\n",
      "Rebecca\n",
      "Rebecca\n",
      "Rebecca\n",
      "Rebecca\n",
      "Rebecca\n",
      "Jen\n",
      "Peter\n",
      "Helen\n",
      "Andrea\n",
      "Gabi\n",
      "Gabi\n",
      "Gabi\n",
      "Gabi\n",
      "Gabi\n",
      "Gabi\n",
      "Gabi\n",
      "Gabi\n",
      "Gabi\n",
      "Gabi\n",
      "Ivy\n",
      "Sherri\n",
      "Jim\n",
      "Jim\n",
      "Jim\n",
      "Brett\n",
      "Brett\n",
      "Brett\n",
      "Brett\n",
      "Brett\n",
      "Brett\n",
      "Brett\n",
      "Susan\n",
      "Susan\n",
      "Susan\n",
      "Susan\n",
      "Susan\n",
      "Susan\n",
      "Susan\n",
      "Susan\n",
      "Susan\n",
      "Susan\n",
      "Marie\n",
      "Marie\n",
      "Marie\n",
      "Aileen\n",
      "Aileen\n",
      "Aileen\n",
      "Aileen\n",
      "Aileen\n",
      "Aileen\n",
      "Aileen\n",
      "Aileen\n",
      "Aileen\n",
      "Aileen\n",
      "Nette\n",
      "Regina\n",
      "Cheryl\n",
      "Karen\n",
      "Josh\n",
      "Regina\n",
      "Maritza\n",
      "C\n",
      "April\n",
      "Daniel\n",
      "Autumn\n",
      "Chris\n",
      "Elizabeth\n",
      "Debby\n",
      "Ellen\n",
      "Ellen\n",
      "Ellen\n",
      "Ellen\n",
      "Ellen\n",
      "Ellen\n",
      "Hank\n",
      "Jan\n",
      "Jeffrey\n",
      "Pat\n",
      "Pat\n",
      "Anne\n",
      "Anne\n",
      "Ashley\n",
      "Ashley\n",
      "Nelson\n",
      "Nelson\n",
      "Nelson\n",
      "Corey\n",
      "Zewditu\n",
      "Jando\n",
      "Andrew\n",
      "Cherylynn\n",
      "Philip\n",
      "Philip\n",
      "Philip\n",
      "Philip\n",
      "Teri\n",
      "Teri\n",
      "Teri\n",
      "Teri\n",
      "Teri\n",
      "Teri\n",
      "Cynthia\n",
      "Gabi\n",
      "Sherri\n",
      "Jack\n",
      "Shanna\n",
      "Chad\n",
      "Chad\n",
      "Chad\n",
      "Chad\n",
      "Chad\n",
      "Chad\n",
      "Chad\n",
      "Chad\n",
      "Chad\n",
      "Chad\n",
      "Michael\n",
      "Michael\n",
      "Michael\n",
      "Michael\n",
      "Michael\n",
      "Michael\n",
      "Yi\n",
      "Bruce\n",
      "Bruce\n",
      "Bruce\n",
      "Bruce\n",
      "Bruce\n",
      "Bruce\n",
      "Bruce\n",
      "Bruce\n",
      "Bruce\n",
      "Faith\n",
      "Faith\n",
      "Faith\n",
      "Faith\n",
      "Faith\n",
      "Faith\n",
      "Faith\n",
      "Faith\n",
      "Faith\n",
      "Faith\n",
      "Eric\n",
      "Eric\n",
      "Eric\n",
      "Eric\n",
      "Eric\n",
      "Eric\n",
      "Nicole\n",
      "Nicole\n",
      "Nicole\n",
      "Nicole\n",
      "Nicole\n",
      "Nicole\n",
      "Nicole\n",
      "Nicole\n",
      "Nicole\n",
      "Nicole\n",
      "Donna\n",
      "Donna\n",
      "Annie\n",
      "Annie\n",
      "Gabriel\n",
      "Gabriel\n",
      "Gabriel\n",
      "Neal\n",
      "John\n",
      "Nancy\n",
      "Dave\n",
      "Amy\n",
      "Amy\n",
      "Cara\n",
      "Cara\n",
      "Mike\n",
      "Rodney\n",
      "Rodney\n",
      "Rodney\n",
      "Rodney\n",
      "Rodney\n",
      "Rodney\n",
      "Joyce\n",
      "Joyce\n",
      "Joyce\n",
      "Roxanne\n",
      "Roxanne\n",
      "Roxanne\n",
      "Jessica\n",
      "Brian\n",
      "Sally\n",
      "Kristin\n",
      "Kristin\n",
      "Robin\n",
      "Sal\n",
      "Meredith\n",
      "Meredith\n",
      "Devon\n",
      "Rachel\n",
      "Chad\n",
      "Chad\n",
      "Shawn\n",
      "Shawn\n",
      "Jonathan\n",
      "Jonathan\n",
      "Brian\n",
      "Brian\n",
      "Stephanie\n",
      "Casandra\n",
      "NK\n",
      "George\n",
      "Mary\n",
      "Cesar\n",
      "Kevin\n",
      "Doug\n",
      "Joydip\n",
      "Lindy\n",
      "Martina-Realtor\n",
      "Bob\n",
      "Marissa\n",
      "Ellen\n",
      "Rebecca\n",
      "Rebecca\n",
      "Rebecca\n",
      "Laura\n",
      "Jen\n",
      "Ashley\n",
      "Ashley\n",
      "Ashley\n",
      "Ashley\n",
      "Ashley\n",
      "Ashley\n",
      "Brian\n",
      "Carolyn\n",
      "Carolyn\n",
      "Carolyn\n",
      "Corey\n",
      "Sarah\n",
      "Tayla\n",
      "Kimberly\n",
      "Crystal\n",
      "Jocelyne\n",
      "Miranda\n",
      "Alex\n",
      "Lucy\n",
      "Tracy\n",
      "Ghazaleh\n",
      "Jeremy\n",
      "Andrea\n",
      "Andrea\n",
      "Andrea\n",
      "Andrea\n",
      "Miriam\n",
      "Nish\n",
      "Jando\n",
      "Colleen\n",
      "Colleen\n",
      "Ed\n",
      "Andrew\n",
      "Mike\n",
      "Gabi\n",
      "Gabi\n",
      "Gabi\n",
      "Gabi\n",
      "Gabi\n",
      "Gabi\n",
      "Gabi\n",
      "Gabi\n",
      "Gabi\n",
      "Gabi\n",
      "Chris\n",
      "Elizabeth\n",
      "Debby\n",
      "Neal\n",
      "Kali\n",
      "Ashley\n",
      "Ashley\n",
      "Ashley\n",
      "Nelson\n",
      "Nelson\n",
      "Zewditu\n",
      "Zewditu\n",
      "Zewditu\n",
      "Lisa\n",
      "Lisa\n",
      "Matthew\n",
      "Sabrina\n",
      "Jess\n",
      "Mark\n",
      "Mark\n",
      "Mark\n",
      "Mark\n",
      "Dave\n",
      "Dave\n",
      "Jessica\n",
      "Jeremy\n",
      "Jando\n",
      "Jando\n",
      "Jando\n",
      "Anita\n",
      "Anita\n",
      "Anita\n",
      "Anita\n",
      "Anita\n",
      "Anita\n",
      "Peter\n",
      "Andrew\n",
      "Matt\n",
      "Cherylynn\n",
      "Cherylynn\n",
      "Cherylynn\n",
      "Philip\n",
      "Philip\n",
      "Philip\n",
      "Philip\n",
      "Philip\n",
      "Philip\n",
      "Philip\n",
      "Philip\n",
      "Philip\n",
      "Gabi\n",
      "Shanna\n",
      "Michelle\n",
      "Aileen\n",
      "Aileen\n",
      "Eve\n",
      "Angela\n",
      "Bradley\n",
      "Jason\n",
      "Jason\n",
      "Jason\n",
      "Jason\n",
      "Jason\n",
      "Jason\n",
      "Jason\n",
      "Jason\n",
      "Chad\n",
      "Chad\n",
      "Chad\n",
      "Jess\n",
      "Neal\n",
      "Neal\n",
      "Ericka\n",
      "Rachel\n",
      "Jenn\n",
      "Alice\n",
      "Amy\n",
      "Amy\n",
      "Amy\n",
      "Amy\n",
      "Natalie\n",
      "Natalie\n",
      "Kristin\n",
      "Kristin\n",
      "Cara\n",
      "Cara\n",
      "Cara\n",
      "Cara\n",
      "Cara\n",
      "Cara\n",
      "Cara\n",
      "Cara\n",
      "Cara\n",
      "Cara\n",
      "Lisa\n",
      "Lisa\n",
      "Jessica\n",
      "Vicky\n",
      "Laura\n",
      "Rebecca\n",
      "Rebecca\n",
      "Heather\n",
      "Heather\n",
      "Brian\n",
      "Brian\n",
      "Brian\n",
      "Brian\n",
      "Brian\n",
      "Brian\n",
      "Brian\n",
      "Alexander\n",
      "Sally\n",
      "Celeste\n",
      "Celeste\n",
      "Celeste\n",
      "Nancy\n",
      "Nancy\n",
      "Nancy\n",
      "Nancy\n",
      "Bruce\n",
      "Bruce\n",
      "Bruce\n",
      "Bruce\n",
      "Jon\n",
      "Syrah\n",
      "Brian\n",
      "Brian\n",
      "Brian\n",
      "Brian\n",
      "Mike\n",
      "Mitch\n",
      "Joyce\n",
      "Megan\n",
      "Megan\n",
      "Kellie\n",
      "Kellie\n",
      "Kellie\n",
      "Anthony\n",
      "Doug\n",
      "Joydip\n",
      "Lindy\n",
      "Martina-Realtor\n",
      "Kelly N Z\n",
      "Danielle\n",
      "Jack\n",
      "Caroline\n",
      "Liz\n",
      "Rebecca\n"
     ]
    },
    {
     "name": "stdout",
     "output_type": "stream",
     "text": [
      "Rebecca\n",
      "Rebecca\n",
      "Rebecca\n",
      "Stephanie\n",
      "Billy\n",
      "Billy\n",
      "Melissa\n",
      "Aisha\n",
      "1310\n"
     ]
    }
   ],
   "source": [
    "usernames = []\n",
    "for user in combined_new['user_id']:\n",
    "    name = user_main_data[user_main_data['user_id'] == user]['name'].tolist()[0]\n",
    "    print(name)\n",
    "    usernames.append(name)\n",
    "    \n",
    "print(len(usernames))"
   ]
  },
  {
   "cell_type": "code",
   "execution_count": 27,
   "metadata": {},
   "outputs": [
    {
     "data": {
      "text/plain": [
       "'Juan'"
      ]
     },
     "execution_count": 27,
     "metadata": {},
     "output_type": "execute_result"
    }
   ],
   "source": [
    "usernames[0]"
   ]
  },
  {
   "cell_type": "code",
   "execution_count": 28,
   "metadata": {},
   "outputs": [],
   "source": [
    "combined_new['username'] = usernames"
   ]
  },
  {
   "cell_type": "code",
   "execution_count": 29,
   "metadata": {},
   "outputs": [],
   "source": [
    "combined_new.to_csv('./filtered_categories_csv/final_csv/US_combined_new.csv')"
   ]
  },
  {
   "cell_type": "code",
   "execution_count": null,
   "metadata": {},
   "outputs": [],
   "source": []
  }
 ],
 "metadata": {
  "kernelspec": {
   "display_name": "Python 3",
   "language": "python",
   "name": "python3"
  },
  "language_info": {
   "codemirror_mode": {
    "name": "ipython",
    "version": 3
   },
   "file_extension": ".py",
   "mimetype": "text/x-python",
   "name": "python",
   "nbconvert_exporter": "python",
   "pygments_lexer": "ipython3",
   "version": "3.6.5"
  }
 },
 "nbformat": 4,
 "nbformat_minor": 2
}
