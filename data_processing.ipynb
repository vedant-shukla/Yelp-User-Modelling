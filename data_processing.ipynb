{
 "cells": [
  {
   "cell_type": "code",
   "execution_count": 3,
   "metadata": {},
   "outputs": [],
   "source": [
    "import pandas as pd"
   ]
  },
  {
   "cell_type": "code",
   "execution_count": 4,
   "metadata": {},
   "outputs": [],
   "source": [
    "user_data = pd.read_csv('./dataset_csv/user_ranking_new.csv')\n",
    "review_score_data = pd.read_csv('./dataset_csv/review_with_score.csv')"
   ]
  },
  {
   "cell_type": "code",
   "execution_count": 7,
   "metadata": {},
   "outputs": [],
   "source": [
    "user_ids = []\n",
    "for user in review_score_data['user_id']:\n",
    "    user = user.split(\"'\")[1]\n",
    "    user_ids.append(user)\n",
    "\n",
    "review_score_data['user_id'] = user_ids"
   ]
  },
  {
   "cell_type": "code",
   "execution_count": 8,
   "metadata": {},
   "outputs": [],
   "source": [
    "merged_data = pd.merge(user_data, review_score_data, on=\"user_id\")"
   ]
  },
  {
   "cell_type": "code",
   "execution_count": 9,
   "metadata": {},
   "outputs": [
    {
     "data": {
      "text/plain": [
       "(5261663, 20)"
      ]
     },
     "execution_count": 9,
     "metadata": {},
     "output_type": "execute_result"
    }
   ],
   "source": [
    "merged_data.head()\n",
    "merged_data.shape"
   ]
  },
  {
   "cell_type": "code",
   "execution_count": 10,
   "metadata": {},
   "outputs": [],
   "source": [
    "merged_data = merged_data.sort_values(['final_score'], ascending=False)"
   ]
  },
  {
   "cell_type": "code",
   "execution_count": 7,
   "metadata": {},
   "outputs": [],
   "source": [
    "restaurants_data = pd.read_csv('./filtered_categories_csv/restaurants_food.csv', encoding='ISO-8859-1')\n",
    "shopping_data = pd.read_csv('./filtered_categories_csv/shopping.csv', encoding='ISO-8859-1')\n",
    "beauty_data = pd.read_csv('./filtered_categories_csv/beautynspa.csv', encoding='ISO-8859-1')\n",
    "homeservice_data = pd.read_csv('./filtered_categories_csv/homeservice.csv', encoding='ISO-8859-1')\n",
    "health_data = pd.read_csv('./filtered_categories_csv/healthnmedical.csv', encoding='ISO-8859-1')"
   ]
  },
  {
   "cell_type": "code",
   "execution_count": 8,
   "metadata": {},
   "outputs": [
    {
     "data": {
      "text/html": [
       "<div>\n",
       "<style scoped>\n",
       "    .dataframe tbody tr th:only-of-type {\n",
       "        vertical-align: middle;\n",
       "    }\n",
       "\n",
       "    .dataframe tbody tr th {\n",
       "        vertical-align: top;\n",
       "    }\n",
       "\n",
       "    .dataframe thead th {\n",
       "        text-align: right;\n",
       "    }\n",
       "</style>\n",
       "<table border=\"1\" class=\"dataframe\">\n",
       "  <thead>\n",
       "    <tr style=\"text-align: right;\">\n",
       "      <th></th>\n",
       "      <th>Unnamed: 0_x</th>\n",
       "      <th>user_id</th>\n",
       "      <th>review_count</th>\n",
       "      <th>yelping_since</th>\n",
       "      <th>useful_x</th>\n",
       "      <th>fans</th>\n",
       "      <th>elite_count</th>\n",
       "      <th>compliment_count</th>\n",
       "      <th>months_since</th>\n",
       "      <th>final_score</th>\n",
       "      <th>Unnamed: 0_y</th>\n",
       "      <th>text</th>\n",
       "      <th>useful_y</th>\n",
       "      <th>business_id</th>\n",
       "      <th>cool</th>\n",
       "      <th>review_id</th>\n",
       "      <th>date</th>\n",
       "      <th>stars</th>\n",
       "      <th>funny</th>\n",
       "      <th>sentiment_score</th>\n",
       "    </tr>\n",
       "  </thead>\n",
       "  <tbody>\n",
       "    <tr>\n",
       "      <th>0</th>\n",
       "      <td>1095662</td>\n",
       "      <td>6s-g2vFu12OemhiK3FJuOQ</td>\n",
       "      <td>2337</td>\n",
       "      <td>2007-02-14</td>\n",
       "      <td>187492</td>\n",
       "      <td>824</td>\n",
       "      <td>11</td>\n",
       "      <td>23361</td>\n",
       "      <td>134</td>\n",
       "      <td>9.659785</td>\n",
       "      <td>4386500</td>\n",
       "      <td>b'After the Star Trek Experience, we stopped i...</td>\n",
       "      <td>3</td>\n",
       "      <td>b'9QtHDX71JnaQbmzWWVbi-A'</td>\n",
       "      <td>2</td>\n",
       "      <td>b'WlpRJVrgiinsMUw7r2J3oQ'</td>\n",
       "      <td>b'2008-05-30'</td>\n",
       "      <td>2</td>\n",
       "      <td>2</td>\n",
       "      <td>-2.0</td>\n",
       "    </tr>\n",
       "    <tr>\n",
       "      <th>45</th>\n",
       "      <td>1095662</td>\n",
       "      <td>6s-g2vFu12OemhiK3FJuOQ</td>\n",
       "      <td>2337</td>\n",
       "      <td>2007-02-14</td>\n",
       "      <td>187492</td>\n",
       "      <td>824</td>\n",
       "      <td>11</td>\n",
       "      <td>23361</td>\n",
       "      <td>134</td>\n",
       "      <td>9.659785</td>\n",
       "      <td>4408795</td>\n",
       "      <td>b\"After yet another night of insane Vegas part...</td>\n",
       "      <td>6</td>\n",
       "      <td>b'CHW_DPKnTqudyRaDa4vwkg'</td>\n",
       "      <td>5</td>\n",
       "      <td>b'99x9y-yvIocubtT7Pzv2sg'</td>\n",
       "      <td>b'2009-01-13'</td>\n",
       "      <td>3</td>\n",
       "      <td>9</td>\n",
       "      <td>7.0</td>\n",
       "    </tr>\n",
       "    <tr>\n",
       "      <th>65</th>\n",
       "      <td>1095662</td>\n",
       "      <td>6s-g2vFu12OemhiK3FJuOQ</td>\n",
       "      <td>2337</td>\n",
       "      <td>2007-02-14</td>\n",
       "      <td>187492</td>\n",
       "      <td>824</td>\n",
       "      <td>11</td>\n",
       "      <td>23361</td>\n",
       "      <td>134</td>\n",
       "      <td>9.659785</td>\n",
       "      <td>4408815</td>\n",
       "      <td>b\"Worth visiting for the view alone. If you're...</td>\n",
       "      <td>12</td>\n",
       "      <td>b'P5kh5APoGjBKNjnTw5gNlA'</td>\n",
       "      <td>8</td>\n",
       "      <td>b'Mro7hc-OOZPG6uuwZlGxCg'</td>\n",
       "      <td>b'2010-08-04'</td>\n",
       "      <td>4</td>\n",
       "      <td>4</td>\n",
       "      <td>1.0</td>\n",
       "    </tr>\n",
       "    <tr>\n",
       "      <th>64</th>\n",
       "      <td>1095662</td>\n",
       "      <td>6s-g2vFu12OemhiK3FJuOQ</td>\n",
       "      <td>2337</td>\n",
       "      <td>2007-02-14</td>\n",
       "      <td>187492</td>\n",
       "      <td>824</td>\n",
       "      <td>11</td>\n",
       "      <td>23361</td>\n",
       "      <td>134</td>\n",
       "      <td>9.659785</td>\n",
       "      <td>4408814</td>\n",
       "      <td>b\"From the mount, you've an impressive view of...</td>\n",
       "      <td>13</td>\n",
       "      <td>b'BYnmPgDK8QD5VTeUodQoZA'</td>\n",
       "      <td>13</td>\n",
       "      <td>b'jHw6de6bHgmlXjR59xMsoA'</td>\n",
       "      <td>b'2010-08-05'</td>\n",
       "      <td>5</td>\n",
       "      <td>10</td>\n",
       "      <td>2.0</td>\n",
       "    </tr>\n",
       "    <tr>\n",
       "      <th>63</th>\n",
       "      <td>1095662</td>\n",
       "      <td>6s-g2vFu12OemhiK3FJuOQ</td>\n",
       "      <td>2337</td>\n",
       "      <td>2007-02-14</td>\n",
       "      <td>187492</td>\n",
       "      <td>824</td>\n",
       "      <td>11</td>\n",
       "      <td>23361</td>\n",
       "      <td>134</td>\n",
       "      <td>9.659785</td>\n",
       "      <td>4408813</td>\n",
       "      <td>b'Awful awful awful awful awful.\\n\\nYes, the S...</td>\n",
       "      <td>14</td>\n",
       "      <td>b'rfwJFFzW6xW2qYfJh14OTA'</td>\n",
       "      <td>13</td>\n",
       "      <td>b'd8X4d32joc-qnyVX41tklg'</td>\n",
       "      <td>b'2009-12-07'</td>\n",
       "      <td>1</td>\n",
       "      <td>17</td>\n",
       "      <td>-5.0</td>\n",
       "    </tr>\n",
       "  </tbody>\n",
       "</table>\n",
       "</div>"
      ],
      "text/plain": [
       "    Unnamed: 0_x                 user_id  review_count yelping_since  \\\n",
       "0        1095662  6s-g2vFu12OemhiK3FJuOQ          2337    2007-02-14   \n",
       "45       1095662  6s-g2vFu12OemhiK3FJuOQ          2337    2007-02-14   \n",
       "65       1095662  6s-g2vFu12OemhiK3FJuOQ          2337    2007-02-14   \n",
       "64       1095662  6s-g2vFu12OemhiK3FJuOQ          2337    2007-02-14   \n",
       "63       1095662  6s-g2vFu12OemhiK3FJuOQ          2337    2007-02-14   \n",
       "\n",
       "    useful_x  fans  elite_count  compliment_count  months_since  final_score  \\\n",
       "0     187492   824           11             23361           134     9.659785   \n",
       "45    187492   824           11             23361           134     9.659785   \n",
       "65    187492   824           11             23361           134     9.659785   \n",
       "64    187492   824           11             23361           134     9.659785   \n",
       "63    187492   824           11             23361           134     9.659785   \n",
       "\n",
       "    Unnamed: 0_y                                               text  useful_y  \\\n",
       "0        4386500  b'After the Star Trek Experience, we stopped i...         3   \n",
       "45       4408795  b\"After yet another night of insane Vegas part...         6   \n",
       "65       4408815  b\"Worth visiting for the view alone. If you're...        12   \n",
       "64       4408814  b\"From the mount, you've an impressive view of...        13   \n",
       "63       4408813  b'Awful awful awful awful awful.\\n\\nYes, the S...        14   \n",
       "\n",
       "                  business_id  cool                  review_id           date  \\\n",
       "0   b'9QtHDX71JnaQbmzWWVbi-A'     2  b'WlpRJVrgiinsMUw7r2J3oQ'  b'2008-05-30'   \n",
       "45  b'CHW_DPKnTqudyRaDa4vwkg'     5  b'99x9y-yvIocubtT7Pzv2sg'  b'2009-01-13'   \n",
       "65  b'P5kh5APoGjBKNjnTw5gNlA'     8  b'Mro7hc-OOZPG6uuwZlGxCg'  b'2010-08-04'   \n",
       "64  b'BYnmPgDK8QD5VTeUodQoZA'    13  b'jHw6de6bHgmlXjR59xMsoA'  b'2010-08-05'   \n",
       "63  b'rfwJFFzW6xW2qYfJh14OTA'    13  b'd8X4d32joc-qnyVX41tklg'  b'2009-12-07'   \n",
       "\n",
       "    stars  funny  sentiment_score  \n",
       "0       2      2             -2.0  \n",
       "45      3      9              7.0  \n",
       "65      4      4              1.0  \n",
       "64      5     10              2.0  \n",
       "63      1     17             -5.0  "
      ]
     },
     "execution_count": 8,
     "metadata": {},
     "output_type": "execute_result"
    }
   ],
   "source": [
    "merged_data.head()"
   ]
  },
  {
   "cell_type": "code",
   "execution_count": 9,
   "metadata": {},
   "outputs": [
    {
     "name": "stdout",
     "output_type": "stream",
     "text": [
      "['Unnamed: 0_x', 'user_id', 'review_count', 'yelping_since', 'useful_x', 'fans', 'elite_count', 'compliment_count', 'months_since', 'final_score', 'Unnamed: 0_y', 'text', 'useful_y', 'business_id', 'cool', 'review_id', 'date', 'stars', 'funny', 'sentiment_score']\n"
     ]
    }
   ],
   "source": [
    "cols = merged_data.columns.values.tolist()\n",
    "print(cols)"
   ]
  },
  {
   "cell_type": "code",
   "execution_count": 10,
   "metadata": {},
   "outputs": [],
   "source": [
    "cols.remove('Unnamed: 0_y')\n",
    "cols.remove('Unnamed: 0_x')"
   ]
  },
  {
   "cell_type": "code",
   "execution_count": 11,
   "metadata": {},
   "outputs": [],
   "source": [
    "merged_data = merged_data[['user_id', 'review_count', 'yelping_since', 'useful_x', 'fans', 'elite_count', 'compliment_count',\n",
    "                           'months_since', 'final_score', 'text', 'useful_y', 'business_id', 'cool', 'review_id', 'date', \n",
    "                          'stars', 'funny', 'sentiment_score']]"
   ]
  },
  {
   "cell_type": "code",
   "execution_count": 12,
   "metadata": {},
   "outputs": [
    {
     "name": "stdout",
     "output_type": "stream",
     "text": [
      "(79395, 16) (27971, 16) (17014, 16) (16205, 16) (14230, 16)\n"
     ]
    }
   ],
   "source": [
    "print(restaurants_data.shape, shopping_data.shape, beauty_data.shape, homeservice_data.shape, health_data.shape)"
   ]
  },
  {
   "cell_type": "code",
   "execution_count": 12,
   "metadata": {},
   "outputs": [],
   "source": [
    "business_ids = []\n",
    "for item in merged_data['business_id']:\n",
    "    item = item.split(\"'\")[1]\n",
    "    business_ids.append(item)\n",
    "\n",
    "merged_data['business_id'] = business_ids"
   ]
  },
  {
   "cell_type": "code",
   "execution_count": 29,
   "metadata": {},
   "outputs": [],
   "source": [
    "restaurants_data = restaurants_data[['address', 'attributes', 'business_id', 'categories', 'city', 'hours', 'is_open', \n",
    "                                    'latitude', 'longitude', 'name', 'neighborhood', 'postal_code', 'review_count', \n",
    "                                    'stars', 'state']]"
   ]
  },
  {
   "cell_type": "code",
   "execution_count": 14,
   "metadata": {},
   "outputs": [
    {
     "data": {
      "text/plain": [
       "(4213367, 33)"
      ]
     },
     "execution_count": 14,
     "metadata": {},
     "output_type": "execute_result"
    }
   ],
   "source": [
    "restaurants_merged = pd.merge(restaurants_data, merged_data, on=\"business_id\")\n",
    "restaurants_merged.shape"
   ]
  },
  {
   "cell_type": "code",
   "execution_count": 15,
   "metadata": {},
   "outputs": [
    {
     "data": {
      "text/html": [
       "<div>\n",
       "<style scoped>\n",
       "    .dataframe tbody tr th:only-of-type {\n",
       "        vertical-align: middle;\n",
       "    }\n",
       "\n",
       "    .dataframe tbody tr th {\n",
       "        vertical-align: top;\n",
       "    }\n",
       "\n",
       "    .dataframe thead th {\n",
       "        text-align: right;\n",
       "    }\n",
       "</style>\n",
       "<table border=\"1\" class=\"dataframe\">\n",
       "  <thead>\n",
       "    <tr style=\"text-align: right;\">\n",
       "      <th></th>\n",
       "      <th>Unnamed: 0</th>\n",
       "      <th>address</th>\n",
       "      <th>attributes</th>\n",
       "      <th>business_id</th>\n",
       "      <th>categories</th>\n",
       "      <th>city</th>\n",
       "      <th>hours</th>\n",
       "      <th>is_open</th>\n",
       "      <th>latitude</th>\n",
       "      <th>longitude</th>\n",
       "      <th>...</th>\n",
       "      <th>months_since</th>\n",
       "      <th>final_score</th>\n",
       "      <th>text</th>\n",
       "      <th>useful_y</th>\n",
       "      <th>cool</th>\n",
       "      <th>review_id</th>\n",
       "      <th>date</th>\n",
       "      <th>stars_y</th>\n",
       "      <th>funny</th>\n",
       "      <th>sentiment_score</th>\n",
       "    </tr>\n",
       "  </thead>\n",
       "  <tbody>\n",
       "    <tr>\n",
       "      <th>669106</th>\n",
       "      <td>58900</td>\n",
       "      <td>3600 S Las Vegas Blvd</td>\n",
       "      <td>{'RestaurantsTableService': False, 'GoodForMea...</td>\n",
       "      <td>UUGoM4q4i8rK2CBRS0xDAw</td>\n",
       "      <td>['Coffee &amp; Tea', 'Cafes', 'Desserts', 'Food', ...</td>\n",
       "      <td>Las Vegas</td>\n",
       "      <td>{'Monday': '6:00-23:00', 'Tuesday': '6:00-23:0...</td>\n",
       "      <td>1</td>\n",
       "      <td>36.111946</td>\n",
       "      <td>-115.176877</td>\n",
       "      <td>...</td>\n",
       "      <td>134</td>\n",
       "      <td>9.659785</td>\n",
       "      <td>b\"Assuming you can secure a seat at the Jean P...</td>\n",
       "      <td>5</td>\n",
       "      <td>5</td>\n",
       "      <td>b'v3OIxFQHfa5Y6n1jUGw2fQ'</td>\n",
       "      <td>b'2008-06-09'</td>\n",
       "      <td>4</td>\n",
       "      <td>2</td>\n",
       "      <td>23.0</td>\n",
       "    </tr>\n",
       "    <tr>\n",
       "      <th>3449447</th>\n",
       "      <td>48339</td>\n",
       "      <td>1225 Rue du Square-Phillips</td>\n",
       "      <td>{'RestaurantsTableService': True, 'GoodForMeal...</td>\n",
       "      <td>RZk_PE-H9SygqwSQd88cWQ</td>\n",
       "      <td>['Restaurants', 'French']</td>\n",
       "      <td>Montreal</td>\n",
       "      <td>{'Monday': '11:30-21:00', 'Tuesday': '11:30-21...</td>\n",
       "      <td>1</td>\n",
       "      <td>45.504012</td>\n",
       "      <td>-73.568202</td>\n",
       "      <td>...</td>\n",
       "      <td>134</td>\n",
       "      <td>9.659785</td>\n",
       "      <td>b\"Friends and I lunched at Le Grand Comptoir, ...</td>\n",
       "      <td>1</td>\n",
       "      <td>3</td>\n",
       "      <td>b'f5X19lzsEih-LoLF2BBvMA'</td>\n",
       "      <td>b'2008-08-17'</td>\n",
       "      <td>4</td>\n",
       "      <td>0</td>\n",
       "      <td>20.0</td>\n",
       "    </tr>\n",
       "    <tr>\n",
       "      <th>499992</th>\n",
       "      <td>6918</td>\n",
       "      <td>8125 W Sahara Ave, Ste 110</td>\n",
       "      <td>{'Alcohol': 'full_bar', 'HasTV': False, 'Noise...</td>\n",
       "      <td>3m2XZFVraCiqjgLxHi5MdA</td>\n",
       "      <td>['American (New)', 'Restaurants']</td>\n",
       "      <td>Las Vegas</td>\n",
       "      <td>{'Monday': '17:30-22:00', 'Tuesday': '17:30-22...</td>\n",
       "      <td>0</td>\n",
       "      <td>36.142770</td>\n",
       "      <td>-115.269287</td>\n",
       "      <td>...</td>\n",
       "      <td>134</td>\n",
       "      <td>9.659785</td>\n",
       "      <td>b'We had dinner at Rosemary\\'s on a Sunday las...</td>\n",
       "      <td>2</td>\n",
       "      <td>1</td>\n",
       "      <td>b'DknSI7Lgz072RHbdaTj79A'</td>\n",
       "      <td>b'2007-11-06'</td>\n",
       "      <td>4</td>\n",
       "      <td>0</td>\n",
       "      <td>47.0</td>\n",
       "    </tr>\n",
       "    <tr>\n",
       "      <th>3221908</th>\n",
       "      <td>45228</td>\n",
       "      <td>5501 Josh Birmingham Pkwy</td>\n",
       "      <td>{'Alcohol': 'none', 'Caters': False, 'Restaura...</td>\n",
       "      <td>yVPiqeEWOzJuskp5G-twRw</td>\n",
       "      <td>['Fast Food', 'Chinese', 'Restaurants']</td>\n",
       "      <td>Charlotte</td>\n",
       "      <td>{}</td>\n",
       "      <td>1</td>\n",
       "      <td>35.221423</td>\n",
       "      <td>-80.943798</td>\n",
       "      <td>...</td>\n",
       "      <td>134</td>\n",
       "      <td>9.659785</td>\n",
       "      <td>b'The \"Chinese\" food at Manchu Wok is disgusti...</td>\n",
       "      <td>7</td>\n",
       "      <td>4</td>\n",
       "      <td>b'J8X0RX47VfFAvwYurusifQ'</td>\n",
       "      <td>b'2007-05-29'</td>\n",
       "      <td>1</td>\n",
       "      <td>5</td>\n",
       "      <td>-5.0</td>\n",
       "    </tr>\n",
       "    <tr>\n",
       "      <th>1065528</th>\n",
       "      <td>14871</td>\n",
       "      <td>The Orleans Hotel &amp; Casino, 4500 W Tropicana Ave</td>\n",
       "      <td>{'GoodForMeal': {'dessert': False, 'latenight'...</td>\n",
       "      <td>vLO7WdSy53qYHXl_PiRf1w</td>\n",
       "      <td>['Mexican', 'Restaurants']</td>\n",
       "      <td>Las Vegas</td>\n",
       "      <td>{}</td>\n",
       "      <td>0</td>\n",
       "      <td>36.105711</td>\n",
       "      <td>-115.202272</td>\n",
       "      <td>...</td>\n",
       "      <td>134</td>\n",
       "      <td>9.659785</td>\n",
       "      <td>b'It was Friday night and since the Yardhouse ...</td>\n",
       "      <td>3</td>\n",
       "      <td>4</td>\n",
       "      <td>b'd8xULn_AvZ3g-am6YGSMtg'</td>\n",
       "      <td>b'2008-12-19'</td>\n",
       "      <td>3</td>\n",
       "      <td>2</td>\n",
       "      <td>5.0</td>\n",
       "    </tr>\n",
       "  </tbody>\n",
       "</table>\n",
       "<p>5 rows × 33 columns</p>\n",
       "</div>"
      ],
      "text/plain": [
       "         Unnamed: 0                                           address  \\\n",
       "669106        58900                             3600 S Las Vegas Blvd   \n",
       "3449447       48339                       1225 Rue du Square-Phillips   \n",
       "499992         6918                        8125 W Sahara Ave, Ste 110   \n",
       "3221908       45228                         5501 Josh Birmingham Pkwy   \n",
       "1065528       14871  The Orleans Hotel & Casino, 4500 W Tropicana Ave   \n",
       "\n",
       "                                                attributes  \\\n",
       "669106   {'RestaurantsTableService': False, 'GoodForMea...   \n",
       "3449447  {'RestaurantsTableService': True, 'GoodForMeal...   \n",
       "499992   {'Alcohol': 'full_bar', 'HasTV': False, 'Noise...   \n",
       "3221908  {'Alcohol': 'none', 'Caters': False, 'Restaura...   \n",
       "1065528  {'GoodForMeal': {'dessert': False, 'latenight'...   \n",
       "\n",
       "                    business_id  \\\n",
       "669106   UUGoM4q4i8rK2CBRS0xDAw   \n",
       "3449447  RZk_PE-H9SygqwSQd88cWQ   \n",
       "499992   3m2XZFVraCiqjgLxHi5MdA   \n",
       "3221908  yVPiqeEWOzJuskp5G-twRw   \n",
       "1065528  vLO7WdSy53qYHXl_PiRf1w   \n",
       "\n",
       "                                                categories       city  \\\n",
       "669106   ['Coffee & Tea', 'Cafes', 'Desserts', 'Food', ...  Las Vegas   \n",
       "3449447                          ['Restaurants', 'French']   Montreal   \n",
       "499992                   ['American (New)', 'Restaurants']  Las Vegas   \n",
       "3221908            ['Fast Food', 'Chinese', 'Restaurants']  Charlotte   \n",
       "1065528                         ['Mexican', 'Restaurants']  Las Vegas   \n",
       "\n",
       "                                                     hours  is_open  \\\n",
       "669106   {'Monday': '6:00-23:00', 'Tuesday': '6:00-23:0...        1   \n",
       "3449447  {'Monday': '11:30-21:00', 'Tuesday': '11:30-21...        1   \n",
       "499992   {'Monday': '17:30-22:00', 'Tuesday': '17:30-22...        0   \n",
       "3221908                                                 {}        1   \n",
       "1065528                                                 {}        0   \n",
       "\n",
       "          latitude   longitude       ...        months_since final_score  \\\n",
       "669106   36.111946 -115.176877       ...                 134    9.659785   \n",
       "3449447  45.504012  -73.568202       ...                 134    9.659785   \n",
       "499992   36.142770 -115.269287       ...                 134    9.659785   \n",
       "3221908  35.221423  -80.943798       ...                 134    9.659785   \n",
       "1065528  36.105711 -115.202272       ...                 134    9.659785   \n",
       "\n",
       "                                                      text  useful_y  cool  \\\n",
       "669106   b\"Assuming you can secure a seat at the Jean P...         5     5   \n",
       "3449447  b\"Friends and I lunched at Le Grand Comptoir, ...         1     3   \n",
       "499992   b'We had dinner at Rosemary\\'s on a Sunday las...         2     1   \n",
       "3221908  b'The \"Chinese\" food at Manchu Wok is disgusti...         7     4   \n",
       "1065528  b'It was Friday night and since the Yardhouse ...         3     4   \n",
       "\n",
       "                         review_id           date  stars_y funny  \\\n",
       "669106   b'v3OIxFQHfa5Y6n1jUGw2fQ'  b'2008-06-09'        4     2   \n",
       "3449447  b'f5X19lzsEih-LoLF2BBvMA'  b'2008-08-17'        4     0   \n",
       "499992   b'DknSI7Lgz072RHbdaTj79A'  b'2007-11-06'        4     0   \n",
       "3221908  b'J8X0RX47VfFAvwYurusifQ'  b'2007-05-29'        1     5   \n",
       "1065528  b'd8xULn_AvZ3g-am6YGSMtg'  b'2008-12-19'        3     2   \n",
       "\n",
       "         sentiment_score  \n",
       "669106              23.0  \n",
       "3449447             20.0  \n",
       "499992              47.0  \n",
       "3221908             -5.0  \n",
       "1065528              5.0  \n",
       "\n",
       "[5 rows x 33 columns]"
      ]
     },
     "execution_count": 15,
     "metadata": {},
     "output_type": "execute_result"
    }
   ],
   "source": [
    "restaurants_merged = restaurants_merged.sort_values(['final_score'], ascending=False)\n",
    "restaurants_merged.head()"
   ]
  },
  {
   "cell_type": "code",
   "execution_count": 16,
   "metadata": {},
   "outputs": [],
   "source": [
    "shopping_data = shopping_data[['address', 'attributes', 'business_id', 'categories', 'city', 'hours', 'is_open', \n",
    "                                    'latitude', 'longitude', 'name', 'neighborhood', 'postal_code', 'review_count', \n",
    "                                    'stars', 'state']]\n",
    "\n",
    "beauty_data = beauty_data[['address', 'attributes', 'business_id', 'categories', 'city', 'hours', 'is_open', \n",
    "                                    'latitude', 'longitude', 'name', 'neighborhood', 'postal_code', 'review_count', \n",
    "                                    'stars', 'state']]\n",
    "\n",
    "homeservice_data = homeservice_data[['address', 'attributes', 'business_id', 'categories', 'city', 'hours', 'is_open', \n",
    "                                    'latitude', 'longitude', 'name', 'neighborhood', 'postal_code', 'review_count', \n",
    "                                    'stars', 'state']]\n",
    "\n",
    "health_data = health_data[['address', 'attributes', 'business_id', 'categories', 'city', 'hours', 'is_open', \n",
    "                                    'latitude', 'longitude', 'name', 'neighborhood', 'postal_code', 'review_count', \n",
    "                                    'stars', 'state']]"
   ]
  },
  {
   "cell_type": "code",
   "execution_count": 17,
   "metadata": {},
   "outputs": [],
   "source": [
    "shopping_merged = pd.merge(shopping_data, merged_data, on=\"business_id\")\n",
    "shopping_merged = shopping_merged.sort_values(['final_score'], ascending=False)\n",
    "#shopping_merged.head()"
   ]
  },
  {
   "cell_type": "code",
   "execution_count": 18,
   "metadata": {},
   "outputs": [],
   "source": [
    "beauty_merged = pd.merge(beauty_data, merged_data, on=\"business_id\")\n",
    "beauty_merged = beauty_merged.sort_values(['final_score'], ascending=False)"
   ]
  },
  {
   "cell_type": "code",
   "execution_count": 19,
   "metadata": {},
   "outputs": [],
   "source": [
    "homeservice_merged = pd.merge(homeservice_data, merged_data, on=\"business_id\")\n",
    "homeservice_merged = homeservice_merged.sort_values(['final_score'], ascending=False)"
   ]
  },
  {
   "cell_type": "code",
   "execution_count": 20,
   "metadata": {},
   "outputs": [],
   "source": [
    "health_merged = pd.merge(health_data, merged_data, on=\"business_id\")\n",
    "health_merged = health_merged.sort_values(['final_score'], ascending=False)"
   ]
  },
  {
   "cell_type": "code",
   "execution_count": 13,
   "metadata": {},
   "outputs": [],
   "source": [
    "states = [\"AL\", \"AK\", \"AZ\", \"AR\", \"CA\", \"CO\", \"CT\", \"DC\", \"DE\", \"FL\", \"GA\", \n",
    "          \"HI\", \"ID\", \"IL\", \"IN\", \"IA\", \"KS\", \"KY\", \"LA\", \"ME\", \"MD\", \n",
    "          \"MA\", \"MI\", \"MN\", \"MS\", \"MO\", \"MT\", \"NE\", \"NV\", \"NH\", \"NJ\", \n",
    "          \"NM\", \"NY\", \"NC\", \"ND\", \"OH\", \"OK\", \"OR\", \"PA\", \"RI\", \"SC\", \n",
    "          \"SD\", \"TN\", \"TX\", \"UT\", \"VT\", \"VA\", \"WA\", \"WV\", \"WI\", \"WY\"]"
   ]
  },
  {
   "cell_type": "code",
   "execution_count": 14,
   "metadata": {},
   "outputs": [
    {
     "name": "stdout",
     "output_type": "stream",
     "text": [
      "['6s-g2vFu12OemhiK3FJuOQ', 'JjXuiru1_ONzDkYVrHN0aw', '23J4vG9_xxxdnmi8CBX7Ng', 'VHdY6oG2JPVNjihWhOooAQ', 'nkN_do3fJ9xekchVC-v68A', 'om5ZiponkpRqUNa3pVPiRg', 'gjhzKWsqCIrpEd9pevbKZw', 'iLjMdZi0Tm7DQxX1C1_2dg', 'G5LXEaxhQMF_BVjNHkVr7g', 'ysCBsXWPB-LAiewVS3jZfQ']\n"
     ]
    }
   ],
   "source": [
    "top_US_users = merged_data['user_id'].unique().tolist()[:10]\n",
    "print(top_US_users)"
   ]
  },
  {
   "cell_type": "code",
   "execution_count": 26,
   "metadata": {},
   "outputs": [
    {
     "name": "stdout",
     "output_type": "stream",
     "text": [
      "(4213367, 33) (177538, 32) (384646, 32) (318243, 32) (205549, 32)\n"
     ]
    }
   ],
   "source": [
    "print(restaurants_merged.shape, health_merged.shape, shopping_merged.shape, beauty_merged.shape, homeservice_merged.shape)"
   ]
  },
  {
   "cell_type": "code",
   "execution_count": 34,
   "metadata": {},
   "outputs": [
    {
     "data": {
      "text/plain": [
       "(0, 32)"
      ]
     },
     "execution_count": 34,
     "metadata": {},
     "output_type": "execute_result"
    }
   ],
   "source": [
    "restaurants_merged[restaurants_merged['user_id'] == top_US_users[2]].shape"
   ]
  },
  {
   "cell_type": "code",
   "execution_count": 15,
   "metadata": {},
   "outputs": [
    {
     "data": {
      "text/plain": [
       "(5261663, 18)"
      ]
     },
     "execution_count": 15,
     "metadata": {},
     "output_type": "execute_result"
    }
   ],
   "source": [
    "merged_data.shape"
   ]
  },
  {
   "cell_type": "code",
   "execution_count": 16,
   "metadata": {},
   "outputs": [
    {
     "name": "stdout",
     "output_type": "stream",
     "text": [
      "(174567, 15)\n"
     ]
    }
   ],
   "source": [
    "business_json_data = None\n",
    "with open('./dataset/business.json', encoding='utf-8') as data:\n",
    "    business_json_data = data.readlines()\n",
    "    \n",
    "business_json_data = map(lambda x: x.rstrip(), business_json_data)\n",
    "\n",
    "data_str = \"[\" + \",\".join(business_json_data) + \"]\"\n",
    "\n",
    "business_data = pd.read_json(data_str)\n",
    "\n",
    "print(business_data.shape)"
   ]
  },
  {
   "cell_type": "code",
   "execution_count": 17,
   "metadata": {},
   "outputs": [
    {
     "data": {
      "text/plain": [
       "(5261663, 32)"
      ]
     },
     "execution_count": 17,
     "metadata": {},
     "output_type": "execute_result"
    }
   ],
   "source": [
    "final_merged = pd.merge(merged_data, business_data, on=\"business_id\")\n",
    "final_merged.shape"
   ]
  },
  {
   "cell_type": "code",
   "execution_count": 18,
   "metadata": {},
   "outputs": [],
   "source": [
    "final_merged = final_merged.sort_values(['final_score'], ascending=False)"
   ]
  },
  {
   "cell_type": "code",
   "execution_count": 45,
   "metadata": {},
   "outputs": [
    {
     "data": {
      "text/plain": [
       "500"
      ]
     },
     "execution_count": 45,
     "metadata": {},
     "output_type": "execute_result"
    }
   ],
   "source": [
    "top_five_hund = final_merged['user_id'].unique().tolist()[:500]\n",
    "len(top_five_hund)"
   ]
  },
  {
   "cell_type": "code",
   "execution_count": null,
   "metadata": {},
   "outputs": [],
   "source": []
  },
  {
   "cell_type": "code",
   "execution_count": null,
   "metadata": {},
   "outputs": [],
   "source": []
  },
  {
   "cell_type": "code",
   "execution_count": 19,
   "metadata": {},
   "outputs": [],
   "source": [
    "final_merged = final_merged[final_merged['state'].isin(states)]"
   ]
  },
  {
   "cell_type": "code",
   "execution_count": 20,
   "metadata": {},
   "outputs": [
    {
     "data": {
      "text/plain": [
       "(4391451, 32)"
      ]
     },
     "execution_count": 20,
     "metadata": {},
     "output_type": "execute_result"
    }
   ],
   "source": [
    "final_merged.shape"
   ]
  },
  {
   "cell_type": "code",
   "execution_count": 21,
   "metadata": {},
   "outputs": [],
   "source": [
    "final_merged = final_merged.sort_values(['final_score'], ascending=False)"
   ]
  },
  {
   "cell_type": "code",
   "execution_count": 22,
   "metadata": {},
   "outputs": [
    {
     "name": "stdout",
     "output_type": "stream",
     "text": [
      "['6s-g2vFu12OemhiK3FJuOQ', 'JjXuiru1_ONzDkYVrHN0aw', '23J4vG9_xxxdnmi8CBX7Ng', 'VHdY6oG2JPVNjihWhOooAQ', 'nkN_do3fJ9xekchVC-v68A', 'om5ZiponkpRqUNa3pVPiRg', 'gjhzKWsqCIrpEd9pevbKZw', 'iLjMdZi0Tm7DQxX1C1_2dg', 'G5LXEaxhQMF_BVjNHkVr7g', 'ysCBsXWPB-LAiewVS3jZfQ']\n"
     ]
    }
   ],
   "source": [
    "top_US_users = final_merged['user_id'].unique().tolist()[:10]\n",
    "print(top_US_users)"
   ]
  },
  {
   "cell_type": "code",
   "execution_count": 27,
   "metadata": {},
   "outputs": [],
   "source": [
    "az_data = final_merged[final_merged['state'] == \"AZ\"]"
   ]
  },
  {
   "cell_type": "code",
   "execution_count": 60,
   "metadata": {},
   "outputs": [
    {
     "name": "stdout",
     "output_type": "stream",
     "text": [
      "409382\n"
     ]
    }
   ],
   "source": [
    "print(len(az_data['user_id'].unique().tolist()))"
   ]
  },
  {
   "cell_type": "code",
   "execution_count": 28,
   "metadata": {},
   "outputs": [
    {
     "name": "stdout",
     "output_type": "stream",
     "text": [
      "['Phoenix', 'Scottsdale', 'Tempe', 'Mesa', 'Chandler', 'Gilbert', 'Glendale', 'Peoria', 'Surprise', 'Goodyear']\n"
     ]
    }
   ],
   "source": [
    "counties = az_data['city'].value_counts().index[:10].tolist()\n",
    "print(counties)"
   ]
  },
  {
   "cell_type": "code",
   "execution_count": 24,
   "metadata": {},
   "outputs": [
    {
     "name": "stdout",
     "output_type": "stream",
     "text": [
      "25\n"
     ]
    }
   ],
   "source": [
    "state_data = final_merged['state'].unique().tolist()\n",
    "print(len(state_data))"
   ]
  },
  {
   "cell_type": "code",
   "execution_count": 48,
   "metadata": {},
   "outputs": [
    {
     "name": "stdout",
     "output_type": "stream",
     "text": [
      "34.19237494468689\n",
      "3.710676431655884\n",
      "1.8906562328338623\n",
      "1.9872674942016602\n",
      "5.4978578090667725\n",
      "1.4162023067474365\n",
      "1.1643004417419434\n",
      "0.920924186706543\n",
      "0.9264242649078369\n",
      "0.690920352935791\n",
      "0.7671525478363037\n",
      "0.8083178997039795\n",
      "0.6629111766815186\n",
      "0.6750853061676025\n",
      "0.715609073638916\n",
      "0.6466972827911377\n",
      "0.6363177299499512\n",
      "0.6467173099517822\n",
      "0.6037766933441162\n",
      "0.653019905090332\n",
      "0.6359272003173828\n",
      "0.6512854099273682\n",
      "0.7061648368835449\n",
      "0.626537561416626\n",
      "0.6163878440856934\n"
     ]
    }
   ],
   "source": [
    "import time\n",
    "\n",
    "for state in state_data:\n",
    "    start_time = time.time()\n",
    "    temp = final_merged[final_merged['state'] == state].sort_values(['final_score'], ascending=False)\n",
    "    top_user = temp['user_id'].unique().tolist()[:10]\n",
    "    for user in top_user:\n",
    "        temp_new = temp[temp['user_id'] == user].sort_values(['sentiment_score'], ascending=False)\n",
    "        temp_new.iloc[:10,:].to_csv('./filtered_categories_csv/state_user_data_new.csv', mode='a', header=False)\n",
    "    end_time = time.time()\n",
    "    print(end_time - start_time)"
   ]
  },
  {
   "cell_type": "code",
   "execution_count": 76,
   "metadata": {},
   "outputs": [
    {
     "name": "stdout",
     "output_type": "stream",
     "text": [
      "31.04826831817627\n",
      "5.546103000640869\n",
      "2.755023956298828\n",
      "2.1990766525268555\n",
      "1.9436752796173096\n",
      "1.5869970321655273\n",
      "1.156505823135376\n",
      "0.846550464630127\n",
      "0.6993207931518555\n",
      "0.713702917098999\n"
     ]
    }
   ],
   "source": [
    "import time\n",
    "\n",
    "for item in counties:\n",
    "    start_time = time.time()\n",
    "    temp = az_data[az_data['city'] == item].sort_values(['final_score'], ascending=False)\n",
    "    top_user = temp['user_id'].unique().tolist()[:10]\n",
    "    for user in top_user:\n",
    "        temp_new = temp[temp['user_id'] == user].sort_values(['sentiment_score'], ascending=False)\n",
    "        temp_new.iloc[:10,:].to_csv('./AZ_user_data/az_data.csv', mode='a', header=False)\n",
    "    end_time = time.time()\n",
    "    print(end_time - start_time)"
   ]
  },
  {
   "cell_type": "code",
   "execution_count": 32,
   "metadata": {},
   "outputs": [
    {
     "name": "stderr",
     "output_type": "stream",
     "text": [
      "b'Skipping line 477: expected 32 fields, saw 33\\nSkipping line 478: expected 32 fields, saw 33\\nSkipping line 479: expected 32 fields, saw 33\\nSkipping line 480: expected 32 fields, saw 33\\nSkipping line 481: expected 32 fields, saw 33\\nSkipping line 482: expected 32 fields, saw 33\\nSkipping line 483: expected 32 fields, saw 33\\nSkipping line 484: expected 32 fields, saw 33\\nSkipping line 485: expected 32 fields, saw 33\\nSkipping line 486: expected 32 fields, saw 33\\nSkipping line 487: expected 32 fields, saw 33\\nSkipping line 488: expected 32 fields, saw 33\\nSkipping line 489: expected 32 fields, saw 33\\nSkipping line 490: expected 32 fields, saw 33\\nSkipping line 491: expected 32 fields, saw 33\\nSkipping line 492: expected 32 fields, saw 33\\nSkipping line 493: expected 32 fields, saw 33\\nSkipping line 494: expected 32 fields, saw 33\\nSkipping line 495: expected 32 fields, saw 33\\nSkipping line 496: expected 32 fields, saw 33\\nSkipping line 497: expected 32 fields, saw 33\\nSkipping line 498: expected 32 fields, saw 33\\nSkipping line 499: expected 32 fields, saw 33\\nSkipping line 500: expected 32 fields, saw 33\\nSkipping line 501: expected 32 fields, saw 33\\nSkipping line 502: expected 32 fields, saw 33\\nSkipping line 503: expected 32 fields, saw 33\\nSkipping line 504: expected 32 fields, saw 33\\nSkipping line 505: expected 32 fields, saw 33\\nSkipping line 506: expected 32 fields, saw 33\\nSkipping line 507: expected 32 fields, saw 33\\nSkipping line 508: expected 32 fields, saw 33\\nSkipping line 509: expected 32 fields, saw 33\\nSkipping line 510: expected 32 fields, saw 33\\nSkipping line 511: expected 32 fields, saw 33\\nSkipping line 512: expected 32 fields, saw 33\\nSkipping line 513: expected 32 fields, saw 33\\nSkipping line 514: expected 32 fields, saw 33\\nSkipping line 515: expected 32 fields, saw 33\\nSkipping line 516: expected 32 fields, saw 33\\nSkipping line 517: expected 32 fields, saw 33\\nSkipping line 518: expected 32 fields, saw 33\\nSkipping line 519: expected 32 fields, saw 33\\nSkipping line 520: expected 32 fields, saw 33\\nSkipping line 521: expected 32 fields, saw 33\\nSkipping line 522: expected 32 fields, saw 33\\nSkipping line 523: expected 32 fields, saw 33\\nSkipping line 524: expected 32 fields, saw 33\\nSkipping line 525: expected 32 fields, saw 33\\nSkipping line 526: expected 32 fields, saw 33\\nSkipping line 527: expected 32 fields, saw 33\\nSkipping line 528: expected 32 fields, saw 33\\nSkipping line 529: expected 32 fields, saw 33\\nSkipping line 530: expected 32 fields, saw 33\\nSkipping line 531: expected 32 fields, saw 33\\nSkipping line 532: expected 32 fields, saw 33\\nSkipping line 533: expected 32 fields, saw 33\\nSkipping line 534: expected 32 fields, saw 33\\nSkipping line 535: expected 32 fields, saw 33\\nSkipping line 536: expected 32 fields, saw 33\\nSkipping line 537: expected 32 fields, saw 33\\nSkipping line 538: expected 32 fields, saw 33\\nSkipping line 539: expected 32 fields, saw 33\\nSkipping line 540: expected 32 fields, saw 33\\nSkipping line 541: expected 32 fields, saw 33\\nSkipping line 542: expected 32 fields, saw 33\\nSkipping line 543: expected 32 fields, saw 33\\nSkipping line 544: expected 32 fields, saw 33\\nSkipping line 545: expected 32 fields, saw 33\\nSkipping line 546: expected 32 fields, saw 33\\nSkipping line 547: expected 32 fields, saw 33\\nSkipping line 548: expected 32 fields, saw 33\\nSkipping line 549: expected 32 fields, saw 33\\nSkipping line 550: expected 32 fields, saw 33\\nSkipping line 551: expected 32 fields, saw 33\\nSkipping line 552: expected 32 fields, saw 33\\nSkipping line 553: expected 32 fields, saw 33\\nSkipping line 554: expected 32 fields, saw 33\\nSkipping line 555: expected 32 fields, saw 33\\nSkipping line 556: expected 32 fields, saw 33\\nSkipping line 557: expected 32 fields, saw 33\\nSkipping line 558: expected 32 fields, saw 33\\nSkipping line 559: expected 32 fields, saw 33\\nSkipping line 560: expected 32 fields, saw 33\\nSkipping line 561: expected 32 fields, saw 33\\nSkipping line 562: expected 32 fields, saw 33\\nSkipping line 563: expected 32 fields, saw 33\\nSkipping line 564: expected 32 fields, saw 33\\nSkipping line 565: expected 32 fields, saw 33\\nSkipping line 566: expected 32 fields, saw 33\\nSkipping line 567: expected 32 fields, saw 33\\nSkipping line 568: expected 32 fields, saw 33\\nSkipping line 569: expected 32 fields, saw 33\\nSkipping line 570: expected 32 fields, saw 33\\nSkipping line 571: expected 32 fields, saw 33\\nSkipping line 572: expected 32 fields, saw 33\\nSkipping line 573: expected 32 fields, saw 33\\nSkipping line 574: expected 32 fields, saw 33\\nSkipping line 575: expected 32 fields, saw 33\\nSkipping line 576: expected 32 fields, saw 33\\nSkipping line 577: expected 32 fields, saw 33\\nSkipping line 578: expected 32 fields, saw 33\\nSkipping line 579: expected 32 fields, saw 33\\nSkipping line 580: expected 32 fields, saw 33\\nSkipping line 581: expected 32 fields, saw 33\\nSkipping line 582: expected 32 fields, saw 33\\nSkipping line 583: expected 32 fields, saw 33\\nSkipping line 584: expected 32 fields, saw 33\\nSkipping line 585: expected 32 fields, saw 33\\nSkipping line 586: expected 32 fields, saw 33\\nSkipping line 587: expected 32 fields, saw 33\\nSkipping line 588: expected 32 fields, saw 33\\nSkipping line 589: expected 32 fields, saw 33\\nSkipping line 590: expected 32 fields, saw 33\\nSkipping line 591: expected 32 fields, saw 33\\nSkipping line 592: expected 32 fields, saw 33\\nSkipping line 593: expected 32 fields, saw 33\\nSkipping line 594: expected 32 fields, saw 33\\nSkipping line 595: expected 32 fields, saw 33\\nSkipping line 596: expected 32 fields, saw 33\\nSkipping line 597: expected 32 fields, saw 33\\nSkipping line 598: expected 32 fields, saw 33\\nSkipping line 599: expected 32 fields, saw 33\\nSkipping line 600: expected 32 fields, saw 33\\nSkipping line 601: expected 32 fields, saw 33\\nSkipping line 602: expected 32 fields, saw 33\\nSkipping line 603: expected 32 fields, saw 33\\nSkipping line 604: expected 32 fields, saw 33\\nSkipping line 605: expected 32 fields, saw 33\\nSkipping line 606: expected 32 fields, saw 33\\nSkipping line 607: expected 32 fields, saw 33\\nSkipping line 608: expected 32 fields, saw 33\\nSkipping line 609: expected 32 fields, saw 33\\nSkipping line 610: expected 32 fields, saw 33\\nSkipping line 611: expected 32 fields, saw 33\\nSkipping line 612: expected 32 fields, saw 33\\nSkipping line 613: expected 32 fields, saw 33\\nSkipping line 614: expected 32 fields, saw 33\\nSkipping line 615: expected 32 fields, saw 33\\nSkipping line 616: expected 32 fields, saw 33\\nSkipping line 617: expected 32 fields, saw 33\\nSkipping line 618: expected 32 fields, saw 33\\nSkipping line 619: expected 32 fields, saw 33\\nSkipping line 620: expected 32 fields, saw 33\\nSkipping line 621: expected 32 fields, saw 33\\nSkipping line 622: expected 32 fields, saw 33\\nSkipping line 623: expected 32 fields, saw 33\\nSkipping line 624: expected 32 fields, saw 33\\nSkipping line 625: expected 32 fields, saw 33\\nSkipping line 626: expected 32 fields, saw 33\\nSkipping line 627: expected 32 fields, saw 33\\nSkipping line 628: expected 32 fields, saw 33\\nSkipping line 629: expected 32 fields, saw 33\\nSkipping line 630: expected 32 fields, saw 33\\nSkipping line 631: expected 32 fields, saw 33\\nSkipping line 632: expected 32 fields, saw 33\\nSkipping line 633: expected 32 fields, saw 33\\nSkipping line 634: expected 32 fields, saw 33\\nSkipping line 635: expected 32 fields, saw 33\\nSkipping line 636: expected 32 fields, saw 33\\nSkipping line 637: expected 32 fields, saw 33\\nSkipping line 638: expected 32 fields, saw 33\\nSkipping line 639: expected 32 fields, saw 33\\nSkipping line 640: expected 32 fields, saw 33\\nSkipping line 641: expected 32 fields, saw 33\\nSkipping line 642: expected 32 fields, saw 33\\nSkipping line 643: expected 32 fields, saw 33\\nSkipping line 644: expected 32 fields, saw 33\\nSkipping line 645: expected 32 fields, saw 33\\nSkipping line 646: expected 32 fields, saw 33\\nSkipping line 647: expected 32 fields, saw 33\\nSkipping line 648: expected 32 fields, saw 33\\nSkipping line 649: expected 32 fields, saw 33\\nSkipping line 650: expected 32 fields, saw 33\\nSkipping line 651: expected 32 fields, saw 33\\nSkipping line 652: expected 32 fields, saw 33\\nSkipping line 653: expected 32 fields, saw 33\\nSkipping line 654: expected 32 fields, saw 33\\nSkipping line 655: expected 32 fields, saw 33\\nSkipping line 656: expected 32 fields, saw 33\\nSkipping line 657: expected 32 fields, saw 33\\nSkipping line 658: expected 32 fields, saw 33\\nSkipping line 659: expected 32 fields, saw 33\\nSkipping line 660: expected 32 fields, saw 33\\nSkipping line 661: expected 32 fields, saw 33\\nSkipping line 662: expected 32 fields, saw 33\\nSkipping line 663: expected 32 fields, saw 33\\nSkipping line 664: expected 32 fields, saw 33\\nSkipping line 665: expected 32 fields, saw 33\\nSkipping line 666: expected 32 fields, saw 33\\nSkipping line 667: expected 32 fields, saw 33\\nSkipping line 668: expected 32 fields, saw 33\\nSkipping line 669: expected 32 fields, saw 33\\nSkipping line 670: expected 32 fields, saw 33\\nSkipping line 671: expected 32 fields, saw 33\\nSkipping line 672: expected 32 fields, saw 33\\nSkipping line 673: expected 32 fields, saw 33\\nSkipping line 674: expected 32 fields, saw 33\\nSkipping line 675: expected 32 fields, saw 33\\nSkipping line 676: expected 32 fields, saw 33\\nSkipping line 677: expected 32 fields, saw 33\\nSkipping line 678: expected 32 fields, saw 33\\nSkipping line 679: expected 32 fields, saw 33\\nSkipping line 680: expected 32 fields, saw 33\\nSkipping line 681: expected 32 fields, saw 33\\nSkipping line 682: expected 32 fields, saw 33\\nSkipping line 683: expected 32 fields, saw 33\\nSkipping line 684: expected 32 fields, saw 33\\nSkipping line 685: expected 32 fields, saw 33\\nSkipping line 686: expected 32 fields, saw 33\\nSkipping line 687: expected 32 fields, saw 33\\nSkipping line 688: expected 32 fields, saw 33\\nSkipping line 689: expected 32 fields, saw 33\\nSkipping line 690: expected 32 fields, saw 33\\nSkipping line 691: expected 32 fields, saw 33\\nSkipping line 692: expected 32 fields, saw 33\\nSkipping line 693: expected 32 fields, saw 33\\nSkipping line 694: expected 32 fields, saw 33\\nSkipping line 695: expected 32 fields, saw 33\\nSkipping line 696: expected 32 fields, saw 33\\nSkipping line 697: expected 32 fields, saw 33\\nSkipping line 698: expected 32 fields, saw 33\\nSkipping line 699: expected 32 fields, saw 33\\nSkipping line 700: expected 32 fields, saw 33\\nSkipping line 701: expected 32 fields, saw 33\\nSkipping line 702: expected 32 fields, saw 33\\nSkipping line 703: expected 32 fields, saw 33\\nSkipping line 704: expected 32 fields, saw 33\\nSkipping line 705: expected 32 fields, saw 33\\nSkipping line 706: expected 32 fields, saw 33\\nSkipping line 707: expected 32 fields, saw 33\\nSkipping line 708: expected 32 fields, saw 33\\nSkipping line 709: expected 32 fields, saw 33\\nSkipping line 710: expected 32 fields, saw 33\\nSkipping line 711: expected 32 fields, saw 33\\nSkipping line 712: expected 32 fields, saw 33\\nSkipping line 713: expected 32 fields, saw 33\\nSkipping line 714: expected 32 fields, saw 33\\nSkipping line 715: expected 32 fields, saw 33\\nSkipping line 716: expected 32 fields, saw 33\\nSkipping line 717: expected 32 fields, saw 33\\nSkipping line 718: expected 32 fields, saw 33\\nSkipping line 719: expected 32 fields, saw 33\\nSkipping line 720: expected 32 fields, saw 33\\nSkipping line 721: expected 32 fields, saw 33\\nSkipping line 722: expected 32 fields, saw 33\\nSkipping line 723: expected 32 fields, saw 33\\nSkipping line 724: expected 32 fields, saw 33\\nSkipping line 725: expected 32 fields, saw 33\\nSkipping line 726: expected 32 fields, saw 33\\nSkipping line 727: expected 32 fields, saw 33\\nSkipping line 728: expected 32 fields, saw 33\\nSkipping line 729: expected 32 fields, saw 33\\nSkipping line 730: expected 32 fields, saw 33\\nSkipping line 731: expected 32 fields, saw 33\\nSkipping line 732: expected 32 fields, saw 33\\nSkipping line 733: expected 32 fields, saw 33\\nSkipping line 734: expected 32 fields, saw 33\\nSkipping line 735: expected 32 fields, saw 33\\nSkipping line 736: expected 32 fields, saw 33\\nSkipping line 737: expected 32 fields, saw 33\\nSkipping line 738: expected 32 fields, saw 33\\nSkipping line 739: expected 32 fields, saw 33\\nSkipping line 740: expected 32 fields, saw 33\\nSkipping line 741: expected 32 fields, saw 33\\nSkipping line 742: expected 32 fields, saw 33\\nSkipping line 743: expected 32 fields, saw 33\\nSkipping line 744: expected 32 fields, saw 33\\nSkipping line 745: expected 32 fields, saw 33\\nSkipping line 746: expected 32 fields, saw 33\\nSkipping line 747: expected 32 fields, saw 33\\nSkipping line 748: expected 32 fields, saw 33\\nSkipping line 749: expected 32 fields, saw 33\\nSkipping line 750: expected 32 fields, saw 33\\nSkipping line 751: expected 32 fields, saw 33\\nSkipping line 752: expected 32 fields, saw 33\\nSkipping line 753: expected 32 fields, saw 33\\nSkipping line 754: expected 32 fields, saw 33\\nSkipping line 755: expected 32 fields, saw 33\\nSkipping line 756: expected 32 fields, saw 33\\nSkipping line 757: expected 32 fields, saw 33\\nSkipping line 758: expected 32 fields, saw 33\\nSkipping line 759: expected 32 fields, saw 33\\nSkipping line 760: expected 32 fields, saw 33\\nSkipping line 761: expected 32 fields, saw 33\\nSkipping line 762: expected 32 fields, saw 33\\nSkipping line 763: expected 32 fields, saw 33\\nSkipping line 764: expected 32 fields, saw 33\\nSkipping line 765: expected 32 fields, saw 33\\nSkipping line 766: expected 32 fields, saw 33\\nSkipping line 767: expected 32 fields, saw 33\\nSkipping line 768: expected 32 fields, saw 33\\nSkipping line 769: expected 32 fields, saw 33\\nSkipping line 770: expected 32 fields, saw 33\\nSkipping line 771: expected 32 fields, saw 33\\nSkipping line 772: expected 32 fields, saw 33\\nSkipping line 773: expected 32 fields, saw 33\\nSkipping line 774: expected 32 fields, saw 33\\nSkipping line 775: expected 32 fields, saw 33\\nSkipping line 776: expected 32 fields, saw 33\\nSkipping line 777: expected 32 fields, saw 33\\nSkipping line 778: expected 32 fields, saw 33\\nSkipping line 779: expected 32 fields, saw 33\\nSkipping line 780: expected 32 fields, saw 33\\nSkipping line 781: expected 32 fields, saw 33\\nSkipping line 782: expected 32 fields, saw 33\\nSkipping line 783: expected 32 fields, saw 33\\nSkipping line 784: expected 32 fields, saw 33\\nSkipping line 785: expected 32 fields, saw 33\\nSkipping line 786: expected 32 fields, saw 33\\nSkipping line 787: expected 32 fields, saw 33\\nSkipping line 788: expected 32 fields, saw 33\\nSkipping line 789: expected 32 fields, saw 33\\nSkipping line 790: expected 32 fields, saw 33\\nSkipping line 791: expected 32 fields, saw 33\\nSkipping line 792: expected 32 fields, saw 33\\nSkipping line 793: expected 32 fields, saw 33\\nSkipping line 794: expected 32 fields, saw 33\\nSkipping line 795: expected 32 fields, saw 33\\nSkipping line 796: expected 32 fields, saw 33\\nSkipping line 797: expected 32 fields, saw 33\\nSkipping line 798: expected 32 fields, saw 33\\nSkipping line 799: expected 32 fields, saw 33\\nSkipping line 800: expected 32 fields, saw 33\\nSkipping line 801: expected 32 fields, saw 33\\nSkipping line 802: expected 32 fields, saw 33\\nSkipping line 803: expected 32 fields, saw 33\\nSkipping line 804: expected 32 fields, saw 33\\nSkipping line 805: expected 32 fields, saw 33\\nSkipping line 806: expected 32 fields, saw 33\\nSkipping line 807: expected 32 fields, saw 33\\nSkipping line 808: expected 32 fields, saw 33\\nSkipping line 809: expected 32 fields, saw 33\\nSkipping line 810: expected 32 fields, saw 33\\nSkipping line 811: expected 32 fields, saw 33\\nSkipping line 812: expected 32 fields, saw 33\\nSkipping line 813: expected 32 fields, saw 33\\nSkipping line 814: expected 32 fields, saw 33\\nSkipping line 815: expected 32 fields, saw 33\\nSkipping line 816: expected 32 fields, saw 33\\nSkipping line 817: expected 32 fields, saw 33\\nSkipping line 818: expected 32 fields, saw 33\\nSkipping line 819: expected 32 fields, saw 33\\nSkipping line 820: expected 32 fields, saw 33\\nSkipping line 821: expected 32 fields, saw 33\\nSkipping line 822: expected 32 fields, saw 33\\nSkipping line 823: expected 32 fields, saw 33\\nSkipping line 824: expected 32 fields, saw 33\\nSkipping line 825: expected 32 fields, saw 33\\nSkipping line 826: expected 32 fields, saw 33\\nSkipping line 827: expected 32 fields, saw 33\\nSkipping line 828: expected 32 fields, saw 33\\nSkipping line 829: expected 32 fields, saw 33\\nSkipping line 830: expected 32 fields, saw 33\\nSkipping line 831: expected 32 fields, saw 33\\nSkipping line 832: expected 32 fields, saw 33\\nSkipping line 833: expected 32 fields, saw 33\\nSkipping line 834: expected 32 fields, saw 33\\nSkipping line 835: expected 32 fields, saw 33\\nSkipping line 836: expected 32 fields, saw 33\\nSkipping line 837: expected 32 fields, saw 33\\nSkipping line 838: expected 32 fields, saw 33\\nSkipping line 839: expected 32 fields, saw 33\\nSkipping line 840: expected 32 fields, saw 33\\nSkipping line 841: expected 32 fields, saw 33\\nSkipping line 842: expected 32 fields, saw 33\\nSkipping line 843: expected 32 fields, saw 33\\nSkipping line 844: expected 32 fields, saw 33\\nSkipping line 845: expected 32 fields, saw 33\\nSkipping line 846: expected 32 fields, saw 33\\nSkipping line 847: expected 32 fields, saw 33\\nSkipping line 848: expected 32 fields, saw 33\\nSkipping line 849: expected 32 fields, saw 33\\nSkipping line 850: expected 32 fields, saw 33\\nSkipping line 851: expected 32 fields, saw 33\\nSkipping line 852: expected 32 fields, saw 33\\nSkipping line 853: expected 32 fields, saw 33\\nSkipping line 854: expected 32 fields, saw 33\\nSkipping line 855: expected 32 fields, saw 33\\nSkipping line 856: expected 32 fields, saw 33\\nSkipping line 857: expected 32 fields, saw 33\\nSkipping line 858: expected 32 fields, saw 33\\nSkipping line 859: expected 32 fields, saw 33\\nSkipping line 860: expected 32 fields, saw 33\\nSkipping line 861: expected 32 fields, saw 33\\nSkipping line 862: expected 32 fields, saw 33\\nSkipping line 863: expected 32 fields, saw 33\\nSkipping line 864: expected 32 fields, saw 33\\nSkipping line 865: expected 32 fields, saw 33\\nSkipping line 866: expected 32 fields, saw 33\\nSkipping line 867: expected 32 fields, saw 33\\nSkipping line 868: expected 32 fields, saw 33\\nSkipping line 869: expected 32 fields, saw 33\\nSkipping line 870: expected 32 fields, saw 33\\nSkipping line 871: expected 32 fields, saw 33\\nSkipping line 872: expected 32 fields, saw 33\\nSkipping line 873: expected 32 fields, saw 33\\nSkipping line 874: expected 32 fields, saw 33\\nSkipping line 875: expected 32 fields, saw 33\\nSkipping line 876: expected 32 fields, saw 33\\nSkipping line 877: expected 32 fields, saw 33\\nSkipping line 878: expected 32 fields, saw 33\\nSkipping line 879: expected 32 fields, saw 33\\nSkipping line 880: expected 32 fields, saw 33\\nSkipping line 881: expected 32 fields, saw 33\\nSkipping line 882: expected 32 fields, saw 33\\nSkipping line 883: expected 32 fields, saw 33\\nSkipping line 884: expected 32 fields, saw 33\\nSkipping line 885: expected 32 fields, saw 33\\nSkipping line 886: expected 32 fields, saw 33\\nSkipping line 887: expected 32 fields, saw 33\\nSkipping line 888: expected 32 fields, saw 33\\nSkipping line 889: expected 32 fields, saw 33\\nSkipping line 890: expected 32 fields, saw 33\\nSkipping line 891: expected 32 fields, saw 33\\nSkipping line 892: expected 32 fields, saw 33\\nSkipping line 893: expected 32 fields, saw 33\\nSkipping line 894: expected 32 fields, saw 33\\nSkipping line 895: expected 32 fields, saw 33\\nSkipping line 896: expected 32 fields, saw 33\\nSkipping line 897: expected 32 fields, saw 33\\nSkipping line 898: expected 32 fields, saw 33\\nSkipping line 899: expected 32 fields, saw 33\\nSkipping line 900: expected 32 fields, saw 33\\nSkipping line 901: expected 32 fields, saw 33\\nSkipping line 902: expected 32 fields, saw 33\\nSkipping line 903: expected 32 fields, saw 33\\nSkipping line 904: expected 32 fields, saw 33\\nSkipping line 905: expected 32 fields, saw 33\\nSkipping line 906: expected 32 fields, saw 33\\nSkipping line 907: expected 32 fields, saw 33\\nSkipping line 908: expected 32 fields, saw 33\\nSkipping line 909: expected 32 fields, saw 33\\nSkipping line 910: expected 32 fields, saw 33\\nSkipping line 911: expected 32 fields, saw 33\\nSkipping line 912: expected 32 fields, saw 33\\nSkipping line 913: expected 32 fields, saw 33\\nSkipping line 914: expected 32 fields, saw 33\\nSkipping line 915: expected 32 fields, saw 33\\nSkipping line 916: expected 32 fields, saw 33\\nSkipping line 917: expected 32 fields, saw 33\\nSkipping line 918: expected 32 fields, saw 33\\nSkipping line 919: expected 32 fields, saw 33\\nSkipping line 920: expected 32 fields, saw 33\\nSkipping line 921: expected 32 fields, saw 33\\nSkipping line 922: expected 32 fields, saw 33\\nSkipping line 923: expected 32 fields, saw 33\\nSkipping line 924: expected 32 fields, saw 33\\nSkipping line 925: expected 32 fields, saw 33\\nSkipping line 926: expected 32 fields, saw 33\\nSkipping line 927: expected 32 fields, saw 33\\nSkipping line 928: expected 32 fields, saw 33\\nSkipping line 929: expected 32 fields, saw 33\\nSkipping line 930: expected 32 fields, saw 33\\nSkipping line 931: expected 32 fields, saw 33\\nSkipping line 932: expected 32 fields, saw 33\\nSkipping line 933: expected 32 fields, saw 33\\nSkipping line 934: expected 32 fields, saw 33\\nSkipping line 935: expected 32 fields, saw 33\\nSkipping line 936: expected 32 fields, saw 33\\nSkipping line 937: expected 32 fields, saw 33\\nSkipping line 938: expected 32 fields, saw 33\\nSkipping line 939: expected 32 fields, saw 33\\nSkipping line 940: expected 32 fields, saw 33\\nSkipping line 941: expected 32 fields, saw 33\\nSkipping line 942: expected 32 fields, saw 33\\nSkipping line 943: expected 32 fields, saw 33\\nSkipping line 944: expected 32 fields, saw 33\\nSkipping line 945: expected 32 fields, saw 33\\nSkipping line 946: expected 32 fields, saw 33\\nSkipping line 947: expected 32 fields, saw 33\\nSkipping line 948: expected 32 fields, saw 33\\nSkipping line 949: expected 32 fields, saw 33\\nSkipping line 950: expected 32 fields, saw 33\\nSkipping line 951: expected 32 fields, saw 33\\nSkipping line 952: expected 32 fields, saw 33\\n'\n"
     ]
    }
   ],
   "source": [
    "state_user_data = pd.read_csv('./filtered_categories_csv/state_user_data.csv', error_bad_lines=False)"
   ]
  },
  {
   "cell_type": "code",
   "execution_count": 33,
   "metadata": {},
   "outputs": [],
   "source": [
    "cols = final_merged.columns.values.tolist()\n",
    "state_user_data.columns = cols"
   ]
  },
  {
   "cell_type": "code",
   "execution_count": 34,
   "metadata": {},
   "outputs": [
    {
     "name": "stdout",
     "output_type": "stream",
     "text": [
      "['user_id', 'review_count_x', 'yelping_since', 'useful_x', 'fans', 'elite_count', 'compliment_count', 'months_since', 'final_score', 'text', 'useful_y', 'business_id', 'cool', 'review_id', 'date', 'stars_x', 'funny', 'sentiment_score', 'address', 'attributes', 'categories', 'city', 'hours', 'is_open', 'latitude', 'longitude', 'name', 'neighborhood', 'postal_code', 'review_count_y', 'stars_y', 'state']\n"
     ]
    }
   ],
   "source": [
    "print(cols)"
   ]
  },
  {
   "cell_type": "code",
   "execution_count": 35,
   "metadata": {},
   "outputs": [
    {
     "data": {
      "text/plain": [
       "NV    75\n",
       "AZ    69\n",
       "WI    48\n",
       "PA    39\n",
       "NC    35\n",
       "IL    32\n",
       "SC    28\n",
       "OH    25\n",
       "NY    13\n",
       "IN    12\n",
       "CA    10\n",
       "AK    10\n",
       "AL    10\n",
       "AR    10\n",
       "FL    10\n",
       "MT    10\n",
       "VT     8\n",
       "CO     6\n",
       "DE     5\n",
       "WA     4\n",
       "NE     4\n",
       "MN     3\n",
       "VA     3\n",
       "KY     3\n",
       "GA     3\n",
       "Name: state, dtype: int64"
      ]
     },
     "execution_count": 35,
     "metadata": {},
     "output_type": "execute_result"
    }
   ],
   "source": [
    "state_user_data['state'].value_counts()"
   ]
  },
  {
   "cell_type": "code",
   "execution_count": 36,
   "metadata": {},
   "outputs": [],
   "source": [
    "texts = []\n",
    "for text in state_user_data['text']:\n",
    "    text = text.split(\"'\")[1]\n",
    "    texts.append(text)\n",
    "\n",
    "state_user_data['text'] = texts"
   ]
  },
  {
   "cell_type": "code",
   "execution_count": 42,
   "metadata": {},
   "outputs": [
    {
     "name": "stdout",
     "output_type": "stream",
     "text": [
      "348\n"
     ]
    }
   ],
   "source": [
    "print(len(state_user_data['business_id'].unique().tolist()))"
   ]
  },
  {
   "cell_type": "code",
   "execution_count": 40,
   "metadata": {},
   "outputs": [
    {
     "data": {
      "text/plain": [
       "(475, 32)"
      ]
     },
     "execution_count": 40,
     "metadata": {},
     "output_type": "execute_result"
    }
   ],
   "source": [
    "state_user_data.shape"
   ]
  },
  {
   "cell_type": "code",
   "execution_count": 44,
   "metadata": {},
   "outputs": [
    {
     "name": "stdout",
     "output_type": "stream",
     "text": [
      "['user_id', 'review_count_x', 'yelping_since', 'useful_x', 'fans', 'elite_count', 'compliment_count', 'months_since', 'final_score', 'text', 'useful_y', 'business_id', 'cool', 'review_id', 'date', 'stars_x', 'funny', 'sentiment_score', 'address', 'attributes', 'categories', 'city', 'hours', 'is_open', 'latitude', 'longitude', 'name', 'neighborhood', 'postal_code', 'review_count_y', 'stars_y', 'state']\n"
     ]
    }
   ],
   "source": [
    "print(state_user_data.columns.values.tolist())"
   ]
  },
  {
   "cell_type": "code",
   "execution_count": 45,
   "metadata": {},
   "outputs": [],
   "source": [
    "state_user_data = state_user_data.rename(columns={'review_count_x': 'user_reviews_count', 'useful_x': 'user_useful_reviews', \n",
    "                                                 'useful_y': 'user_review_useful_count', 'stars_x': 'user_review_stars', \n",
    "                                                 'review_count_y': 'business_review_count', 'stars_y': 'business_review_stars'})"
   ]
  },
  {
   "cell_type": "code",
   "execution_count": 47,
   "metadata": {},
   "outputs": [
    {
     "data": {
      "text/plain": [
       "(475, 32)"
      ]
     },
     "execution_count": 47,
     "metadata": {},
     "output_type": "execute_result"
    }
   ],
   "source": [
    "state_user_data.shape"
   ]
  },
  {
   "cell_type": "code",
   "execution_count": 49,
   "metadata": {},
   "outputs": [],
   "source": [
    "state_user_data.to_csv('./filtered_categories_csv/state_user_data.csv')"
   ]
  },
  {
   "cell_type": "code",
   "execution_count": 56,
   "metadata": {},
   "outputs": [],
   "source": [
    "state_new_data = pd.read_csv('./filtered_categories_csv/state_user_data_new.csv', names=state_user_data.columns.values.tolist())"
   ]
  },
  {
   "cell_type": "code",
   "execution_count": 57,
   "metadata": {},
   "outputs": [
    {
     "data": {
      "text/html": [
       "<div>\n",
       "<style scoped>\n",
       "    .dataframe tbody tr th:only-of-type {\n",
       "        vertical-align: middle;\n",
       "    }\n",
       "\n",
       "    .dataframe tbody tr th {\n",
       "        vertical-align: top;\n",
       "    }\n",
       "\n",
       "    .dataframe thead th {\n",
       "        text-align: right;\n",
       "    }\n",
       "</style>\n",
       "<table border=\"1\" class=\"dataframe\">\n",
       "  <thead>\n",
       "    <tr style=\"text-align: right;\">\n",
       "      <th></th>\n",
       "      <th>user_id</th>\n",
       "      <th>user_reviews_count</th>\n",
       "      <th>yelping_since</th>\n",
       "      <th>user_useful_reviews</th>\n",
       "      <th>fans</th>\n",
       "      <th>elite_count</th>\n",
       "      <th>compliment_count</th>\n",
       "      <th>months_since</th>\n",
       "      <th>final_score</th>\n",
       "      <th>text</th>\n",
       "      <th>...</th>\n",
       "      <th>hours</th>\n",
       "      <th>is_open</th>\n",
       "      <th>latitude</th>\n",
       "      <th>longitude</th>\n",
       "      <th>name</th>\n",
       "      <th>neighborhood</th>\n",
       "      <th>postal_code</th>\n",
       "      <th>business_review_count</th>\n",
       "      <th>business_review_stars</th>\n",
       "      <th>state</th>\n",
       "    </tr>\n",
       "  </thead>\n",
       "  <tbody>\n",
       "    <tr>\n",
       "      <th>0</th>\n",
       "      <td>6s-g2vFu12OemhiK3FJuOQ</td>\n",
       "      <td>2337</td>\n",
       "      <td>2/14/2007</td>\n",
       "      <td>187492</td>\n",
       "      <td>824</td>\n",
       "      <td>11</td>\n",
       "      <td>23361</td>\n",
       "      <td>134</td>\n",
       "      <td>9.659785</td>\n",
       "      <td>b'We had dinner at Rosemary\\'s on a Sunday las...</td>\n",
       "      <td>...</td>\n",
       "      <td>{'Monday': '17:30-22:00', 'Tuesday': '17:30-22...</td>\n",
       "      <td>0</td>\n",
       "      <td>36.142770</td>\n",
       "      <td>-115.269287</td>\n",
       "      <td>Rosemary's Restaurant</td>\n",
       "      <td>Westside</td>\n",
       "      <td>89117.0</td>\n",
       "      <td>323</td>\n",
       "      <td>4.5</td>\n",
       "      <td>NV</td>\n",
       "    </tr>\n",
       "    <tr>\n",
       "      <th>1</th>\n",
       "      <td>6s-g2vFu12OemhiK3FJuOQ</td>\n",
       "      <td>2337</td>\n",
       "      <td>2/14/2007</td>\n",
       "      <td>187492</td>\n",
       "      <td>824</td>\n",
       "      <td>11</td>\n",
       "      <td>23361</td>\n",
       "      <td>134</td>\n",
       "      <td>9.659785</td>\n",
       "      <td>b\"Fix's ambience is so-so. They would benefit ...</td>\n",
       "      <td>...</td>\n",
       "      <td>{'Monday': '17:00-23:00', 'Tuesday': '17:00-23...</td>\n",
       "      <td>1</td>\n",
       "      <td>36.113845</td>\n",
       "      <td>-115.175391</td>\n",
       "      <td>FIX</td>\n",
       "      <td>The Strip</td>\n",
       "      <td>89109.0</td>\n",
       "      <td>605</td>\n",
       "      <td>3.5</td>\n",
       "      <td>NV</td>\n",
       "    </tr>\n",
       "    <tr>\n",
       "      <th>2</th>\n",
       "      <td>6s-g2vFu12OemhiK3FJuOQ</td>\n",
       "      <td>2337</td>\n",
       "      <td>2/14/2007</td>\n",
       "      <td>187492</td>\n",
       "      <td>824</td>\n",
       "      <td>11</td>\n",
       "      <td>23361</td>\n",
       "      <td>134</td>\n",
       "      <td>9.659785</td>\n",
       "      <td>b'Lotus of Siam recommends folks make reservat...</td>\n",
       "      <td>...</td>\n",
       "      <td>{'Monday': '11:00-14:30', 'Tuesday': '11:00-14...</td>\n",
       "      <td>1</td>\n",
       "      <td>36.143450</td>\n",
       "      <td>-115.142780</td>\n",
       "      <td>Lotus of Siam</td>\n",
       "      <td>Downtown</td>\n",
       "      <td>89104.0</td>\n",
       "      <td>3964</td>\n",
       "      <td>4.0</td>\n",
       "      <td>NV</td>\n",
       "    </tr>\n",
       "    <tr>\n",
       "      <th>3</th>\n",
       "      <td>6s-g2vFu12OemhiK3FJuOQ</td>\n",
       "      <td>2337</td>\n",
       "      <td>2/14/2007</td>\n",
       "      <td>187492</td>\n",
       "      <td>824</td>\n",
       "      <td>11</td>\n",
       "      <td>23361</td>\n",
       "      <td>134</td>\n",
       "      <td>9.659785</td>\n",
       "      <td>b\"Ginseng BBQ was recommended by a few friends...</td>\n",
       "      <td>...</td>\n",
       "      <td>{'Monday': '0:00-0:00', 'Tuesday': '0:00-0:00'...</td>\n",
       "      <td>1</td>\n",
       "      <td>36.105019</td>\n",
       "      <td>-115.171768</td>\n",
       "      <td>Ginseng Korean BBQ II</td>\n",
       "      <td>The Strip</td>\n",
       "      <td>89109.0</td>\n",
       "      <td>291</td>\n",
       "      <td>3.0</td>\n",
       "      <td>NV</td>\n",
       "    </tr>\n",
       "    <tr>\n",
       "      <th>4</th>\n",
       "      <td>6s-g2vFu12OemhiK3FJuOQ</td>\n",
       "      <td>2337</td>\n",
       "      <td>2/14/2007</td>\n",
       "      <td>187492</td>\n",
       "      <td>824</td>\n",
       "      <td>11</td>\n",
       "      <td>23361</td>\n",
       "      <td>134</td>\n",
       "      <td>9.659785</td>\n",
       "      <td>b\"We attempted to walk to this In-N-Out (which...</td>\n",
       "      <td>...</td>\n",
       "      <td>{'Monday': '10:30-1:00', 'Tuesday': '10:30-1:0...</td>\n",
       "      <td>1</td>\n",
       "      <td>36.101320</td>\n",
       "      <td>-115.182186</td>\n",
       "      <td>In-N-Out Burger</td>\n",
       "      <td>NaN</td>\n",
       "      <td>89103.0</td>\n",
       "      <td>954</td>\n",
       "      <td>4.0</td>\n",
       "      <td>NV</td>\n",
       "    </tr>\n",
       "  </tbody>\n",
       "</table>\n",
       "<p>5 rows × 32 columns</p>\n",
       "</div>"
      ],
      "text/plain": [
       "                  user_id  user_reviews_count yelping_since  \\\n",
       "0  6s-g2vFu12OemhiK3FJuOQ                2337     2/14/2007   \n",
       "1  6s-g2vFu12OemhiK3FJuOQ                2337     2/14/2007   \n",
       "2  6s-g2vFu12OemhiK3FJuOQ                2337     2/14/2007   \n",
       "3  6s-g2vFu12OemhiK3FJuOQ                2337     2/14/2007   \n",
       "4  6s-g2vFu12OemhiK3FJuOQ                2337     2/14/2007   \n",
       "\n",
       "   user_useful_reviews  fans  elite_count  compliment_count  months_since  \\\n",
       "0               187492   824           11             23361           134   \n",
       "1               187492   824           11             23361           134   \n",
       "2               187492   824           11             23361           134   \n",
       "3               187492   824           11             23361           134   \n",
       "4               187492   824           11             23361           134   \n",
       "\n",
       "   final_score                                               text  ...   \\\n",
       "0     9.659785  b'We had dinner at Rosemary\\'s on a Sunday las...  ...    \n",
       "1     9.659785  b\"Fix's ambience is so-so. They would benefit ...  ...    \n",
       "2     9.659785  b'Lotus of Siam recommends folks make reservat...  ...    \n",
       "3     9.659785  b\"Ginseng BBQ was recommended by a few friends...  ...    \n",
       "4     9.659785  b\"We attempted to walk to this In-N-Out (which...  ...    \n",
       "\n",
       "                                               hours is_open   latitude  \\\n",
       "0  {'Monday': '17:30-22:00', 'Tuesday': '17:30-22...       0  36.142770   \n",
       "1  {'Monday': '17:00-23:00', 'Tuesday': '17:00-23...       1  36.113845   \n",
       "2  {'Monday': '11:00-14:30', 'Tuesday': '11:00-14...       1  36.143450   \n",
       "3  {'Monday': '0:00-0:00', 'Tuesday': '0:00-0:00'...       1  36.105019   \n",
       "4  {'Monday': '10:30-1:00', 'Tuesday': '10:30-1:0...       1  36.101320   \n",
       "\n",
       "    longitude                   name  neighborhood  postal_code  \\\n",
       "0 -115.269287  Rosemary's Restaurant      Westside      89117.0   \n",
       "1 -115.175391                    FIX     The Strip      89109.0   \n",
       "2 -115.142780          Lotus of Siam      Downtown      89104.0   \n",
       "3 -115.171768  Ginseng Korean BBQ II     The Strip      89109.0   \n",
       "4 -115.182186        In-N-Out Burger           NaN      89103.0   \n",
       "\n",
       "   business_review_count business_review_stars state  \n",
       "0                    323                   4.5    NV  \n",
       "1                    605                   3.5    NV  \n",
       "2                   3964                   4.0    NV  \n",
       "3                    291                   3.0    NV  \n",
       "4                    954                   4.0    NV  \n",
       "\n",
       "[5 rows x 32 columns]"
      ]
     },
     "execution_count": 57,
     "metadata": {},
     "output_type": "execute_result"
    }
   ],
   "source": [
    "state_new_data.head()"
   ]
  },
  {
   "cell_type": "code",
   "execution_count": 58,
   "metadata": {},
   "outputs": [
    {
     "data": {
      "text/plain": [
       "(476, 32)"
      ]
     },
     "execution_count": 58,
     "metadata": {},
     "output_type": "execute_result"
    }
   ],
   "source": [
    "state_new_data.shape"
   ]
  },
  {
   "cell_type": "code",
   "execution_count": 60,
   "metadata": {},
   "outputs": [],
   "source": [
    "for user in top_US_users:\n",
    "    temp = final_merged[final_merged['user_id'] == user].sort_values(['sentiment_score'], ascending=False)\n",
    "    temp.to_csv('./filtered_categories_csv/top_users.csv', mode='a', header=False)"
   ]
  },
  {
   "cell_type": "code",
   "execution_count": 70,
   "metadata": {},
   "outputs": [],
   "source": [
    "top_user_data = pd.read_csv('./filtered_categories_csv/top_users.csv', names=state_user_data.columns.values.tolist())"
   ]
  },
  {
   "cell_type": "code",
   "execution_count": null,
   "metadata": {},
   "outputs": [],
   "source": []
  },
  {
   "cell_type": "code",
   "execution_count": null,
   "metadata": {},
   "outputs": [],
   "source": []
  },
  {
   "cell_type": "code",
   "execution_count": 66,
   "metadata": {},
   "outputs": [],
   "source": [
    "top_user_data.to_csv('./filtered_categories_csv/top_users.csv')"
   ]
  },
  {
   "cell_type": "code",
   "execution_count": 83,
   "metadata": {},
   "outputs": [],
   "source": [
    "county_data = pd.read_csv('./AZ_user_data/az_data.csv', names=state_user_data.columns.values.tolist())"
   ]
  },
  {
   "cell_type": "code",
   "execution_count": 84,
   "metadata": {},
   "outputs": [
    {
     "data": {
      "text/plain": [
       "(1106, 32)"
      ]
     },
     "execution_count": 84,
     "metadata": {},
     "output_type": "execute_result"
    }
   ],
   "source": [
    "county_data.shape"
   ]
  },
  {
   "cell_type": "code",
   "execution_count": 85,
   "metadata": {},
   "outputs": [],
   "source": [
    "texts = []\n",
    "for text in county_data['text']:\n",
    "    text = text.split(\"'\")[1]\n",
    "    texts.append(text)\n",
    "\n",
    "county_data['text'] = texts"
   ]
  },
  {
   "cell_type": "code",
   "execution_count": 86,
   "metadata": {},
   "outputs": [],
   "source": [
    "county_data.to_csv('./filtered_categories_csv/az_county_data.csv')"
   ]
  },
  {
   "cell_type": "code",
   "execution_count": null,
   "metadata": {},
   "outputs": [],
   "source": []
  }
 ],
 "metadata": {
  "kernelspec": {
   "display_name": "Python 3",
   "language": "python",
   "name": "python3"
  },
  "language_info": {
   "codemirror_mode": {
    "name": "ipython",
    "version": 3
   },
   "file_extension": ".py",
   "mimetype": "text/x-python",
   "name": "python",
   "nbconvert_exporter": "python",
   "pygments_lexer": "ipython3",
   "version": "3.6.5"
  }
 },
 "nbformat": 4,
 "nbformat_minor": 2
}
